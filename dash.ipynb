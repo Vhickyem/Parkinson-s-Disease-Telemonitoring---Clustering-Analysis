{
 "cells": [
  {
   "cell_type": "code",
   "execution_count": 1,
   "id": "db2469c1",
   "metadata": {},
   "outputs": [],
   "source": [
    "import os\n",
    "import pandas as pd\n",
    "import numpy as np\n",
    "import matplotlib.pyplot as plt\n",
    "import seaborn as sns\n",
    "import plotly.express as px\n",
    "from scipy.stats import ttest_ind\n",
    "from sklearn.pipeline import make_pipeline\n",
    "from sklearn.preprocessing import StandardScaler, RobustScaler\n",
    "from sklearn.cluster import KMeans\n",
    "from sklearn.metrics import silhouette_score\n",
    "from sklearn.decomposition import PCA\n",
    "from dash import Input, Output, dcc, html\n",
    "from dash import Dash"
   ]
  },
  {
   "cell_type": "code",
   "execution_count": 2,
   "id": "6ba02aa4",
   "metadata": {},
   "outputs": [
    {
     "data": {
      "text/plain": [
       "\"C:\\\\Users\\\\USER\\\\Desktop\\\\My Project\\\\Parkinson's Disease Telemonitoring - Clustering\""
      ]
     },
     "execution_count": 2,
     "metadata": {},
     "output_type": "execute_result"
    }
   ],
   "source": [
    "os.chdir(r\"C:\\Users\\USER\\Desktop\\My Project\\Parkinson's Disease Telemonitoring - Clustering\")\n",
    "os.getcwd()"
   ]
  },
  {
   "cell_type": "code",
   "execution_count": 3,
   "id": "12fff52a",
   "metadata": {},
   "outputs": [],
   "source": [
    "# create a function to wrangle the data\n",
    "def wrangle(filepath):\n",
    "    df = pd.read_csv(filepath)\n",
    "    \n",
    "    return df"
   ]
  },
  {
   "cell_type": "code",
   "execution_count": 4,
   "id": "6f9441cc",
   "metadata": {},
   "outputs": [
    {
     "name": "stdout",
     "output_type": "stream",
     "text": [
      "Shape: (5875, 22)\n"
     ]
    },
    {
     "data": {
      "application/vnd.microsoft.datawrangler.viewer.v0+json": {
       "columns": [
        {
         "name": "index",
         "rawType": "int64",
         "type": "integer"
        },
        {
         "name": "subject#",
         "rawType": "int64",
         "type": "integer"
        },
        {
         "name": "age",
         "rawType": "int64",
         "type": "integer"
        },
        {
         "name": "sex",
         "rawType": "int64",
         "type": "integer"
        },
        {
         "name": "test_time",
         "rawType": "float64",
         "type": "float"
        },
        {
         "name": "motor_UPDRS",
         "rawType": "float64",
         "type": "float"
        },
        {
         "name": "total_UPDRS",
         "rawType": "float64",
         "type": "float"
        },
        {
         "name": "Jitter(%)",
         "rawType": "float64",
         "type": "float"
        },
        {
         "name": "Jitter(Abs)",
         "rawType": "float64",
         "type": "float"
        },
        {
         "name": "Jitter:RAP",
         "rawType": "float64",
         "type": "float"
        },
        {
         "name": "Jitter:PPQ5",
         "rawType": "float64",
         "type": "float"
        },
        {
         "name": "Jitter:DDP",
         "rawType": "float64",
         "type": "float"
        },
        {
         "name": "Shimmer",
         "rawType": "float64",
         "type": "float"
        },
        {
         "name": "Shimmer(dB)",
         "rawType": "float64",
         "type": "float"
        },
        {
         "name": "Shimmer:APQ3",
         "rawType": "float64",
         "type": "float"
        },
        {
         "name": "Shimmer:APQ5",
         "rawType": "float64",
         "type": "float"
        },
        {
         "name": "Shimmer:APQ11",
         "rawType": "float64",
         "type": "float"
        },
        {
         "name": "Shimmer:DDA",
         "rawType": "float64",
         "type": "float"
        },
        {
         "name": "NHR",
         "rawType": "float64",
         "type": "float"
        },
        {
         "name": "HNR",
         "rawType": "float64",
         "type": "float"
        },
        {
         "name": "RPDE",
         "rawType": "float64",
         "type": "float"
        },
        {
         "name": "DFA",
         "rawType": "float64",
         "type": "float"
        },
        {
         "name": "PPE",
         "rawType": "float64",
         "type": "float"
        }
       ],
       "ref": "651e72bf-b74b-4c7f-b52b-211a56ee1e8b",
       "rows": [
        [
         "0",
         "1",
         "72",
         "0",
         "5.6431",
         "28.199",
         "34.398",
         "0.00662",
         "3.38e-05",
         "0.00401",
         "0.00317",
         "0.01204",
         "0.02565",
         "0.23",
         "0.01438",
         "0.01309",
         "0.01662",
         "0.04314",
         "0.01429",
         "21.64",
         "0.41888",
         "0.54842",
         "0.16006"
        ],
        [
         "1",
         "1",
         "72",
         "0",
         "12.666",
         "28.447",
         "34.894",
         "0.003",
         "1.68e-05",
         "0.00132",
         "0.0015",
         "0.00395",
         "0.02024",
         "0.179",
         "0.00994",
         "0.01072",
         "0.01689",
         "0.02982",
         "0.011112",
         "27.183",
         "0.43493",
         "0.56477",
         "0.1081"
        ],
        [
         "2",
         "1",
         "72",
         "0",
         "19.681",
         "28.695",
         "35.389",
         "0.00481",
         "2.462e-05",
         "0.00205",
         "0.00208",
         "0.00616",
         "0.01675",
         "0.181",
         "0.00734",
         "0.00844",
         "0.01458",
         "0.02202",
         "0.02022",
         "23.047",
         "0.46222",
         "0.54405",
         "0.21014"
        ],
        [
         "3",
         "1",
         "72",
         "0",
         "25.647",
         "28.905",
         "35.81",
         "0.00528",
         "2.657e-05",
         "0.00191",
         "0.00264",
         "0.00573",
         "0.02309",
         "0.327",
         "0.01106",
         "0.01265",
         "0.01963",
         "0.03317",
         "0.027837",
         "24.445",
         "0.4873",
         "0.57794",
         "0.33277"
        ],
        [
         "4",
         "1",
         "72",
         "0",
         "33.642",
         "29.187",
         "36.375",
         "0.00335",
         "2.014e-05",
         "0.00093",
         "0.0013",
         "0.00278",
         "0.01703",
         "0.176",
         "0.00679",
         "0.00929",
         "0.01819",
         "0.02036",
         "0.011625",
         "26.126",
         "0.47188",
         "0.56122",
         "0.19361"
        ]
       ],
       "shape": {
        "columns": 22,
        "rows": 5
       }
      },
      "text/html": [
       "<div>\n",
       "<style scoped>\n",
       "    .dataframe tbody tr th:only-of-type {\n",
       "        vertical-align: middle;\n",
       "    }\n",
       "\n",
       "    .dataframe tbody tr th {\n",
       "        vertical-align: top;\n",
       "    }\n",
       "\n",
       "    .dataframe thead th {\n",
       "        text-align: right;\n",
       "    }\n",
       "</style>\n",
       "<table border=\"1\" class=\"dataframe\">\n",
       "  <thead>\n",
       "    <tr style=\"text-align: right;\">\n",
       "      <th></th>\n",
       "      <th>subject#</th>\n",
       "      <th>age</th>\n",
       "      <th>sex</th>\n",
       "      <th>test_time</th>\n",
       "      <th>motor_UPDRS</th>\n",
       "      <th>total_UPDRS</th>\n",
       "      <th>Jitter(%)</th>\n",
       "      <th>Jitter(Abs)</th>\n",
       "      <th>Jitter:RAP</th>\n",
       "      <th>Jitter:PPQ5</th>\n",
       "      <th>...</th>\n",
       "      <th>Shimmer(dB)</th>\n",
       "      <th>Shimmer:APQ3</th>\n",
       "      <th>Shimmer:APQ5</th>\n",
       "      <th>Shimmer:APQ11</th>\n",
       "      <th>Shimmer:DDA</th>\n",
       "      <th>NHR</th>\n",
       "      <th>HNR</th>\n",
       "      <th>RPDE</th>\n",
       "      <th>DFA</th>\n",
       "      <th>PPE</th>\n",
       "    </tr>\n",
       "  </thead>\n",
       "  <tbody>\n",
       "    <tr>\n",
       "      <th>0</th>\n",
       "      <td>1</td>\n",
       "      <td>72</td>\n",
       "      <td>0</td>\n",
       "      <td>5.6431</td>\n",
       "      <td>28.199</td>\n",
       "      <td>34.398</td>\n",
       "      <td>0.00662</td>\n",
       "      <td>0.000034</td>\n",
       "      <td>0.00401</td>\n",
       "      <td>0.00317</td>\n",
       "      <td>...</td>\n",
       "      <td>0.230</td>\n",
       "      <td>0.01438</td>\n",
       "      <td>0.01309</td>\n",
       "      <td>0.01662</td>\n",
       "      <td>0.04314</td>\n",
       "      <td>0.014290</td>\n",
       "      <td>21.640</td>\n",
       "      <td>0.41888</td>\n",
       "      <td>0.54842</td>\n",
       "      <td>0.16006</td>\n",
       "    </tr>\n",
       "    <tr>\n",
       "      <th>1</th>\n",
       "      <td>1</td>\n",
       "      <td>72</td>\n",
       "      <td>0</td>\n",
       "      <td>12.6660</td>\n",
       "      <td>28.447</td>\n",
       "      <td>34.894</td>\n",
       "      <td>0.00300</td>\n",
       "      <td>0.000017</td>\n",
       "      <td>0.00132</td>\n",
       "      <td>0.00150</td>\n",
       "      <td>...</td>\n",
       "      <td>0.179</td>\n",
       "      <td>0.00994</td>\n",
       "      <td>0.01072</td>\n",
       "      <td>0.01689</td>\n",
       "      <td>0.02982</td>\n",
       "      <td>0.011112</td>\n",
       "      <td>27.183</td>\n",
       "      <td>0.43493</td>\n",
       "      <td>0.56477</td>\n",
       "      <td>0.10810</td>\n",
       "    </tr>\n",
       "    <tr>\n",
       "      <th>2</th>\n",
       "      <td>1</td>\n",
       "      <td>72</td>\n",
       "      <td>0</td>\n",
       "      <td>19.6810</td>\n",
       "      <td>28.695</td>\n",
       "      <td>35.389</td>\n",
       "      <td>0.00481</td>\n",
       "      <td>0.000025</td>\n",
       "      <td>0.00205</td>\n",
       "      <td>0.00208</td>\n",
       "      <td>...</td>\n",
       "      <td>0.181</td>\n",
       "      <td>0.00734</td>\n",
       "      <td>0.00844</td>\n",
       "      <td>0.01458</td>\n",
       "      <td>0.02202</td>\n",
       "      <td>0.020220</td>\n",
       "      <td>23.047</td>\n",
       "      <td>0.46222</td>\n",
       "      <td>0.54405</td>\n",
       "      <td>0.21014</td>\n",
       "    </tr>\n",
       "    <tr>\n",
       "      <th>3</th>\n",
       "      <td>1</td>\n",
       "      <td>72</td>\n",
       "      <td>0</td>\n",
       "      <td>25.6470</td>\n",
       "      <td>28.905</td>\n",
       "      <td>35.810</td>\n",
       "      <td>0.00528</td>\n",
       "      <td>0.000027</td>\n",
       "      <td>0.00191</td>\n",
       "      <td>0.00264</td>\n",
       "      <td>...</td>\n",
       "      <td>0.327</td>\n",
       "      <td>0.01106</td>\n",
       "      <td>0.01265</td>\n",
       "      <td>0.01963</td>\n",
       "      <td>0.03317</td>\n",
       "      <td>0.027837</td>\n",
       "      <td>24.445</td>\n",
       "      <td>0.48730</td>\n",
       "      <td>0.57794</td>\n",
       "      <td>0.33277</td>\n",
       "    </tr>\n",
       "    <tr>\n",
       "      <th>4</th>\n",
       "      <td>1</td>\n",
       "      <td>72</td>\n",
       "      <td>0</td>\n",
       "      <td>33.6420</td>\n",
       "      <td>29.187</td>\n",
       "      <td>36.375</td>\n",
       "      <td>0.00335</td>\n",
       "      <td>0.000020</td>\n",
       "      <td>0.00093</td>\n",
       "      <td>0.00130</td>\n",
       "      <td>...</td>\n",
       "      <td>0.176</td>\n",
       "      <td>0.00679</td>\n",
       "      <td>0.00929</td>\n",
       "      <td>0.01819</td>\n",
       "      <td>0.02036</td>\n",
       "      <td>0.011625</td>\n",
       "      <td>26.126</td>\n",
       "      <td>0.47188</td>\n",
       "      <td>0.56122</td>\n",
       "      <td>0.19361</td>\n",
       "    </tr>\n",
       "  </tbody>\n",
       "</table>\n",
       "<p>5 rows × 22 columns</p>\n",
       "</div>"
      ],
      "text/plain": [
       "   subject#  age  sex  test_time  motor_UPDRS  total_UPDRS  Jitter(%)  \\\n",
       "0         1   72    0     5.6431       28.199       34.398    0.00662   \n",
       "1         1   72    0    12.6660       28.447       34.894    0.00300   \n",
       "2         1   72    0    19.6810       28.695       35.389    0.00481   \n",
       "3         1   72    0    25.6470       28.905       35.810    0.00528   \n",
       "4         1   72    0    33.6420       29.187       36.375    0.00335   \n",
       "\n",
       "   Jitter(Abs)  Jitter:RAP  Jitter:PPQ5  ...  Shimmer(dB)  Shimmer:APQ3  \\\n",
       "0     0.000034     0.00401      0.00317  ...        0.230       0.01438   \n",
       "1     0.000017     0.00132      0.00150  ...        0.179       0.00994   \n",
       "2     0.000025     0.00205      0.00208  ...        0.181       0.00734   \n",
       "3     0.000027     0.00191      0.00264  ...        0.327       0.01106   \n",
       "4     0.000020     0.00093      0.00130  ...        0.176       0.00679   \n",
       "\n",
       "   Shimmer:APQ5  Shimmer:APQ11  Shimmer:DDA       NHR     HNR     RPDE  \\\n",
       "0       0.01309        0.01662      0.04314  0.014290  21.640  0.41888   \n",
       "1       0.01072        0.01689      0.02982  0.011112  27.183  0.43493   \n",
       "2       0.00844        0.01458      0.02202  0.020220  23.047  0.46222   \n",
       "3       0.01265        0.01963      0.03317  0.027837  24.445  0.48730   \n",
       "4       0.00929        0.01819      0.02036  0.011625  26.126  0.47188   \n",
       "\n",
       "       DFA      PPE  \n",
       "0  0.54842  0.16006  \n",
       "1  0.56477  0.10810  \n",
       "2  0.54405  0.21014  \n",
       "3  0.57794  0.33277  \n",
       "4  0.56122  0.19361  \n",
       "\n",
       "[5 rows x 22 columns]"
      ]
     },
     "execution_count": 4,
     "metadata": {},
     "output_type": "execute_result"
    }
   ],
   "source": [
    "df = wrangle(\"parkinsons.csv\")\n",
    "print(\"Shape:\", df.shape)\n",
    "df.head()"
   ]
  },
  {
   "cell_type": "code",
   "execution_count": 5,
   "id": "1a354636",
   "metadata": {},
   "outputs": [],
   "source": [
    "# copy data\n",
    "voice = df.copy()"
   ]
  },
  {
   "cell_type": "code",
   "execution_count": 6,
   "id": "bf12854e",
   "metadata": {},
   "outputs": [],
   "source": [
    "features = voice.drop(columns=[\"subject#\", \"sex\", \"test_time\", \"total_UPDRS\",\n",
    "                                \"motor_UPDRS\", \"age\", \"Jitter(Abs)\", \"Jitter:RAP\",\n",
    "                                \"Shimmer:APQ3\", \"Shimmer:APQ5\", \"Shimmer:APQ11\",\n",
    "                                \"RPDE\", \"DFA\"])\n",
    "X = features"
   ]
  },
  {
   "cell_type": "code",
   "execution_count": 7,
   "id": "7966dd86",
   "metadata": {},
   "outputs": [],
   "source": [
    "# Create the app layout\n",
    "\n",
    "## Instantiate the application\n",
    "app = Dash(__name__)\n",
    "## Colors\n",
    "colors = {\n",
    "    \"background\": \"#1e1e1e\",   # Charcoal Grey\n",
    "    \"text\": \"#ffffff\",         # White\n",
    "    \"accent\": \"#2ecc71\"        # Emerald Green\n",
    "}\n",
    "\n",
    "## App layout\n",
    "app.layout = html.Div(\n",
    "    style={'backgroundColor': colors[\"background\"]},\n",
    "    children=[\n",
    "        # App title\n",
    "        html.H1(\n",
    "            children=\"Parkinson's Disease Progression\", \n",
    "            style={\n",
    "                'textAlign': 'center',\n",
    "                'color': colors['text']\n",
    "            }\n",
    "        ),\n",
    "        html.H2(\n",
    "            children=\"A Clustering Analysis of Patients' Vocal Features\",\n",
    "            style={\n",
    "                'textAlign': 'center',\n",
    "                'color': colors['text']\n",
    "            }),\n",
    "        \n",
    "        # Add Slider\n",
    "        html.H2(children=\"K-Means Clustering\",\n",
    "                style={'color': colors['text']}\n",
    "        ),\n",
    "        html.H3(children=\"Number of Clusters (k)\",\n",
    "                style={'color': colors['text']}\n",
    "        ),\n",
    "        dcc.Slider(\n",
    "            min=2, max=12, step=1, value=2, id=\"k-slider\",\n",
    "            tooltip={\"placement\": \"bottom\", \"always_visible\": True},\n",
    "            updatemode=\"drag\"\n",
    "        ),\n",
    "        \n",
    "        # Add Section Metrics\n",
    "        html.Div(id=\"metrics\", style={'color': colors['accent']}), \n",
    "        # PCA scatter plot\n",
    "        dcc.Graph(id=\"pca-scatter\"),\n",
    "        # Add bar chart showing mean values for each group\n",
    "        dcc.Graph(id=\"kind-bar\"),\n",
    "        # Add bar chart showing mean values of UPDRS scores for each group\n",
    "        dcc.Graph(id=\"kind-bar2\")\n",
    "    ]\n",
    ")\n"
   ]
  },
  {
   "cell_type": "code",
   "execution_count": 8,
   "id": "c2874c00",
   "metadata": {},
   "outputs": [],
   "source": [
    "# Run functiom to get metrics\n",
    "def get_model_metrics(k, return_metrics):\n",
    "    \"\"\"Build ``KMeans`` model using selected features in \n",
    "    \n",
    "    Parameters\n",
    "    ----------\n",
    "    k : int, default=2\n",
    "        Number of Clusters.\n",
    "        \n",
    "    return_metrics : bool, default=False\n",
    "        If ``False``, returns ``KMeans`` model. If ``True`` returns ``dict``\n",
    "        with inertia and silhouette score.\n",
    "        \n",
    "    \"\"\"\n",
    "    model = make_pipeline(\n",
    "        StandardScaler(),\n",
    "        KMeans(n_clusters=k, random_state=42)\n",
    "    )\n",
    "    model.fit(X)\n",
    "    \n",
    "    if return_metrics:\n",
    "        # Calculate inertia\n",
    "        i = model.named_steps[\"kmeans\"].inertia_\n",
    "        # Calculate silhouette score\n",
    "        ss = silhouette_score(X, model.named_steps[\"kmeans\"].labels_)\n",
    "        # Put result into dictionary\n",
    "        metrics = {\n",
    "            \"inertia\": round(i),\n",
    "            \"silhouette\": round(ss, 3)\n",
    "        }\n",
    "        # Return dictionary to user\n",
    "        return metrics\n",
    "    \n",
    "    \n",
    "    return model"
   ]
  },
  {
   "cell_type": "code",
   "execution_count": 9,
   "id": "205f567a",
   "metadata": {},
   "outputs": [],
   "source": [
    "# Add a callback decorator\n",
    "@app.callback(\n",
    "    Output(\"metrics\", \"children\"),\n",
    "    Input(\"k-slider\", \"value\")\n",
    ")\n",
    "def serve_metrics(k=2):\n",
    "    \"\"\"Returns list of H3 elements containing inertia and silhouette scores\n",
    "    for KMeans model.\"\"\"\n",
    "    \n",
    "    # Get metrics\n",
    "    metrics = get_model_metrics(k=k, return_metrics=True)\n",
    "    \n",
    "    # Add metrics to HTML elements (with theme colors)\n",
    "    text = [\n",
    "        html.H3(\n",
    "            f\"Inertia: {metrics['inertia']}\",\n",
    "            style={'color': colors[\"accent\"]}  # Emerald green for highlight\n",
    "        ),\n",
    "        html.H3(\n",
    "            f\"Silhouette Score: {metrics['silhouette']}\",\n",
    "            style={'color': colors[\"accent\"]}\n",
    "        )\n",
    "    ]\n",
    "    \n",
    "    return text\n"
   ]
  },
  {
   "cell_type": "code",
   "execution_count": 10,
   "id": "95213d49",
   "metadata": {},
   "outputs": [],
   "source": [
    "# Create function that takes in a dataframe and return a PCA \n",
    "# reduced dataframe\n",
    "def get_pca_labels(k=2):\n",
    "    \"\"\"``KMeans`` labels\n",
    "\n",
    "    Parameters\n",
    "    ----------\n",
    "        k : int, default=2.\n",
    "    \"\"\"\n",
    "    # Build transformer\n",
    "    transformer = PCA(n_components=2, random_state=42)\n",
    "    \n",
    "    # Transform data\n",
    "    X_t = transformer.fit_transform(X)\n",
    "    X_pca = pd.DataFrame(X_t, columns=[\"PC1\", \"PC2\"])\n",
    "    \n",
    "    # Add labels\n",
    "    model = get_model_metrics(k=k, return_metrics=False)\n",
    "    X_pca[\"labels\"] = model.named_steps[\"kmeans\"].labels_.astype(str)\n",
    "    X_pca.sort_values(\"labels\", inplace=True)\n",
    "    \n",
    "    return X_pca"
   ]
  },
  {
   "cell_type": "code",
   "execution_count": 11,
   "id": "de8fd5a1",
   "metadata": {},
   "outputs": [],
   "source": [
    "@app.callback(\n",
    "    Output(\"pca-scatter\", \"figure\"),\n",
    "    Input(\"k-slider\", \"value\")\n",
    ")\n",
    "def serve_scatter_plot(k):\n",
    "    \"\"\"Build 2D scatter plot of dataframe with KMeans labels.\"\"\"\n",
    "    fig = px.scatter(\n",
    "        data_frame=get_pca_labels(k=k),\n",
    "        x=\"PC1\",\n",
    "        y=\"PC2\",\n",
    "        color=\"labels\",\n",
    "        title=\"PCA Representation of Clusters\",\n",
    "        color_discrete_sequence=px.colors.qualitative.Set2  # soft but visible colors\n",
    "    )\n",
    "    fig.update_layout(\n",
    "        plot_bgcolor=colors[\"background\"],\n",
    "        paper_bgcolor=colors[\"background\"],\n",
    "        font=dict(color=colors[\"text\"]),\n",
    "        title=dict(font=dict(color=colors[\"accent\"])),  # emerald green accent\n",
    "        xaxis_title=\"PC1\",\n",
    "        yaxis_title=\"PC2\",\n",
    "        xaxis=dict(color=colors[\"text\"]),\n",
    "        yaxis=dict(color=colors[\"text\"])\n",
    "    )\n",
    "    return fig\n"
   ]
  },
  {
   "cell_type": "code",
   "execution_count": 12,
   "id": "581521cc",
   "metadata": {},
   "outputs": [],
   "source": [
    "# create a function that gets the mean of the clustered group and turns into dataframe\n",
    "def get_cluster_mean(k=2):\n",
    "    \"\"\"Get mean values for each cluster\n",
    "    \n",
    "    Parameters\n",
    "    ----------\n",
    "    k : int, default=2\n",
    "        Number of clusters.\n",
    "    \"\"\"\n",
    "    \n",
    "    model = get_model_metrics(k=k, return_metrics=False)\n",
    "    xgb = X.groupby(model.named_steps[\"kmeans\"].labels_).mean()\n",
    "    return xgb"
   ]
  },
  {
   "cell_type": "code",
   "execution_count": 13,
   "id": "a0d7fe1b",
   "metadata": {},
   "outputs": [],
   "source": [
    "@app.callback(\n",
    "    Output(\"kind-bar\", \"figure\"),\n",
    "    Input(\"k-slider\", \"value\")\n",
    ")\n",
    "def serve_cluster_mean(k):\n",
    "    \"\"\"Plot a bar chart showing the mean features of each cluster.\"\"\"\n",
    "    fig = px.bar(\n",
    "        data_frame=get_cluster_mean(k=k),\n",
    "        barmode=\"group\",\n",
    "        title=\"Mean Features of Each Cluster\"\n",
    "    )\n",
    "    \n",
    "    fig.update_layout(\n",
    "        plot_bgcolor=colors[\"background\"],\n",
    "        paper_bgcolor=colors[\"background\"],\n",
    "        font=dict(color=colors[\"text\"]),\n",
    "        title=dict(font=dict(color=colors[\"accent\"])),\n",
    "        legend_title=dict(font=dict(color=colors[\"accent\"]))\n",
    "    )\n",
    "    \n",
    "    return fig\n"
   ]
  },
  {
   "cell_type": "code",
   "execution_count": 14,
   "id": "a2d19100",
   "metadata": {},
   "outputs": [],
   "source": [
    "# Create a function that checks mean UPDRS score for each cluster\n",
    "def get_updrs_scores(k=2):\n",
    "    \"\"\"Get mean UPDRS scores for each cluster and returns a dataframe\n",
    "\n",
    "    Parameters\n",
    "    ---------\n",
    "        k : int default=2.\n",
    "    \"\"\"\n",
    "    model = get_model_metrics(k=k, return_metrics=False)\n",
    "    updrs_summary = voice.groupby(model.named_steps[\"kmeans\"].labels_)[[\"motor_UPDRS\", \"total_UPDRS\"]].agg(\"mean\").T\n",
    "    return updrs_summary"
   ]
  },
  {
   "cell_type": "code",
   "execution_count": 15,
   "id": "012e3cdd",
   "metadata": {},
   "outputs": [],
   "source": [
    "@app.callback(\n",
    "    Output(\"kind-bar2\", \"figure\"),\n",
    "    Input(\"k-slider\", \"value\")\n",
    ")\n",
    "def serve_updrs_scores(k=2):\n",
    "    \"\"\"Plot mean UPDRS scores and return a bar plot.\"\"\"\n",
    "    \n",
    "    fig = px.bar(\n",
    "        data_frame=get_updrs_scores(k=k),\n",
    "        barmode=\"group\",\n",
    "        title=\"Mean UPDRS Scores for Each Patient Cluster\"\n",
    "    )\n",
    "    \n",
    "    fig.update_layout(\n",
    "        plot_bgcolor=colors[\"background\"],\n",
    "        paper_bgcolor=colors[\"background\"],\n",
    "        font=dict(color=colors[\"text\"]),\n",
    "        title=dict(font=dict(color=colors[\"accent\"])),\n",
    "        xaxis=dict(title=dict(text=\"UPDRS Variables\", font=dict(color=colors[\"accent\"]))),\n",
    "        yaxis=dict(title=dict(text=\"Scores\", font=dict(color=colors[\"accent\"]))),\n",
    "        legend_title=dict(text=\"Patient Clusters\", font=dict(color=colors[\"accent\"]))\n",
    "    )\n",
    "    \n",
    "    return fig\n"
   ]
  },
  {
   "cell_type": "code",
   "execution_count": 16,
   "id": "e53358ce",
   "metadata": {},
   "outputs": [
    {
     "data": {
      "application/vnd.plotly.v1+json": {
       "config": {
        "plotlyServerURL": "https://plot.ly"
       },
       "data": [
        {
         "alignmentgroup": "True",
         "hovertemplate": "variable=0<br>index=%{x}<br>value=%{y}<extra></extra>",
         "legendgroup": "0",
         "marker": {
          "color": "#636efa",
          "pattern": {
           "shape": ""
          }
         },
         "name": "0",
         "offsetgroup": "0",
         "orientation": "v",
         "showlegend": true,
         "textposition": "auto",
         "type": "bar",
         "x": [
          "motor_UPDRS",
          "total_UPDRS"
         ],
         "xaxis": "x",
         "y": {
          "bdata": "q5SLsL84NUBAfnoZrvQ8QA==",
          "dtype": "f8"
         },
         "yaxis": "y"
        },
        {
         "alignmentgroup": "True",
         "hovertemplate": "variable=1<br>index=%{x}<br>value=%{y}<extra></extra>",
         "legendgroup": "1",
         "marker": {
          "color": "#EF553B",
          "pattern": {
           "shape": ""
          }
         },
         "name": "1",
         "offsetgroup": "1",
         "orientation": "v",
         "showlegend": true,
         "textposition": "auto",
         "type": "bar",
         "x": [
          "motor_UPDRS",
          "total_UPDRS"
         ],
         "xaxis": "x",
         "y": {
          "bdata": "5SLNOuaGN0D0OAmrpeg+QA==",
          "dtype": "f8"
         },
         "yaxis": "y"
        }
       ],
       "layout": {
        "barmode": "group",
        "font": {
         "color": "#ffffff"
        },
        "legend": {
         "title": {
          "font": {
           "color": "#2ecc71"
          },
          "text": "Patient Clusters"
         },
         "tracegroupgap": 0
        },
        "paper_bgcolor": "#1e1e1e",
        "plot_bgcolor": "#1e1e1e",
        "template": {
         "data": {
          "bar": [
           {
            "error_x": {
             "color": "#2a3f5f"
            },
            "error_y": {
             "color": "#2a3f5f"
            },
            "marker": {
             "line": {
              "color": "#E5ECF6",
              "width": 0.5
             },
             "pattern": {
              "fillmode": "overlay",
              "size": 10,
              "solidity": 0.2
             }
            },
            "type": "bar"
           }
          ],
          "barpolar": [
           {
            "marker": {
             "line": {
              "color": "#E5ECF6",
              "width": 0.5
             },
             "pattern": {
              "fillmode": "overlay",
              "size": 10,
              "solidity": 0.2
             }
            },
            "type": "barpolar"
           }
          ],
          "carpet": [
           {
            "aaxis": {
             "endlinecolor": "#2a3f5f",
             "gridcolor": "white",
             "linecolor": "white",
             "minorgridcolor": "white",
             "startlinecolor": "#2a3f5f"
            },
            "baxis": {
             "endlinecolor": "#2a3f5f",
             "gridcolor": "white",
             "linecolor": "white",
             "minorgridcolor": "white",
             "startlinecolor": "#2a3f5f"
            },
            "type": "carpet"
           }
          ],
          "choropleth": [
           {
            "colorbar": {
             "outlinewidth": 0,
             "ticks": ""
            },
            "type": "choropleth"
           }
          ],
          "contour": [
           {
            "colorbar": {
             "outlinewidth": 0,
             "ticks": ""
            },
            "colorscale": [
             [
              0,
              "#0d0887"
             ],
             [
              0.1111111111111111,
              "#46039f"
             ],
             [
              0.2222222222222222,
              "#7201a8"
             ],
             [
              0.3333333333333333,
              "#9c179e"
             ],
             [
              0.4444444444444444,
              "#bd3786"
             ],
             [
              0.5555555555555556,
              "#d8576b"
             ],
             [
              0.6666666666666666,
              "#ed7953"
             ],
             [
              0.7777777777777778,
              "#fb9f3a"
             ],
             [
              0.8888888888888888,
              "#fdca26"
             ],
             [
              1,
              "#f0f921"
             ]
            ],
            "type": "contour"
           }
          ],
          "contourcarpet": [
           {
            "colorbar": {
             "outlinewidth": 0,
             "ticks": ""
            },
            "type": "contourcarpet"
           }
          ],
          "heatmap": [
           {
            "colorbar": {
             "outlinewidth": 0,
             "ticks": ""
            },
            "colorscale": [
             [
              0,
              "#0d0887"
             ],
             [
              0.1111111111111111,
              "#46039f"
             ],
             [
              0.2222222222222222,
              "#7201a8"
             ],
             [
              0.3333333333333333,
              "#9c179e"
             ],
             [
              0.4444444444444444,
              "#bd3786"
             ],
             [
              0.5555555555555556,
              "#d8576b"
             ],
             [
              0.6666666666666666,
              "#ed7953"
             ],
             [
              0.7777777777777778,
              "#fb9f3a"
             ],
             [
              0.8888888888888888,
              "#fdca26"
             ],
             [
              1,
              "#f0f921"
             ]
            ],
            "type": "heatmap"
           }
          ],
          "histogram": [
           {
            "marker": {
             "pattern": {
              "fillmode": "overlay",
              "size": 10,
              "solidity": 0.2
             }
            },
            "type": "histogram"
           }
          ],
          "histogram2d": [
           {
            "colorbar": {
             "outlinewidth": 0,
             "ticks": ""
            },
            "colorscale": [
             [
              0,
              "#0d0887"
             ],
             [
              0.1111111111111111,
              "#46039f"
             ],
             [
              0.2222222222222222,
              "#7201a8"
             ],
             [
              0.3333333333333333,
              "#9c179e"
             ],
             [
              0.4444444444444444,
              "#bd3786"
             ],
             [
              0.5555555555555556,
              "#d8576b"
             ],
             [
              0.6666666666666666,
              "#ed7953"
             ],
             [
              0.7777777777777778,
              "#fb9f3a"
             ],
             [
              0.8888888888888888,
              "#fdca26"
             ],
             [
              1,
              "#f0f921"
             ]
            ],
            "type": "histogram2d"
           }
          ],
          "histogram2dcontour": [
           {
            "colorbar": {
             "outlinewidth": 0,
             "ticks": ""
            },
            "colorscale": [
             [
              0,
              "#0d0887"
             ],
             [
              0.1111111111111111,
              "#46039f"
             ],
             [
              0.2222222222222222,
              "#7201a8"
             ],
             [
              0.3333333333333333,
              "#9c179e"
             ],
             [
              0.4444444444444444,
              "#bd3786"
             ],
             [
              0.5555555555555556,
              "#d8576b"
             ],
             [
              0.6666666666666666,
              "#ed7953"
             ],
             [
              0.7777777777777778,
              "#fb9f3a"
             ],
             [
              0.8888888888888888,
              "#fdca26"
             ],
             [
              1,
              "#f0f921"
             ]
            ],
            "type": "histogram2dcontour"
           }
          ],
          "mesh3d": [
           {
            "colorbar": {
             "outlinewidth": 0,
             "ticks": ""
            },
            "type": "mesh3d"
           }
          ],
          "parcoords": [
           {
            "line": {
             "colorbar": {
              "outlinewidth": 0,
              "ticks": ""
             }
            },
            "type": "parcoords"
           }
          ],
          "pie": [
           {
            "automargin": true,
            "type": "pie"
           }
          ],
          "scatter": [
           {
            "fillpattern": {
             "fillmode": "overlay",
             "size": 10,
             "solidity": 0.2
            },
            "type": "scatter"
           }
          ],
          "scatter3d": [
           {
            "line": {
             "colorbar": {
              "outlinewidth": 0,
              "ticks": ""
             }
            },
            "marker": {
             "colorbar": {
              "outlinewidth": 0,
              "ticks": ""
             }
            },
            "type": "scatter3d"
           }
          ],
          "scattercarpet": [
           {
            "marker": {
             "colorbar": {
              "outlinewidth": 0,
              "ticks": ""
             }
            },
            "type": "scattercarpet"
           }
          ],
          "scattergeo": [
           {
            "marker": {
             "colorbar": {
              "outlinewidth": 0,
              "ticks": ""
             }
            },
            "type": "scattergeo"
           }
          ],
          "scattergl": [
           {
            "marker": {
             "colorbar": {
              "outlinewidth": 0,
              "ticks": ""
             }
            },
            "type": "scattergl"
           }
          ],
          "scattermap": [
           {
            "marker": {
             "colorbar": {
              "outlinewidth": 0,
              "ticks": ""
             }
            },
            "type": "scattermap"
           }
          ],
          "scattermapbox": [
           {
            "marker": {
             "colorbar": {
              "outlinewidth": 0,
              "ticks": ""
             }
            },
            "type": "scattermapbox"
           }
          ],
          "scatterpolar": [
           {
            "marker": {
             "colorbar": {
              "outlinewidth": 0,
              "ticks": ""
             }
            },
            "type": "scatterpolar"
           }
          ],
          "scatterpolargl": [
           {
            "marker": {
             "colorbar": {
              "outlinewidth": 0,
              "ticks": ""
             }
            },
            "type": "scatterpolargl"
           }
          ],
          "scatterternary": [
           {
            "marker": {
             "colorbar": {
              "outlinewidth": 0,
              "ticks": ""
             }
            },
            "type": "scatterternary"
           }
          ],
          "surface": [
           {
            "colorbar": {
             "outlinewidth": 0,
             "ticks": ""
            },
            "colorscale": [
             [
              0,
              "#0d0887"
             ],
             [
              0.1111111111111111,
              "#46039f"
             ],
             [
              0.2222222222222222,
              "#7201a8"
             ],
             [
              0.3333333333333333,
              "#9c179e"
             ],
             [
              0.4444444444444444,
              "#bd3786"
             ],
             [
              0.5555555555555556,
              "#d8576b"
             ],
             [
              0.6666666666666666,
              "#ed7953"
             ],
             [
              0.7777777777777778,
              "#fb9f3a"
             ],
             [
              0.8888888888888888,
              "#fdca26"
             ],
             [
              1,
              "#f0f921"
             ]
            ],
            "type": "surface"
           }
          ],
          "table": [
           {
            "cells": {
             "fill": {
              "color": "#EBF0F8"
             },
             "line": {
              "color": "white"
             }
            },
            "header": {
             "fill": {
              "color": "#C8D4E3"
             },
             "line": {
              "color": "white"
             }
            },
            "type": "table"
           }
          ]
         },
         "layout": {
          "annotationdefaults": {
           "arrowcolor": "#2a3f5f",
           "arrowhead": 0,
           "arrowwidth": 1
          },
          "autotypenumbers": "strict",
          "coloraxis": {
           "colorbar": {
            "outlinewidth": 0,
            "ticks": ""
           }
          },
          "colorscale": {
           "diverging": [
            [
             0,
             "#8e0152"
            ],
            [
             0.1,
             "#c51b7d"
            ],
            [
             0.2,
             "#de77ae"
            ],
            [
             0.3,
             "#f1b6da"
            ],
            [
             0.4,
             "#fde0ef"
            ],
            [
             0.5,
             "#f7f7f7"
            ],
            [
             0.6,
             "#e6f5d0"
            ],
            [
             0.7,
             "#b8e186"
            ],
            [
             0.8,
             "#7fbc41"
            ],
            [
             0.9,
             "#4d9221"
            ],
            [
             1,
             "#276419"
            ]
           ],
           "sequential": [
            [
             0,
             "#0d0887"
            ],
            [
             0.1111111111111111,
             "#46039f"
            ],
            [
             0.2222222222222222,
             "#7201a8"
            ],
            [
             0.3333333333333333,
             "#9c179e"
            ],
            [
             0.4444444444444444,
             "#bd3786"
            ],
            [
             0.5555555555555556,
             "#d8576b"
            ],
            [
             0.6666666666666666,
             "#ed7953"
            ],
            [
             0.7777777777777778,
             "#fb9f3a"
            ],
            [
             0.8888888888888888,
             "#fdca26"
            ],
            [
             1,
             "#f0f921"
            ]
           ],
           "sequentialminus": [
            [
             0,
             "#0d0887"
            ],
            [
             0.1111111111111111,
             "#46039f"
            ],
            [
             0.2222222222222222,
             "#7201a8"
            ],
            [
             0.3333333333333333,
             "#9c179e"
            ],
            [
             0.4444444444444444,
             "#bd3786"
            ],
            [
             0.5555555555555556,
             "#d8576b"
            ],
            [
             0.6666666666666666,
             "#ed7953"
            ],
            [
             0.7777777777777778,
             "#fb9f3a"
            ],
            [
             0.8888888888888888,
             "#fdca26"
            ],
            [
             1,
             "#f0f921"
            ]
           ]
          },
          "colorway": [
           "#636efa",
           "#EF553B",
           "#00cc96",
           "#ab63fa",
           "#FFA15A",
           "#19d3f3",
           "#FF6692",
           "#B6E880",
           "#FF97FF",
           "#FECB52"
          ],
          "font": {
           "color": "#2a3f5f"
          },
          "geo": {
           "bgcolor": "white",
           "lakecolor": "white",
           "landcolor": "#E5ECF6",
           "showlakes": true,
           "showland": true,
           "subunitcolor": "white"
          },
          "hoverlabel": {
           "align": "left"
          },
          "hovermode": "closest",
          "mapbox": {
           "style": "light"
          },
          "paper_bgcolor": "white",
          "plot_bgcolor": "#E5ECF6",
          "polar": {
           "angularaxis": {
            "gridcolor": "white",
            "linecolor": "white",
            "ticks": ""
           },
           "bgcolor": "#E5ECF6",
           "radialaxis": {
            "gridcolor": "white",
            "linecolor": "white",
            "ticks": ""
           }
          },
          "scene": {
           "xaxis": {
            "backgroundcolor": "#E5ECF6",
            "gridcolor": "white",
            "gridwidth": 2,
            "linecolor": "white",
            "showbackground": true,
            "ticks": "",
            "zerolinecolor": "white"
           },
           "yaxis": {
            "backgroundcolor": "#E5ECF6",
            "gridcolor": "white",
            "gridwidth": 2,
            "linecolor": "white",
            "showbackground": true,
            "ticks": "",
            "zerolinecolor": "white"
           },
           "zaxis": {
            "backgroundcolor": "#E5ECF6",
            "gridcolor": "white",
            "gridwidth": 2,
            "linecolor": "white",
            "showbackground": true,
            "ticks": "",
            "zerolinecolor": "white"
           }
          },
          "shapedefaults": {
           "line": {
            "color": "#2a3f5f"
           }
          },
          "ternary": {
           "aaxis": {
            "gridcolor": "white",
            "linecolor": "white",
            "ticks": ""
           },
           "baxis": {
            "gridcolor": "white",
            "linecolor": "white",
            "ticks": ""
           },
           "bgcolor": "#E5ECF6",
           "caxis": {
            "gridcolor": "white",
            "linecolor": "white",
            "ticks": ""
           }
          },
          "title": {
           "x": 0.05
          },
          "xaxis": {
           "automargin": true,
           "gridcolor": "white",
           "linecolor": "white",
           "ticks": "",
           "title": {
            "standoff": 15
           },
           "zerolinecolor": "white",
           "zerolinewidth": 2
          },
          "yaxis": {
           "automargin": true,
           "gridcolor": "white",
           "linecolor": "white",
           "ticks": "",
           "title": {
            "standoff": 15
           },
           "zerolinecolor": "white",
           "zerolinewidth": 2
          }
         }
        },
        "title": {
         "font": {
          "color": "#2ecc71"
         },
         "text": "Mean UPDRS Scores for Each Patient Cluster"
        },
        "xaxis": {
         "anchor": "y",
         "domain": [
          0,
          1
         ],
         "title": {
          "font": {
           "color": "#2ecc71"
          },
          "text": "UPDRS Variables"
         }
        },
        "yaxis": {
         "anchor": "x",
         "domain": [
          0,
          1
         ],
         "title": {
          "font": {
           "color": "#2ecc71"
          },
          "text": "Scores"
         }
        }
       }
      }
     },
     "metadata": {},
     "output_type": "display_data"
    }
   ],
   "source": [
    "serve_updrs_scores(k=2)"
   ]
  },
  {
   "cell_type": "code",
   "execution_count": 17,
   "id": "faa407e4",
   "metadata": {},
   "outputs": [
    {
     "data": {
      "text/html": [
       "\n",
       "        <iframe\n",
       "            width=\"100%\"\n",
       "            height=\"650\"\n",
       "            src=\"http://127.0.0.1:8050/\"\n",
       "            frameborder=\"0\"\n",
       "            allowfullscreen\n",
       "            \n",
       "        ></iframe>\n",
       "        "
      ],
      "text/plain": [
       "<IPython.lib.display.IFrame at 0x1ce1c9bf560>"
      ]
     },
     "metadata": {},
     "output_type": "display_data"
    }
   ],
   "source": [
    "app.run(debug=True)"
   ]
  }
 ],
 "metadata": {
  "kernelspec": {
   "display_name": "Python 3",
   "language": "python",
   "name": "python3"
  },
  "language_info": {
   "codemirror_mode": {
    "name": "ipython",
    "version": 3
   },
   "file_extension": ".py",
   "mimetype": "text/x-python",
   "name": "python",
   "nbconvert_exporter": "python",
   "pygments_lexer": "ipython3",
   "version": "3.12.6"
  }
 },
 "nbformat": 4,
 "nbformat_minor": 5
}
