{
 "cells": [
  {
   "cell_type": "code",
   "execution_count": 1,
   "id": "c98b07a9",
   "metadata": {},
   "outputs": [],
   "source": [
    "import os\n",
    "import pandas as pd\n",
    "import numpy as np\n",
    "import matplotlib.pyplot as plt\n",
    "import seaborn as sns\n",
    "import plotly.express as px\n",
    "from scipy.stats import ttest_ind\n",
    "from sklearn.pipeline import make_pipeline\n",
    "from sklearn.preprocessing import StandardScaler, RobustScaler\n",
    "from sklearn.cluster import KMeans\n",
    "from sklearn.metrics import silhouette_score\n",
    "from sklearn.decomposition import PCA\n"
   ]
  },
  {
   "cell_type": "code",
   "execution_count": 2,
   "id": "de490908",
   "metadata": {},
   "outputs": [
    {
     "data": {
      "text/plain": [
       "\"C:\\\\Users\\\\USER\\\\Desktop\\\\My Project\\\\Parkinson's Disease Telemonitoring - Clustering\""
      ]
     },
     "execution_count": 2,
     "metadata": {},
     "output_type": "execute_result"
    }
   ],
   "source": [
    "os.chdir(r\"C:\\Users\\USER\\Desktop\\My Project\\Parkinson's Disease Telemonitoring - Clustering\")\n",
    "os.getcwd()"
   ]
  },
  {
   "cell_type": "code",
   "execution_count": 3,
   "id": "f336095b",
   "metadata": {},
   "outputs": [],
   "source": [
    "# create a function to wrangle the data\n",
    "def wrangle(filepath):\n",
    "    df = pd.read_csv(filepath)\n",
    "    \n",
    "    return df"
   ]
  },
  {
   "cell_type": "code",
   "execution_count": 4,
   "id": "d884f080",
   "metadata": {},
   "outputs": [
    {
     "name": "stdout",
     "output_type": "stream",
     "text": [
      "Shape: (5875, 22)\n"
     ]
    },
    {
     "data": {
      "application/vnd.microsoft.datawrangler.viewer.v0+json": {
       "columns": [
        {
         "name": "index",
         "rawType": "int64",
         "type": "integer"
        },
        {
         "name": "subject#",
         "rawType": "int64",
         "type": "integer"
        },
        {
         "name": "age",
         "rawType": "int64",
         "type": "integer"
        },
        {
         "name": "sex",
         "rawType": "int64",
         "type": "integer"
        },
        {
         "name": "test_time",
         "rawType": "float64",
         "type": "float"
        },
        {
         "name": "motor_UPDRS",
         "rawType": "float64",
         "type": "float"
        },
        {
         "name": "total_UPDRS",
         "rawType": "float64",
         "type": "float"
        },
        {
         "name": "Jitter(%)",
         "rawType": "float64",
         "type": "float"
        },
        {
         "name": "Jitter(Abs)",
         "rawType": "float64",
         "type": "float"
        },
        {
         "name": "Jitter:RAP",
         "rawType": "float64",
         "type": "float"
        },
        {
         "name": "Jitter:PPQ5",
         "rawType": "float64",
         "type": "float"
        },
        {
         "name": "Jitter:DDP",
         "rawType": "float64",
         "type": "float"
        },
        {
         "name": "Shimmer",
         "rawType": "float64",
         "type": "float"
        },
        {
         "name": "Shimmer(dB)",
         "rawType": "float64",
         "type": "float"
        },
        {
         "name": "Shimmer:APQ3",
         "rawType": "float64",
         "type": "float"
        },
        {
         "name": "Shimmer:APQ5",
         "rawType": "float64",
         "type": "float"
        },
        {
         "name": "Shimmer:APQ11",
         "rawType": "float64",
         "type": "float"
        },
        {
         "name": "Shimmer:DDA",
         "rawType": "float64",
         "type": "float"
        },
        {
         "name": "NHR",
         "rawType": "float64",
         "type": "float"
        },
        {
         "name": "HNR",
         "rawType": "float64",
         "type": "float"
        },
        {
         "name": "RPDE",
         "rawType": "float64",
         "type": "float"
        },
        {
         "name": "DFA",
         "rawType": "float64",
         "type": "float"
        },
        {
         "name": "PPE",
         "rawType": "float64",
         "type": "float"
        }
       ],
       "ref": "cc23b356-5c47-47b5-9d3f-d15f13d54e61",
       "rows": [
        [
         "0",
         "1",
         "72",
         "0",
         "5.6431",
         "28.199",
         "34.398",
         "0.00662",
         "3.38e-05",
         "0.00401",
         "0.00317",
         "0.01204",
         "0.02565",
         "0.23",
         "0.01438",
         "0.01309",
         "0.01662",
         "0.04314",
         "0.01429",
         "21.64",
         "0.41888",
         "0.54842",
         "0.16006"
        ],
        [
         "1",
         "1",
         "72",
         "0",
         "12.666",
         "28.447",
         "34.894",
         "0.003",
         "1.68e-05",
         "0.00132",
         "0.0015",
         "0.00395",
         "0.02024",
         "0.179",
         "0.00994",
         "0.01072",
         "0.01689",
         "0.02982",
         "0.011112",
         "27.183",
         "0.43493",
         "0.56477",
         "0.1081"
        ],
        [
         "2",
         "1",
         "72",
         "0",
         "19.681",
         "28.695",
         "35.389",
         "0.00481",
         "2.462e-05",
         "0.00205",
         "0.00208",
         "0.00616",
         "0.01675",
         "0.181",
         "0.00734",
         "0.00844",
         "0.01458",
         "0.02202",
         "0.02022",
         "23.047",
         "0.46222",
         "0.54405",
         "0.21014"
        ],
        [
         "3",
         "1",
         "72",
         "0",
         "25.647",
         "28.905",
         "35.81",
         "0.00528",
         "2.657e-05",
         "0.00191",
         "0.00264",
         "0.00573",
         "0.02309",
         "0.327",
         "0.01106",
         "0.01265",
         "0.01963",
         "0.03317",
         "0.027837",
         "24.445",
         "0.4873",
         "0.57794",
         "0.33277"
        ],
        [
         "4",
         "1",
         "72",
         "0",
         "33.642",
         "29.187",
         "36.375",
         "0.00335",
         "2.014e-05",
         "0.00093",
         "0.0013",
         "0.00278",
         "0.01703",
         "0.176",
         "0.00679",
         "0.00929",
         "0.01819",
         "0.02036",
         "0.011625",
         "26.126",
         "0.47188",
         "0.56122",
         "0.19361"
        ]
       ],
       "shape": {
        "columns": 22,
        "rows": 5
       }
      },
      "text/html": [
       "<div>\n",
       "<style scoped>\n",
       "    .dataframe tbody tr th:only-of-type {\n",
       "        vertical-align: middle;\n",
       "    }\n",
       "\n",
       "    .dataframe tbody tr th {\n",
       "        vertical-align: top;\n",
       "    }\n",
       "\n",
       "    .dataframe thead th {\n",
       "        text-align: right;\n",
       "    }\n",
       "</style>\n",
       "<table border=\"1\" class=\"dataframe\">\n",
       "  <thead>\n",
       "    <tr style=\"text-align: right;\">\n",
       "      <th></th>\n",
       "      <th>subject#</th>\n",
       "      <th>age</th>\n",
       "      <th>sex</th>\n",
       "      <th>test_time</th>\n",
       "      <th>motor_UPDRS</th>\n",
       "      <th>total_UPDRS</th>\n",
       "      <th>Jitter(%)</th>\n",
       "      <th>Jitter(Abs)</th>\n",
       "      <th>Jitter:RAP</th>\n",
       "      <th>Jitter:PPQ5</th>\n",
       "      <th>...</th>\n",
       "      <th>Shimmer(dB)</th>\n",
       "      <th>Shimmer:APQ3</th>\n",
       "      <th>Shimmer:APQ5</th>\n",
       "      <th>Shimmer:APQ11</th>\n",
       "      <th>Shimmer:DDA</th>\n",
       "      <th>NHR</th>\n",
       "      <th>HNR</th>\n",
       "      <th>RPDE</th>\n",
       "      <th>DFA</th>\n",
       "      <th>PPE</th>\n",
       "    </tr>\n",
       "  </thead>\n",
       "  <tbody>\n",
       "    <tr>\n",
       "      <th>0</th>\n",
       "      <td>1</td>\n",
       "      <td>72</td>\n",
       "      <td>0</td>\n",
       "      <td>5.6431</td>\n",
       "      <td>28.199</td>\n",
       "      <td>34.398</td>\n",
       "      <td>0.00662</td>\n",
       "      <td>0.000034</td>\n",
       "      <td>0.00401</td>\n",
       "      <td>0.00317</td>\n",
       "      <td>...</td>\n",
       "      <td>0.230</td>\n",
       "      <td>0.01438</td>\n",
       "      <td>0.01309</td>\n",
       "      <td>0.01662</td>\n",
       "      <td>0.04314</td>\n",
       "      <td>0.014290</td>\n",
       "      <td>21.640</td>\n",
       "      <td>0.41888</td>\n",
       "      <td>0.54842</td>\n",
       "      <td>0.16006</td>\n",
       "    </tr>\n",
       "    <tr>\n",
       "      <th>1</th>\n",
       "      <td>1</td>\n",
       "      <td>72</td>\n",
       "      <td>0</td>\n",
       "      <td>12.6660</td>\n",
       "      <td>28.447</td>\n",
       "      <td>34.894</td>\n",
       "      <td>0.00300</td>\n",
       "      <td>0.000017</td>\n",
       "      <td>0.00132</td>\n",
       "      <td>0.00150</td>\n",
       "      <td>...</td>\n",
       "      <td>0.179</td>\n",
       "      <td>0.00994</td>\n",
       "      <td>0.01072</td>\n",
       "      <td>0.01689</td>\n",
       "      <td>0.02982</td>\n",
       "      <td>0.011112</td>\n",
       "      <td>27.183</td>\n",
       "      <td>0.43493</td>\n",
       "      <td>0.56477</td>\n",
       "      <td>0.10810</td>\n",
       "    </tr>\n",
       "    <tr>\n",
       "      <th>2</th>\n",
       "      <td>1</td>\n",
       "      <td>72</td>\n",
       "      <td>0</td>\n",
       "      <td>19.6810</td>\n",
       "      <td>28.695</td>\n",
       "      <td>35.389</td>\n",
       "      <td>0.00481</td>\n",
       "      <td>0.000025</td>\n",
       "      <td>0.00205</td>\n",
       "      <td>0.00208</td>\n",
       "      <td>...</td>\n",
       "      <td>0.181</td>\n",
       "      <td>0.00734</td>\n",
       "      <td>0.00844</td>\n",
       "      <td>0.01458</td>\n",
       "      <td>0.02202</td>\n",
       "      <td>0.020220</td>\n",
       "      <td>23.047</td>\n",
       "      <td>0.46222</td>\n",
       "      <td>0.54405</td>\n",
       "      <td>0.21014</td>\n",
       "    </tr>\n",
       "    <tr>\n",
       "      <th>3</th>\n",
       "      <td>1</td>\n",
       "      <td>72</td>\n",
       "      <td>0</td>\n",
       "      <td>25.6470</td>\n",
       "      <td>28.905</td>\n",
       "      <td>35.810</td>\n",
       "      <td>0.00528</td>\n",
       "      <td>0.000027</td>\n",
       "      <td>0.00191</td>\n",
       "      <td>0.00264</td>\n",
       "      <td>...</td>\n",
       "      <td>0.327</td>\n",
       "      <td>0.01106</td>\n",
       "      <td>0.01265</td>\n",
       "      <td>0.01963</td>\n",
       "      <td>0.03317</td>\n",
       "      <td>0.027837</td>\n",
       "      <td>24.445</td>\n",
       "      <td>0.48730</td>\n",
       "      <td>0.57794</td>\n",
       "      <td>0.33277</td>\n",
       "    </tr>\n",
       "    <tr>\n",
       "      <th>4</th>\n",
       "      <td>1</td>\n",
       "      <td>72</td>\n",
       "      <td>0</td>\n",
       "      <td>33.6420</td>\n",
       "      <td>29.187</td>\n",
       "      <td>36.375</td>\n",
       "      <td>0.00335</td>\n",
       "      <td>0.000020</td>\n",
       "      <td>0.00093</td>\n",
       "      <td>0.00130</td>\n",
       "      <td>...</td>\n",
       "      <td>0.176</td>\n",
       "      <td>0.00679</td>\n",
       "      <td>0.00929</td>\n",
       "      <td>0.01819</td>\n",
       "      <td>0.02036</td>\n",
       "      <td>0.011625</td>\n",
       "      <td>26.126</td>\n",
       "      <td>0.47188</td>\n",
       "      <td>0.56122</td>\n",
       "      <td>0.19361</td>\n",
       "    </tr>\n",
       "  </tbody>\n",
       "</table>\n",
       "<p>5 rows × 22 columns</p>\n",
       "</div>"
      ],
      "text/plain": [
       "   subject#  age  sex  test_time  motor_UPDRS  total_UPDRS  Jitter(%)  \\\n",
       "0         1   72    0     5.6431       28.199       34.398    0.00662   \n",
       "1         1   72    0    12.6660       28.447       34.894    0.00300   \n",
       "2         1   72    0    19.6810       28.695       35.389    0.00481   \n",
       "3         1   72    0    25.6470       28.905       35.810    0.00528   \n",
       "4         1   72    0    33.6420       29.187       36.375    0.00335   \n",
       "\n",
       "   Jitter(Abs)  Jitter:RAP  Jitter:PPQ5  ...  Shimmer(dB)  Shimmer:APQ3  \\\n",
       "0     0.000034     0.00401      0.00317  ...        0.230       0.01438   \n",
       "1     0.000017     0.00132      0.00150  ...        0.179       0.00994   \n",
       "2     0.000025     0.00205      0.00208  ...        0.181       0.00734   \n",
       "3     0.000027     0.00191      0.00264  ...        0.327       0.01106   \n",
       "4     0.000020     0.00093      0.00130  ...        0.176       0.00679   \n",
       "\n",
       "   Shimmer:APQ5  Shimmer:APQ11  Shimmer:DDA       NHR     HNR     RPDE  \\\n",
       "0       0.01309        0.01662      0.04314  0.014290  21.640  0.41888   \n",
       "1       0.01072        0.01689      0.02982  0.011112  27.183  0.43493   \n",
       "2       0.00844        0.01458      0.02202  0.020220  23.047  0.46222   \n",
       "3       0.01265        0.01963      0.03317  0.027837  24.445  0.48730   \n",
       "4       0.00929        0.01819      0.02036  0.011625  26.126  0.47188   \n",
       "\n",
       "       DFA      PPE  \n",
       "0  0.54842  0.16006  \n",
       "1  0.56477  0.10810  \n",
       "2  0.54405  0.21014  \n",
       "3  0.57794  0.33277  \n",
       "4  0.56122  0.19361  \n",
       "\n",
       "[5 rows x 22 columns]"
      ]
     },
     "execution_count": 4,
     "metadata": {},
     "output_type": "execute_result"
    }
   ],
   "source": [
    "df = wrangle(\"parkinsons.csv\")\n",
    "print(\"Shape:\", df.shape)\n",
    "df.head()"
   ]
  },
  {
   "cell_type": "code",
   "execution_count": 5,
   "id": "8f9ed546",
   "metadata": {},
   "outputs": [],
   "source": [
    "# copy data\n",
    "voice = df.copy()"
   ]
  },
  {
   "cell_type": "code",
   "execution_count": 6,
   "id": "28d6a1a6",
   "metadata": {},
   "outputs": [
    {
     "name": "stdout",
     "output_type": "stream",
     "text": [
      "<class 'pandas.core.frame.DataFrame'>\n",
      "RangeIndex: 5875 entries, 0 to 5874\n",
      "Data columns (total 22 columns):\n",
      " #   Column         Non-Null Count  Dtype  \n",
      "---  ------         --------------  -----  \n",
      " 0   subject#       5875 non-null   int64  \n",
      " 1   age            5875 non-null   int64  \n",
      " 2   sex            5875 non-null   int64  \n",
      " 3   test_time      5875 non-null   float64\n",
      " 4   motor_UPDRS    5875 non-null   float64\n",
      " 5   total_UPDRS    5875 non-null   float64\n",
      " 6   Jitter(%)      5875 non-null   float64\n",
      " 7   Jitter(Abs)    5875 non-null   float64\n",
      " 8   Jitter:RAP     5875 non-null   float64\n",
      " 9   Jitter:PPQ5    5875 non-null   float64\n",
      " 10  Jitter:DDP     5875 non-null   float64\n",
      " 11  Shimmer        5875 non-null   float64\n",
      " 12  Shimmer(dB)    5875 non-null   float64\n",
      " 13  Shimmer:APQ3   5875 non-null   float64\n",
      " 14  Shimmer:APQ5   5875 non-null   float64\n",
      " 15  Shimmer:APQ11  5875 non-null   float64\n",
      " 16  Shimmer:DDA    5875 non-null   float64\n",
      " 17  NHR            5875 non-null   float64\n",
      " 18  HNR            5875 non-null   float64\n",
      " 19  RPDE           5875 non-null   float64\n",
      " 20  DFA            5875 non-null   float64\n",
      " 21  PPE            5875 non-null   float64\n",
      "dtypes: float64(19), int64(3)\n",
      "memory usage: 1009.9 KB\n"
     ]
    }
   ],
   "source": [
    "# check data information\n",
    "df.info()"
   ]
  },
  {
   "cell_type": "code",
   "execution_count": 7,
   "id": "89a91b2e",
   "metadata": {},
   "outputs": [
    {
     "data": {
      "application/vnd.microsoft.datawrangler.viewer.v0+json": {
       "columns": [
        {
         "name": "index",
         "rawType": "object",
         "type": "string"
        },
        {
         "name": "subject#",
         "rawType": "float64",
         "type": "float"
        },
        {
         "name": "age",
         "rawType": "float64",
         "type": "float"
        },
        {
         "name": "sex",
         "rawType": "float64",
         "type": "float"
        },
        {
         "name": "test_time",
         "rawType": "float64",
         "type": "float"
        },
        {
         "name": "motor_UPDRS",
         "rawType": "float64",
         "type": "float"
        },
        {
         "name": "total_UPDRS",
         "rawType": "float64",
         "type": "float"
        },
        {
         "name": "Jitter(%)",
         "rawType": "float64",
         "type": "float"
        },
        {
         "name": "Jitter(Abs)",
         "rawType": "float64",
         "type": "float"
        },
        {
         "name": "Jitter:RAP",
         "rawType": "float64",
         "type": "float"
        },
        {
         "name": "Jitter:PPQ5",
         "rawType": "float64",
         "type": "float"
        },
        {
         "name": "Jitter:DDP",
         "rawType": "float64",
         "type": "float"
        },
        {
         "name": "Shimmer",
         "rawType": "float64",
         "type": "float"
        },
        {
         "name": "Shimmer(dB)",
         "rawType": "float64",
         "type": "float"
        },
        {
         "name": "Shimmer:APQ3",
         "rawType": "float64",
         "type": "float"
        },
        {
         "name": "Shimmer:APQ5",
         "rawType": "float64",
         "type": "float"
        },
        {
         "name": "Shimmer:APQ11",
         "rawType": "float64",
         "type": "float"
        },
        {
         "name": "Shimmer:DDA",
         "rawType": "float64",
         "type": "float"
        },
        {
         "name": "NHR",
         "rawType": "float64",
         "type": "float"
        },
        {
         "name": "HNR",
         "rawType": "float64",
         "type": "float"
        },
        {
         "name": "RPDE",
         "rawType": "float64",
         "type": "float"
        },
        {
         "name": "DFA",
         "rawType": "float64",
         "type": "float"
        },
        {
         "name": "PPE",
         "rawType": "float64",
         "type": "float"
        }
       ],
       "ref": "b6332fe6-3f9d-4539-a1b2-2ba885a8607c",
       "rows": [
        [
         "count",
         "5875.0",
         "5875.0",
         "5875.0",
         "5875.0",
         "5875.0",
         "5875.0",
         "5875.0",
         "5875.0",
         "5875.0",
         "5875.0",
         "5875.0",
         "5875.0",
         "5875.0",
         "5875.0",
         "5875.0",
         "5875.0",
         "5875.0",
         "5875.0",
         "5875.0",
         "5875.0",
         "5875.0",
         "5875.0"
        ],
        [
         "mean",
         "21.494127659574467",
         "64.80493617021277",
         "0.3177872340425532",
         "92.86372204595745",
         "21.29622854468085",
         "29.01894228085106",
         "0.006153761702127659",
         "4.4027118297872336e-05",
         "0.002987184680851064",
         "0.0032768510638297873",
         "0.00896167659574468",
         "0.03403521702127659",
         "0.31095999999999996",
         "0.017155703829787233",
         "0.02014418382978723",
         "0.027480861276595745",
         "0.05146694127659574",
         "0.032119817531914896",
         "21.679495148936173",
         "0.5414729327659574",
         "0.6532396561702127",
         "0.21958917906382977"
        ],
        [
         "std",
         "12.37227938339024",
         "8.821523737074168",
         "0.4656558987901527",
         "53.44560208094162",
         "8.12928152405538",
         "10.700283252298227",
         "0.005624228275535452",
         "3.5983358623203275e-05",
         "0.003123818979680306",
         "0.003731536417553257",
         "0.009371490415929312",
         "0.025835157855320177",
         "0.2302536630241899",
         "0.013237117657901035",
         "0.01666393287092939",
         "0.019986145415945615",
         "0.039711392659648716",
         "0.05969230560054468",
         "4.291096265936738",
         "0.10098578743602299",
         "0.07090199568934295",
         "0.09149849394998828"
        ],
        [
         "min",
         "1.0",
         "36.0",
         "0.0",
         "-4.2625",
         "5.0377",
         "7.0",
         "0.00083",
         "2.25e-06",
         "0.00033",
         "0.00043",
         "0.00098",
         "0.00306",
         "0.026",
         "0.00161",
         "0.00194",
         "0.00249",
         "0.00484",
         "0.000286",
         "1.659",
         "0.15102",
         "0.51404",
         "0.021983"
        ],
        [
         "25%",
         "10.0",
         "58.0",
         "0.0",
         "46.8475",
         "15.0",
         "21.371",
         "0.00358",
         "2.2434999999999998e-05",
         "0.00158",
         "0.00182",
         "0.00473",
         "0.019119999999999998",
         "0.175",
         "0.00928",
         "0.01079",
         "0.015665",
         "0.02783",
         "0.010955",
         "19.406",
         "0.469785",
         "0.59618",
         "0.15634"
        ],
        [
         "50%",
         "22.0",
         "65.0",
         "0.0",
         "91.523",
         "20.871",
         "27.576",
         "0.0049",
         "3.453e-05",
         "0.00225",
         "0.00249",
         "0.00675",
         "0.02751",
         "0.253",
         "0.0137",
         "0.01594",
         "0.02271",
         "0.04111",
         "0.018448",
         "21.92",
         "0.54225",
         "0.6436",
         "0.2055"
        ],
        [
         "75%",
         "33.0",
         "72.0",
         "1.0",
         "138.445",
         "27.5965",
         "36.399",
         "0.0068",
         "5.3335000000000003e-05",
         "0.00329",
         "0.00346",
         "0.00987",
         "0.039749999999999994",
         "0.365",
         "0.020575000000000003",
         "0.023755",
         "0.032715",
         "0.061735",
         "0.031463",
         "24.444000000000003",
         "0.614045",
         "0.711335",
         "0.26449"
        ],
        [
         "max",
         "42.0",
         "85.0",
         "1.0",
         "215.49",
         "39.511",
         "54.992",
         "0.09999",
         "0.00044559",
         "0.05754",
         "0.06956",
         "0.17263",
         "0.26863",
         "2.107",
         "0.16267",
         "0.16702",
         "0.27546",
         "0.48802",
         "0.74826",
         "37.875",
         "0.96608",
         "0.8656",
         "0.73173"
        ]
       ],
       "shape": {
        "columns": 22,
        "rows": 8
       }
      },
      "text/html": [
       "<div>\n",
       "<style scoped>\n",
       "    .dataframe tbody tr th:only-of-type {\n",
       "        vertical-align: middle;\n",
       "    }\n",
       "\n",
       "    .dataframe tbody tr th {\n",
       "        vertical-align: top;\n",
       "    }\n",
       "\n",
       "    .dataframe thead th {\n",
       "        text-align: right;\n",
       "    }\n",
       "</style>\n",
       "<table border=\"1\" class=\"dataframe\">\n",
       "  <thead>\n",
       "    <tr style=\"text-align: right;\">\n",
       "      <th></th>\n",
       "      <th>subject#</th>\n",
       "      <th>age</th>\n",
       "      <th>sex</th>\n",
       "      <th>test_time</th>\n",
       "      <th>motor_UPDRS</th>\n",
       "      <th>total_UPDRS</th>\n",
       "      <th>Jitter(%)</th>\n",
       "      <th>Jitter(Abs)</th>\n",
       "      <th>Jitter:RAP</th>\n",
       "      <th>Jitter:PPQ5</th>\n",
       "      <th>...</th>\n",
       "      <th>Shimmer(dB)</th>\n",
       "      <th>Shimmer:APQ3</th>\n",
       "      <th>Shimmer:APQ5</th>\n",
       "      <th>Shimmer:APQ11</th>\n",
       "      <th>Shimmer:DDA</th>\n",
       "      <th>NHR</th>\n",
       "      <th>HNR</th>\n",
       "      <th>RPDE</th>\n",
       "      <th>DFA</th>\n",
       "      <th>PPE</th>\n",
       "    </tr>\n",
       "  </thead>\n",
       "  <tbody>\n",
       "    <tr>\n",
       "      <th>count</th>\n",
       "      <td>5875.000000</td>\n",
       "      <td>5875.000000</td>\n",
       "      <td>5875.000000</td>\n",
       "      <td>5875.000000</td>\n",
       "      <td>5875.000000</td>\n",
       "      <td>5875.000000</td>\n",
       "      <td>5875.000000</td>\n",
       "      <td>5875.000000</td>\n",
       "      <td>5875.000000</td>\n",
       "      <td>5875.000000</td>\n",
       "      <td>...</td>\n",
       "      <td>5875.000000</td>\n",
       "      <td>5875.000000</td>\n",
       "      <td>5875.000000</td>\n",
       "      <td>5875.000000</td>\n",
       "      <td>5875.000000</td>\n",
       "      <td>5875.000000</td>\n",
       "      <td>5875.000000</td>\n",
       "      <td>5875.000000</td>\n",
       "      <td>5875.000000</td>\n",
       "      <td>5875.000000</td>\n",
       "    </tr>\n",
       "    <tr>\n",
       "      <th>mean</th>\n",
       "      <td>21.494128</td>\n",
       "      <td>64.804936</td>\n",
       "      <td>0.317787</td>\n",
       "      <td>92.863722</td>\n",
       "      <td>21.296229</td>\n",
       "      <td>29.018942</td>\n",
       "      <td>0.006154</td>\n",
       "      <td>0.000044</td>\n",
       "      <td>0.002987</td>\n",
       "      <td>0.003277</td>\n",
       "      <td>...</td>\n",
       "      <td>0.310960</td>\n",
       "      <td>0.017156</td>\n",
       "      <td>0.020144</td>\n",
       "      <td>0.027481</td>\n",
       "      <td>0.051467</td>\n",
       "      <td>0.032120</td>\n",
       "      <td>21.679495</td>\n",
       "      <td>0.541473</td>\n",
       "      <td>0.653240</td>\n",
       "      <td>0.219589</td>\n",
       "    </tr>\n",
       "    <tr>\n",
       "      <th>std</th>\n",
       "      <td>12.372279</td>\n",
       "      <td>8.821524</td>\n",
       "      <td>0.465656</td>\n",
       "      <td>53.445602</td>\n",
       "      <td>8.129282</td>\n",
       "      <td>10.700283</td>\n",
       "      <td>0.005624</td>\n",
       "      <td>0.000036</td>\n",
       "      <td>0.003124</td>\n",
       "      <td>0.003732</td>\n",
       "      <td>...</td>\n",
       "      <td>0.230254</td>\n",
       "      <td>0.013237</td>\n",
       "      <td>0.016664</td>\n",
       "      <td>0.019986</td>\n",
       "      <td>0.039711</td>\n",
       "      <td>0.059692</td>\n",
       "      <td>4.291096</td>\n",
       "      <td>0.100986</td>\n",
       "      <td>0.070902</td>\n",
       "      <td>0.091498</td>\n",
       "    </tr>\n",
       "    <tr>\n",
       "      <th>min</th>\n",
       "      <td>1.000000</td>\n",
       "      <td>36.000000</td>\n",
       "      <td>0.000000</td>\n",
       "      <td>-4.262500</td>\n",
       "      <td>5.037700</td>\n",
       "      <td>7.000000</td>\n",
       "      <td>0.000830</td>\n",
       "      <td>0.000002</td>\n",
       "      <td>0.000330</td>\n",
       "      <td>0.000430</td>\n",
       "      <td>...</td>\n",
       "      <td>0.026000</td>\n",
       "      <td>0.001610</td>\n",
       "      <td>0.001940</td>\n",
       "      <td>0.002490</td>\n",
       "      <td>0.004840</td>\n",
       "      <td>0.000286</td>\n",
       "      <td>1.659000</td>\n",
       "      <td>0.151020</td>\n",
       "      <td>0.514040</td>\n",
       "      <td>0.021983</td>\n",
       "    </tr>\n",
       "    <tr>\n",
       "      <th>25%</th>\n",
       "      <td>10.000000</td>\n",
       "      <td>58.000000</td>\n",
       "      <td>0.000000</td>\n",
       "      <td>46.847500</td>\n",
       "      <td>15.000000</td>\n",
       "      <td>21.371000</td>\n",
       "      <td>0.003580</td>\n",
       "      <td>0.000022</td>\n",
       "      <td>0.001580</td>\n",
       "      <td>0.001820</td>\n",
       "      <td>...</td>\n",
       "      <td>0.175000</td>\n",
       "      <td>0.009280</td>\n",
       "      <td>0.010790</td>\n",
       "      <td>0.015665</td>\n",
       "      <td>0.027830</td>\n",
       "      <td>0.010955</td>\n",
       "      <td>19.406000</td>\n",
       "      <td>0.469785</td>\n",
       "      <td>0.596180</td>\n",
       "      <td>0.156340</td>\n",
       "    </tr>\n",
       "    <tr>\n",
       "      <th>50%</th>\n",
       "      <td>22.000000</td>\n",
       "      <td>65.000000</td>\n",
       "      <td>0.000000</td>\n",
       "      <td>91.523000</td>\n",
       "      <td>20.871000</td>\n",
       "      <td>27.576000</td>\n",
       "      <td>0.004900</td>\n",
       "      <td>0.000035</td>\n",
       "      <td>0.002250</td>\n",
       "      <td>0.002490</td>\n",
       "      <td>...</td>\n",
       "      <td>0.253000</td>\n",
       "      <td>0.013700</td>\n",
       "      <td>0.015940</td>\n",
       "      <td>0.022710</td>\n",
       "      <td>0.041110</td>\n",
       "      <td>0.018448</td>\n",
       "      <td>21.920000</td>\n",
       "      <td>0.542250</td>\n",
       "      <td>0.643600</td>\n",
       "      <td>0.205500</td>\n",
       "    </tr>\n",
       "    <tr>\n",
       "      <th>75%</th>\n",
       "      <td>33.000000</td>\n",
       "      <td>72.000000</td>\n",
       "      <td>1.000000</td>\n",
       "      <td>138.445000</td>\n",
       "      <td>27.596500</td>\n",
       "      <td>36.399000</td>\n",
       "      <td>0.006800</td>\n",
       "      <td>0.000053</td>\n",
       "      <td>0.003290</td>\n",
       "      <td>0.003460</td>\n",
       "      <td>...</td>\n",
       "      <td>0.365000</td>\n",
       "      <td>0.020575</td>\n",
       "      <td>0.023755</td>\n",
       "      <td>0.032715</td>\n",
       "      <td>0.061735</td>\n",
       "      <td>0.031463</td>\n",
       "      <td>24.444000</td>\n",
       "      <td>0.614045</td>\n",
       "      <td>0.711335</td>\n",
       "      <td>0.264490</td>\n",
       "    </tr>\n",
       "    <tr>\n",
       "      <th>max</th>\n",
       "      <td>42.000000</td>\n",
       "      <td>85.000000</td>\n",
       "      <td>1.000000</td>\n",
       "      <td>215.490000</td>\n",
       "      <td>39.511000</td>\n",
       "      <td>54.992000</td>\n",
       "      <td>0.099990</td>\n",
       "      <td>0.000446</td>\n",
       "      <td>0.057540</td>\n",
       "      <td>0.069560</td>\n",
       "      <td>...</td>\n",
       "      <td>2.107000</td>\n",
       "      <td>0.162670</td>\n",
       "      <td>0.167020</td>\n",
       "      <td>0.275460</td>\n",
       "      <td>0.488020</td>\n",
       "      <td>0.748260</td>\n",
       "      <td>37.875000</td>\n",
       "      <td>0.966080</td>\n",
       "      <td>0.865600</td>\n",
       "      <td>0.731730</td>\n",
       "    </tr>\n",
       "  </tbody>\n",
       "</table>\n",
       "<p>8 rows × 22 columns</p>\n",
       "</div>"
      ],
      "text/plain": [
       "          subject#          age          sex    test_time  motor_UPDRS  \\\n",
       "count  5875.000000  5875.000000  5875.000000  5875.000000  5875.000000   \n",
       "mean     21.494128    64.804936     0.317787    92.863722    21.296229   \n",
       "std      12.372279     8.821524     0.465656    53.445602     8.129282   \n",
       "min       1.000000    36.000000     0.000000    -4.262500     5.037700   \n",
       "25%      10.000000    58.000000     0.000000    46.847500    15.000000   \n",
       "50%      22.000000    65.000000     0.000000    91.523000    20.871000   \n",
       "75%      33.000000    72.000000     1.000000   138.445000    27.596500   \n",
       "max      42.000000    85.000000     1.000000   215.490000    39.511000   \n",
       "\n",
       "       total_UPDRS    Jitter(%)  Jitter(Abs)   Jitter:RAP  Jitter:PPQ5  ...  \\\n",
       "count  5875.000000  5875.000000  5875.000000  5875.000000  5875.000000  ...   \n",
       "mean     29.018942     0.006154     0.000044     0.002987     0.003277  ...   \n",
       "std      10.700283     0.005624     0.000036     0.003124     0.003732  ...   \n",
       "min       7.000000     0.000830     0.000002     0.000330     0.000430  ...   \n",
       "25%      21.371000     0.003580     0.000022     0.001580     0.001820  ...   \n",
       "50%      27.576000     0.004900     0.000035     0.002250     0.002490  ...   \n",
       "75%      36.399000     0.006800     0.000053     0.003290     0.003460  ...   \n",
       "max      54.992000     0.099990     0.000446     0.057540     0.069560  ...   \n",
       "\n",
       "       Shimmer(dB)  Shimmer:APQ3  Shimmer:APQ5  Shimmer:APQ11  Shimmer:DDA  \\\n",
       "count  5875.000000   5875.000000   5875.000000    5875.000000  5875.000000   \n",
       "mean      0.310960      0.017156      0.020144       0.027481     0.051467   \n",
       "std       0.230254      0.013237      0.016664       0.019986     0.039711   \n",
       "min       0.026000      0.001610      0.001940       0.002490     0.004840   \n",
       "25%       0.175000      0.009280      0.010790       0.015665     0.027830   \n",
       "50%       0.253000      0.013700      0.015940       0.022710     0.041110   \n",
       "75%       0.365000      0.020575      0.023755       0.032715     0.061735   \n",
       "max       2.107000      0.162670      0.167020       0.275460     0.488020   \n",
       "\n",
       "               NHR          HNR         RPDE          DFA          PPE  \n",
       "count  5875.000000  5875.000000  5875.000000  5875.000000  5875.000000  \n",
       "mean      0.032120    21.679495     0.541473     0.653240     0.219589  \n",
       "std       0.059692     4.291096     0.100986     0.070902     0.091498  \n",
       "min       0.000286     1.659000     0.151020     0.514040     0.021983  \n",
       "25%       0.010955    19.406000     0.469785     0.596180     0.156340  \n",
       "50%       0.018448    21.920000     0.542250     0.643600     0.205500  \n",
       "75%       0.031463    24.444000     0.614045     0.711335     0.264490  \n",
       "max       0.748260    37.875000     0.966080     0.865600     0.731730  \n",
       "\n",
       "[8 rows x 22 columns]"
      ]
     },
     "execution_count": 7,
     "metadata": {},
     "output_type": "execute_result"
    }
   ],
   "source": [
    "# check for summary statistics of each column\n",
    "voice.describe()"
   ]
  },
  {
   "cell_type": "code",
   "execution_count": 8,
   "id": "f380c5de",
   "metadata": {},
   "outputs": [
    {
     "data": {
      "image/png": "[encoded data removed]",
      "text/plain": [
       "<Figure size 2000x1500 with 22 Axes>"
      ]
     },
     "metadata": {},
     "output_type": "display_data"
    }
   ],
   "source": [
    "# Plot histograms for all features\n",
    "n_cols = 5\n",
    "n_rows = 5\n",
    "\n",
    "plt.figure(figsize=(20, n_rows*3))\n",
    "for i, col in enumerate(voice.columns, 1):\n",
    "    plt.subplot(n_rows, n_cols, i)\n",
    "    df[col].hist(bins=40, edgecolor='black')\n",
    "    plt.title(col, fontsize=10)\n",
    "    plt.tight_layout()\n",
    "    \n",
    "plt.show();"
   ]
  },
  {
   "cell_type": "markdown",
   "id": "c35437cb",
   "metadata": {},
   "source": [
    "* Some patients provided more recordings than others, while some recorded less frequently, with male patients contributing more than female\n",
    "* Enrolled patients were across several distinct age brackets\n",
    "* Time (no of days) ranged from a negative value, suggesting an inconsistency\n",
    "* Many of the acoustic features, i.e. jitter and shimmer, are highly skewed.\n",
    "* Clinical scores shows multimodality, which may suggest the presence of various natural subgroupings \n"
   ]
  },
  {
   "cell_type": "code",
   "execution_count": 9,
   "id": "063d6d95",
   "metadata": {},
   "outputs": [
    {
     "data": {
      "application/vnd.microsoft.datawrangler.viewer.v0+json": {
       "columns": [
        {
         "name": "index",
         "rawType": "int64",
         "type": "integer"
        },
        {
         "name": "subject#",
         "rawType": "int64",
         "type": "integer"
        },
        {
         "name": "age",
         "rawType": "int64",
         "type": "integer"
        },
        {
         "name": "sex",
         "rawType": "int64",
         "type": "integer"
        },
        {
         "name": "test_time",
         "rawType": "float64",
         "type": "float"
        },
        {
         "name": "motor_UPDRS",
         "rawType": "float64",
         "type": "float"
        },
        {
         "name": "total_UPDRS",
         "rawType": "float64",
         "type": "float"
        },
        {
         "name": "Jitter(%)",
         "rawType": "float64",
         "type": "float"
        },
        {
         "name": "Jitter(Abs)",
         "rawType": "float64",
         "type": "float"
        },
        {
         "name": "Jitter:RAP",
         "rawType": "float64",
         "type": "float"
        },
        {
         "name": "Jitter:PPQ5",
         "rawType": "float64",
         "type": "float"
        },
        {
         "name": "Jitter:DDP",
         "rawType": "float64",
         "type": "float"
        },
        {
         "name": "Shimmer",
         "rawType": "float64",
         "type": "float"
        },
        {
         "name": "Shimmer(dB)",
         "rawType": "float64",
         "type": "float"
        },
        {
         "name": "Shimmer:APQ3",
         "rawType": "float64",
         "type": "float"
        },
        {
         "name": "Shimmer:APQ5",
         "rawType": "float64",
         "type": "float"
        },
        {
         "name": "Shimmer:APQ11",
         "rawType": "float64",
         "type": "float"
        },
        {
         "name": "Shimmer:DDA",
         "rawType": "float64",
         "type": "float"
        },
        {
         "name": "NHR",
         "rawType": "float64",
         "type": "float"
        },
        {
         "name": "HNR",
         "rawType": "float64",
         "type": "float"
        },
        {
         "name": "RPDE",
         "rawType": "float64",
         "type": "float"
        },
        {
         "name": "DFA",
         "rawType": "float64",
         "type": "float"
        },
        {
         "name": "PPE",
         "rawType": "float64",
         "type": "float"
        }
       ],
       "ref": "9386d072-9967-4713-a86d-15e68ee240f8",
       "rows": [
        [
         "4531",
         "34",
         "59",
         "0",
         "-3.3125",
         "29.291",
         "34.146",
         "0.00441",
         "3.677e-05",
         "0.00202",
         "0.00239",
         "0.00607",
         "0.02097",
         "0.178",
         "0.01043",
         "0.01063",
         "0.0185",
         "0.03128",
         "0.031377",
         "19.613",
         "0.66328",
         "0.64633",
         "0.18148"
        ],
        [
         "4557",
         "34",
         "59",
         "0",
         "-3.3118",
         "29.291",
         "34.146",
         "0.00225",
         "1.802e-05",
         "0.00108",
         "0.00139",
         "0.00324",
         "0.01482",
         "0.126",
         "0.0075",
         "0.00876",
         "0.01388",
         "0.02249",
         "0.004839",
         "24.733",
         "0.54671",
         "0.6691",
         "0.11849"
        ],
        [
         "4584",
         "34",
         "59",
         "0",
         "-3.3118",
         "29.291",
         "34.146",
         "0.00388",
         "3.121e-05",
         "0.00201",
         "0.00183",
         "0.00602",
         "0.02246",
         "0.2",
         "0.01248",
         "0.01251",
         "0.01869",
         "0.03743",
         "0.019934",
         "22.683",
         "0.47744",
         "0.66811",
         "0.16363"
        ],
        [
         "4611",
         "34",
         "59",
         "0",
         "-3.3104",
         "29.291",
         "34.146",
         "0.00617",
         "5.766e-05",
         "0.00322",
         "0.00328",
         "0.00965",
         "0.02494",
         "0.217",
         "0.01269",
         "0.01535",
         "0.02694",
         "0.03806",
         "0.030033",
         "18.866",
         "0.69274",
         "0.68188",
         "0.24324"
        ],
        [
         "4638",
         "34",
         "59",
         "0",
         "-3.3097",
         "29.291",
         "34.145",
         "0.00353",
         "2.819e-05",
         "0.00159",
         "0.0018",
         "0.00478",
         "0.03919",
         "0.366",
         "0.02035",
         "0.0234",
         "0.02963",
         "0.06105",
         "0.016998",
         "22.557",
         "0.53959",
         "0.63769",
         "0.14206"
        ],
        [
         "4665",
         "34",
         "59",
         "0",
         "-3.3097",
         "29.291",
         "34.145",
         "0.00266",
         "1.874e-05",
         "0.00134",
         "0.00158",
         "0.00403",
         "0.03404",
         "0.314",
         "0.01776",
         "0.01985",
         "0.02586",
         "0.05328",
         "0.011116",
         "24.287",
         "0.53466",
         "0.60263",
         "0.14682"
        ],
        [
         "5725",
         "42",
         "61",
         "0",
         "-4.2625",
         "19.725",
         "28.633",
         "0.01533",
         "0.00011788",
         "0.00774",
         "0.008",
         "0.02323",
         "0.11398",
         "0.908",
         "0.05904",
         "0.05315",
         "0.04576",
         "0.17713",
         "0.13281",
         "11.689",
         "0.70273",
         "0.66975",
         "0.48466"
        ],
        [
         "5750",
         "42",
         "61",
         "0",
         "-4.2625",
         "19.725",
         "28.633",
         "0.00615",
         "4.617e-05",
         "0.00266",
         "0.00291",
         "0.00798",
         "0.03497",
         "0.316",
         "0.01907",
         "0.02229",
         "0.03109",
         "0.05721",
         "0.014472",
         "21.127",
         "0.49411",
         "0.70068",
         "0.22985"
        ],
        [
         "5775",
         "42",
         "61",
         "0",
         "-4.2618",
         "19.725",
         "28.633",
         "0.00626",
         "4.831e-05",
         "0.003",
         "0.00274",
         "0.00899",
         "0.02218",
         "0.2",
         "0.00984",
         "0.01105",
         "0.0182",
         "0.02953",
         "0.033013",
         "24.559",
         "0.47991",
         "0.65597",
         "0.22585"
        ],
        [
         "5800",
         "42",
         "61",
         "0",
         "-4.2604",
         "19.725",
         "28.634",
         "0.00529",
         "4.398e-05",
         "0.00243",
         "0.00275",
         "0.00728",
         "0.02592",
         "0.225",
         "0.01222",
         "0.0147",
         "0.02119",
         "0.03667",
         "0.030559",
         "21.91",
         "0.52372",
         "0.66131",
         "0.21283"
        ],
        [
         "5825",
         "42",
         "61",
         "0",
         "-4.2597",
         "19.725",
         "28.634",
         "0.00402",
         "3.136e-05",
         "0.00187",
         "0.00196",
         "0.0056",
         "0.02256",
         "0.219",
         "0.01119",
         "0.01229",
         "0.01779",
         "0.03357",
         "0.016736",
         "23.629",
         "0.54938",
         "0.59106",
         "0.15246"
        ],
        [
         "5850",
         "42",
         "61",
         "0",
         "-4.2597",
         "19.725",
         "28.634",
         "0.00352",
         "2.74e-05",
         "0.00125",
         "0.00169",
         "0.00376",
         "0.01708",
         "0.159",
         "0.00739",
         "0.00914",
         "0.01465",
         "0.02216",
         "0.009635",
         "24.315",
         "0.58904",
         "0.57961",
         "0.16296"
        ]
       ],
       "shape": {
        "columns": 22,
        "rows": 12
       }
      },
      "text/html": [
       "<div>\n",
       "<style scoped>\n",
       "    .dataframe tbody tr th:only-of-type {\n",
       "        vertical-align: middle;\n",
       "    }\n",
       "\n",
       "    .dataframe tbody tr th {\n",
       "        vertical-align: top;\n",
       "    }\n",
       "\n",
       "    .dataframe thead th {\n",
       "        text-align: right;\n",
       "    }\n",
       "</style>\n",
       "<table border=\"1\" class=\"dataframe\">\n",
       "  <thead>\n",
       "    <tr style=\"text-align: right;\">\n",
       "      <th></th>\n",
       "      <th>subject#</th>\n",
       "      <th>age</th>\n",
       "      <th>sex</th>\n",
       "      <th>test_time</th>\n",
       "      <th>motor_UPDRS</th>\n",
       "      <th>total_UPDRS</th>\n",
       "      <th>Jitter(%)</th>\n",
       "      <th>Jitter(Abs)</th>\n",
       "      <th>Jitter:RAP</th>\n",
       "      <th>Jitter:PPQ5</th>\n",
       "      <th>...</th>\n",
       "      <th>Shimmer(dB)</th>\n",
       "      <th>Shimmer:APQ3</th>\n",
       "      <th>Shimmer:APQ5</th>\n",
       "      <th>Shimmer:APQ11</th>\n",
       "      <th>Shimmer:DDA</th>\n",
       "      <th>NHR</th>\n",
       "      <th>HNR</th>\n",
       "      <th>RPDE</th>\n",
       "      <th>DFA</th>\n",
       "      <th>PPE</th>\n",
       "    </tr>\n",
       "  </thead>\n",
       "  <tbody>\n",
       "    <tr>\n",
       "      <th>4531</th>\n",
       "      <td>34</td>\n",
       "      <td>59</td>\n",
       "      <td>0</td>\n",
       "      <td>-3.3125</td>\n",
       "      <td>29.291</td>\n",
       "      <td>34.146</td>\n",
       "      <td>0.00441</td>\n",
       "      <td>0.000037</td>\n",
       "      <td>0.00202</td>\n",
       "      <td>0.00239</td>\n",
       "      <td>...</td>\n",
       "      <td>0.178</td>\n",
       "      <td>0.01043</td>\n",
       "      <td>0.01063</td>\n",
       "      <td>0.01850</td>\n",
       "      <td>0.03128</td>\n",
       "      <td>0.031377</td>\n",
       "      <td>19.613</td>\n",
       "      <td>0.66328</td>\n",
       "      <td>0.64633</td>\n",
       "      <td>0.18148</td>\n",
       "    </tr>\n",
       "    <tr>\n",
       "      <th>4557</th>\n",
       "      <td>34</td>\n",
       "      <td>59</td>\n",
       "      <td>0</td>\n",
       "      <td>-3.3118</td>\n",
       "      <td>29.291</td>\n",
       "      <td>34.146</td>\n",
       "      <td>0.00225</td>\n",
       "      <td>0.000018</td>\n",
       "      <td>0.00108</td>\n",
       "      <td>0.00139</td>\n",
       "      <td>...</td>\n",
       "      <td>0.126</td>\n",
       "      <td>0.00750</td>\n",
       "      <td>0.00876</td>\n",
       "      <td>0.01388</td>\n",
       "      <td>0.02249</td>\n",
       "      <td>0.004839</td>\n",
       "      <td>24.733</td>\n",
       "      <td>0.54671</td>\n",
       "      <td>0.66910</td>\n",
       "      <td>0.11849</td>\n",
       "    </tr>\n",
       "    <tr>\n",
       "      <th>4584</th>\n",
       "      <td>34</td>\n",
       "      <td>59</td>\n",
       "      <td>0</td>\n",
       "      <td>-3.3118</td>\n",
       "      <td>29.291</td>\n",
       "      <td>34.146</td>\n",
       "      <td>0.00388</td>\n",
       "      <td>0.000031</td>\n",
       "      <td>0.00201</td>\n",
       "      <td>0.00183</td>\n",
       "      <td>...</td>\n",
       "      <td>0.200</td>\n",
       "      <td>0.01248</td>\n",
       "      <td>0.01251</td>\n",
       "      <td>0.01869</td>\n",
       "      <td>0.03743</td>\n",
       "      <td>0.019934</td>\n",
       "      <td>22.683</td>\n",
       "      <td>0.47744</td>\n",
       "      <td>0.66811</td>\n",
       "      <td>0.16363</td>\n",
       "    </tr>\n",
       "    <tr>\n",
       "      <th>4611</th>\n",
       "      <td>34</td>\n",
       "      <td>59</td>\n",
       "      <td>0</td>\n",
       "      <td>-3.3104</td>\n",
       "      <td>29.291</td>\n",
       "      <td>34.146</td>\n",
       "      <td>0.00617</td>\n",
       "      <td>0.000058</td>\n",
       "      <td>0.00322</td>\n",
       "      <td>0.00328</td>\n",
       "      <td>...</td>\n",
       "      <td>0.217</td>\n",
       "      <td>0.01269</td>\n",
       "      <td>0.01535</td>\n",
       "      <td>0.02694</td>\n",
       "      <td>0.03806</td>\n",
       "      <td>0.030033</td>\n",
       "      <td>18.866</td>\n",
       "      <td>0.69274</td>\n",
       "      <td>0.68188</td>\n",
       "      <td>0.24324</td>\n",
       "    </tr>\n",
       "    <tr>\n",
       "      <th>4638</th>\n",
       "      <td>34</td>\n",
       "      <td>59</td>\n",
       "      <td>0</td>\n",
       "      <td>-3.3097</td>\n",
       "      <td>29.291</td>\n",
       "      <td>34.145</td>\n",
       "      <td>0.00353</td>\n",
       "      <td>0.000028</td>\n",
       "      <td>0.00159</td>\n",
       "      <td>0.00180</td>\n",
       "      <td>...</td>\n",
       "      <td>0.366</td>\n",
       "      <td>0.02035</td>\n",
       "      <td>0.02340</td>\n",
       "      <td>0.02963</td>\n",
       "      <td>0.06105</td>\n",
       "      <td>0.016998</td>\n",
       "      <td>22.557</td>\n",
       "      <td>0.53959</td>\n",
       "      <td>0.63769</td>\n",
       "      <td>0.14206</td>\n",
       "    </tr>\n",
       "    <tr>\n",
       "      <th>4665</th>\n",
       "      <td>34</td>\n",
       "      <td>59</td>\n",
       "      <td>0</td>\n",
       "      <td>-3.3097</td>\n",
       "      <td>29.291</td>\n",
       "      <td>34.145</td>\n",
       "      <td>0.00266</td>\n",
       "      <td>0.000019</td>\n",
       "      <td>0.00134</td>\n",
       "      <td>0.00158</td>\n",
       "      <td>...</td>\n",
       "      <td>0.314</td>\n",
       "      <td>0.01776</td>\n",
       "      <td>0.01985</td>\n",
       "      <td>0.02586</td>\n",
       "      <td>0.05328</td>\n",
       "      <td>0.011116</td>\n",
       "      <td>24.287</td>\n",
       "      <td>0.53466</td>\n",
       "      <td>0.60263</td>\n",
       "      <td>0.14682</td>\n",
       "    </tr>\n",
       "    <tr>\n",
       "      <th>5725</th>\n",
       "      <td>42</td>\n",
       "      <td>61</td>\n",
       "      <td>0</td>\n",
       "      <td>-4.2625</td>\n",
       "      <td>19.725</td>\n",
       "      <td>28.633</td>\n",
       "      <td>0.01533</td>\n",
       "      <td>0.000118</td>\n",
       "      <td>0.00774</td>\n",
       "      <td>0.00800</td>\n",
       "      <td>...</td>\n",
       "      <td>0.908</td>\n",
       "      <td>0.05904</td>\n",
       "      <td>0.05315</td>\n",
       "      <td>0.04576</td>\n",
       "      <td>0.17713</td>\n",
       "      <td>0.132810</td>\n",
       "      <td>11.689</td>\n",
       "      <td>0.70273</td>\n",
       "      <td>0.66975</td>\n",
       "      <td>0.48466</td>\n",
       "    </tr>\n",
       "    <tr>\n",
       "      <th>5750</th>\n",
       "      <td>42</td>\n",
       "      <td>61</td>\n",
       "      <td>0</td>\n",
       "      <td>-4.2625</td>\n",
       "      <td>19.725</td>\n",
       "      <td>28.633</td>\n",
       "      <td>0.00615</td>\n",
       "      <td>0.000046</td>\n",
       "      <td>0.00266</td>\n",
       "      <td>0.00291</td>\n",
       "      <td>...</td>\n",
       "      <td>0.316</td>\n",
       "      <td>0.01907</td>\n",
       "      <td>0.02229</td>\n",
       "      <td>0.03109</td>\n",
       "      <td>0.05721</td>\n",
       "      <td>0.014472</td>\n",
       "      <td>21.127</td>\n",
       "      <td>0.49411</td>\n",
       "      <td>0.70068</td>\n",
       "      <td>0.22985</td>\n",
       "    </tr>\n",
       "    <tr>\n",
       "      <th>5775</th>\n",
       "      <td>42</td>\n",
       "      <td>61</td>\n",
       "      <td>0</td>\n",
       "      <td>-4.2618</td>\n",
       "      <td>19.725</td>\n",
       "      <td>28.633</td>\n",
       "      <td>0.00626</td>\n",
       "      <td>0.000048</td>\n",
       "      <td>0.00300</td>\n",
       "      <td>0.00274</td>\n",
       "      <td>...</td>\n",
       "      <td>0.200</td>\n",
       "      <td>0.00984</td>\n",
       "      <td>0.01105</td>\n",
       "      <td>0.01820</td>\n",
       "      <td>0.02953</td>\n",
       "      <td>0.033013</td>\n",
       "      <td>24.559</td>\n",
       "      <td>0.47991</td>\n",
       "      <td>0.65597</td>\n",
       "      <td>0.22585</td>\n",
       "    </tr>\n",
       "    <tr>\n",
       "      <th>5800</th>\n",
       "      <td>42</td>\n",
       "      <td>61</td>\n",
       "      <td>0</td>\n",
       "      <td>-4.2604</td>\n",
       "      <td>19.725</td>\n",
       "      <td>28.634</td>\n",
       "      <td>0.00529</td>\n",
       "      <td>0.000044</td>\n",
       "      <td>0.00243</td>\n",
       "      <td>0.00275</td>\n",
       "      <td>...</td>\n",
       "      <td>0.225</td>\n",
       "      <td>0.01222</td>\n",
       "      <td>0.01470</td>\n",
       "      <td>0.02119</td>\n",
       "      <td>0.03667</td>\n",
       "      <td>0.030559</td>\n",
       "      <td>21.910</td>\n",
       "      <td>0.52372</td>\n",
       "      <td>0.66131</td>\n",
       "      <td>0.21283</td>\n",
       "    </tr>\n",
       "    <tr>\n",
       "      <th>5825</th>\n",
       "      <td>42</td>\n",
       "      <td>61</td>\n",
       "      <td>0</td>\n",
       "      <td>-4.2597</td>\n",
       "      <td>19.725</td>\n",
       "      <td>28.634</td>\n",
       "      <td>0.00402</td>\n",
       "      <td>0.000031</td>\n",
       "      <td>0.00187</td>\n",
       "      <td>0.00196</td>\n",
       "      <td>...</td>\n",
       "      <td>0.219</td>\n",
       "      <td>0.01119</td>\n",
       "      <td>0.01229</td>\n",
       "      <td>0.01779</td>\n",
       "      <td>0.03357</td>\n",
       "      <td>0.016736</td>\n",
       "      <td>23.629</td>\n",
       "      <td>0.54938</td>\n",
       "      <td>0.59106</td>\n",
       "      <td>0.15246</td>\n",
       "    </tr>\n",
       "    <tr>\n",
       "      <th>5850</th>\n",
       "      <td>42</td>\n",
       "      <td>61</td>\n",
       "      <td>0</td>\n",
       "      <td>-4.2597</td>\n",
       "      <td>19.725</td>\n",
       "      <td>28.634</td>\n",
       "      <td>0.00352</td>\n",
       "      <td>0.000027</td>\n",
       "      <td>0.00125</td>\n",
       "      <td>0.00169</td>\n",
       "      <td>...</td>\n",
       "      <td>0.159</td>\n",
       "      <td>0.00739</td>\n",
       "      <td>0.00914</td>\n",
       "      <td>0.01465</td>\n",
       "      <td>0.02216</td>\n",
       "      <td>0.009635</td>\n",
       "      <td>24.315</td>\n",
       "      <td>0.58904</td>\n",
       "      <td>0.57961</td>\n",
       "      <td>0.16296</td>\n",
       "    </tr>\n",
       "  </tbody>\n",
       "</table>\n",
       "<p>12 rows × 22 columns</p>\n",
       "</div>"
      ],
      "text/plain": [
       "      subject#  age  sex  test_time  motor_UPDRS  total_UPDRS  Jitter(%)  \\\n",
       "4531        34   59    0    -3.3125       29.291       34.146    0.00441   \n",
       "4557        34   59    0    -3.3118       29.291       34.146    0.00225   \n",
       "4584        34   59    0    -3.3118       29.291       34.146    0.00388   \n",
       "4611        34   59    0    -3.3104       29.291       34.146    0.00617   \n",
       "4638        34   59    0    -3.3097       29.291       34.145    0.00353   \n",
       "4665        34   59    0    -3.3097       29.291       34.145    0.00266   \n",
       "5725        42   61    0    -4.2625       19.725       28.633    0.01533   \n",
       "5750        42   61    0    -4.2625       19.725       28.633    0.00615   \n",
       "5775        42   61    0    -4.2618       19.725       28.633    0.00626   \n",
       "5800        42   61    0    -4.2604       19.725       28.634    0.00529   \n",
       "5825        42   61    0    -4.2597       19.725       28.634    0.00402   \n",
       "5850        42   61    0    -4.2597       19.725       28.634    0.00352   \n",
       "\n",
       "      Jitter(Abs)  Jitter:RAP  Jitter:PPQ5  ...  Shimmer(dB)  Shimmer:APQ3  \\\n",
       "4531     0.000037     0.00202      0.00239  ...        0.178       0.01043   \n",
       "4557     0.000018     0.00108      0.00139  ...        0.126       0.00750   \n",
       "4584     0.000031     0.00201      0.00183  ...        0.200       0.01248   \n",
       "4611     0.000058     0.00322      0.00328  ...        0.217       0.01269   \n",
       "4638     0.000028     0.00159      0.00180  ...        0.366       0.02035   \n",
       "4665     0.000019     0.00134      0.00158  ...        0.314       0.01776   \n",
       "5725     0.000118     0.00774      0.00800  ...        0.908       0.05904   \n",
       "5750     0.000046     0.00266      0.00291  ...        0.316       0.01907   \n",
       "5775     0.000048     0.00300      0.00274  ...        0.200       0.00984   \n",
       "5800     0.000044     0.00243      0.00275  ...        0.225       0.01222   \n",
       "5825     0.000031     0.00187      0.00196  ...        0.219       0.01119   \n",
       "5850     0.000027     0.00125      0.00169  ...        0.159       0.00739   \n",
       "\n",
       "      Shimmer:APQ5  Shimmer:APQ11  Shimmer:DDA       NHR     HNR     RPDE  \\\n",
       "4531       0.01063        0.01850      0.03128  0.031377  19.613  0.66328   \n",
       "4557       0.00876        0.01388      0.02249  0.004839  24.733  0.54671   \n",
       "4584       0.01251        0.01869      0.03743  0.019934  22.683  0.47744   \n",
       "4611       0.01535        0.02694      0.03806  0.030033  18.866  0.69274   \n",
       "4638       0.02340        0.02963      0.06105  0.016998  22.557  0.53959   \n",
       "4665       0.01985        0.02586      0.05328  0.011116  24.287  0.53466   \n",
       "5725       0.05315        0.04576      0.17713  0.132810  11.689  0.70273   \n",
       "5750       0.02229        0.03109      0.05721  0.014472  21.127  0.49411   \n",
       "5775       0.01105        0.01820      0.02953  0.033013  24.559  0.47991   \n",
       "5800       0.01470        0.02119      0.03667  0.030559  21.910  0.52372   \n",
       "5825       0.01229        0.01779      0.03357  0.016736  23.629  0.54938   \n",
       "5850       0.00914        0.01465      0.02216  0.009635  24.315  0.58904   \n",
       "\n",
       "          DFA      PPE  \n",
       "4531  0.64633  0.18148  \n",
       "4557  0.66910  0.11849  \n",
       "4584  0.66811  0.16363  \n",
       "4611  0.68188  0.24324  \n",
       "4638  0.63769  0.14206  \n",
       "4665  0.60263  0.14682  \n",
       "5725  0.66975  0.48466  \n",
       "5750  0.70068  0.22985  \n",
       "5775  0.65597  0.22585  \n",
       "5800  0.66131  0.21283  \n",
       "5825  0.59106  0.15246  \n",
       "5850  0.57961  0.16296  \n",
       "\n",
       "[12 rows x 22 columns]"
      ]
     },
     "execution_count": 9,
     "metadata": {},
     "output_type": "execute_result"
    }
   ],
   "source": [
    "voice[voice[\"test_time\"] < 0]"
   ]
  },
  {
   "cell_type": "markdown",
   "id": "12d6cf3b",
   "metadata": {},
   "source": [
    "* There are just two patients (Male) involved in having negative test time. Why?\n",
    "* It is highly possible if retrospective studies were done, in which historical data were collected or the patient already started the recordings, before he was enrolled into the study.\n",
    "* So, patient 34's data started 3 days to the study enrollment and patient 42, 4 days to the enrollment"
   ]
  },
  {
   "cell_type": "code",
   "execution_count": 10,
   "id": "11e45894",
   "metadata": {},
   "outputs": [
    {
     "data": {
      "application/vnd.microsoft.datawrangler.viewer.v0+json": {
       "columns": [
        {
         "name": "sex",
         "rawType": "int64",
         "type": "integer"
        },
        {
         "name": "subject#",
         "rawType": "int64",
         "type": "integer"
        }
       ],
       "ref": "c6008f7c-fc53-47dd-884d-d29bc10cbd42",
       "rows": [
        [
         "0",
         "28"
        ],
        [
         "1",
         "14"
        ]
       ],
       "shape": {
        "columns": 1,
        "rows": 2
       }
      },
      "text/plain": [
       "sex\n",
       "0    28\n",
       "1    14\n",
       "Name: subject#, dtype: int64"
      ]
     },
     "execution_count": 10,
     "metadata": {},
     "output_type": "execute_result"
    }
   ],
   "source": [
    "voice.groupby(\"sex\")[\"subject#\"].nunique()"
   ]
  },
  {
   "cell_type": "markdown",
   "id": "cb8febe7",
   "metadata": {},
   "source": [
    "* For the study, twice the number of female patients were enrolled, i.e., 28 males to 14 females, thereby leading to more recordings from men than women"
   ]
  },
  {
   "cell_type": "code",
   "execution_count": 11,
   "id": "370aea04",
   "metadata": {},
   "outputs": [],
   "source": [
    "# Does each of these variable differ by age\n",
    "# Check using mean of each clinical variable to each gender\n",
    "mean_updrs = df.groupby(\"sex\")[[\"motor_UPDRS\", \"total_UPDRS\"]].mean().T\n"
   ]
  },
  {
   "cell_type": "code",
   "execution_count": 12,
   "id": "6a26c915",
   "metadata": {},
   "outputs": [
    {
     "data": {
      "image/png": "[encoded data removed]",
      "text/plain": [
       "<Figure size 1000x800 with 1 Axes>"
      ]
     },
     "metadata": {},
     "output_type": "display_data"
    }
   ],
   "source": [
    "ax = mean_updrs.plot(\n",
    "    kind=\"barh\",\n",
    "    figsize=(10,8),\n",
    "    width=0.8\n",
    ")"
   ]
  },
  {
   "cell_type": "markdown",
   "id": "5645d582",
   "metadata": {},
   "source": [
    "* Mean UPRDS score (motor and total) is higher for male patients"
   ]
  },
  {
   "cell_type": "code",
   "execution_count": 13,
   "id": "43f4b55b",
   "metadata": {},
   "outputs": [
    {
     "data": {
      "application/vnd.microsoft.datawrangler.viewer.v0+json": {
       "columns": [
        {
         "name": "index",
         "rawType": "object",
         "type": "string"
        },
        {
         "name": "t_statistic",
         "rawType": "float64",
         "type": "float"
        },
        {
         "name": "p-value",
         "rawType": "float64",
         "type": "float"
        }
       ],
       "ref": "88cda44e-7d6d-41db-954c-fa9806e4d9c4",
       "rows": [
        [
         "total_UPDRS",
         "7.740019334479983",
         "1.2481574113072703e-14"
        ],
        [
         "motor_UPDRS",
         "2.3181803962147587",
         "0.020499049202968946"
        ]
       ],
       "shape": {
        "columns": 2,
        "rows": 2
       }
      },
      "text/html": [
       "<div>\n",
       "<style scoped>\n",
       "    .dataframe tbody tr th:only-of-type {\n",
       "        vertical-align: middle;\n",
       "    }\n",
       "\n",
       "    .dataframe tbody tr th {\n",
       "        vertical-align: top;\n",
       "    }\n",
       "\n",
       "    .dataframe thead th {\n",
       "        text-align: right;\n",
       "    }\n",
       "</style>\n",
       "<table border=\"1\" class=\"dataframe\">\n",
       "  <thead>\n",
       "    <tr style=\"text-align: right;\">\n",
       "      <th></th>\n",
       "      <th>t_statistic</th>\n",
       "      <th>p-value</th>\n",
       "    </tr>\n",
       "  </thead>\n",
       "  <tbody>\n",
       "    <tr>\n",
       "      <th>total_UPDRS</th>\n",
       "      <td>7.740019</td>\n",
       "      <td>1.248157e-14</td>\n",
       "    </tr>\n",
       "    <tr>\n",
       "      <th>motor_UPDRS</th>\n",
       "      <td>2.318180</td>\n",
       "      <td>2.049905e-02</td>\n",
       "    </tr>\n",
       "  </tbody>\n",
       "</table>\n",
       "</div>"
      ],
      "text/plain": [
       "             t_statistic       p-value\n",
       "total_UPDRS     7.740019  1.248157e-14\n",
       "motor_UPDRS     2.318180  2.049905e-02"
      ]
     },
     "execution_count": 13,
     "metadata": {},
     "output_type": "execute_result"
    }
   ],
   "source": [
    "# Test this statistically\n",
    "# select features\n",
    "features = mean_updrs.index.to_list()\n",
    "# Create an empty dictionary to store the results\n",
    "results = {}\n",
    "\n",
    "for feature in features:\n",
    "    male_vals = voice.loc[voice[\"sex\"] == 0, feature]\n",
    "    female_vals = voice.loc[voice[\"sex\"] == 1, feature]\n",
    "    \n",
    "    stats, p = ttest_ind(male_vals, female_vals, equal_var=False)\n",
    "    results[feature] = {\"t_statistic\": stats, \"p-value\": p}\n",
    "    \n",
    "updrs_res = pd.DataFrame(results).T.sort_values(\"p-value\")\n",
    "updrs_res"
   ]
  },
  {
   "cell_type": "code",
   "execution_count": 14,
   "id": "9ce34a27",
   "metadata": {},
   "outputs": [
    {
     "data": {
      "image/png": "[encoded data removed]",
      "text/plain": [
       "<Figure size 800x600 with 1 Axes>"
      ]
     },
     "metadata": {},
     "output_type": "display_data"
    }
   ],
   "source": [
    "# Create color mask: green for significant, red for not\n",
    "colors = [\"green\" if p < 0.05 else \"red\" for p in updrs_res[\"p-value\"]]\n",
    "\n",
    "# Create an horizontal bar chart\n",
    "plt.figure(figsize=(8, 6))\n",
    "updrs_res[\"p-value\"].plot(\n",
    "    kind=\"barh\",\n",
    "    color=colors,\n",
    "    edgecolor=\"black\"\n",
    ")\n",
    "plt.axvline(0.05, color=\"blue\", linestyle=\"--\", label=\"p = 0.05 threshold\")\n",
    "plt.title(\"T-test Results: Male vs Female\", fontsize=14)\n",
    "plt.xlabel(\"p-value\")\n",
    "plt.ylabel(\"Features\")\n",
    "plt.legend()\n",
    "plt.tight_layout()\n",
    "plt.show();"
   ]
  },
  {
   "cell_type": "markdown",
   "id": "9422c063",
   "metadata": {},
   "source": [
    "* The T-test shows that the difference in the mean value of motor_UPDRS and total_UPDRS are statistically significant"
   ]
  },
  {
   "cell_type": "code",
   "execution_count": 15,
   "id": "606b4831",
   "metadata": {},
   "outputs": [
    {
     "data": {
      "application/vnd.microsoft.datawrangler.viewer.v0+json": {
       "columns": [
        {
         "name": "index",
         "rawType": "object",
         "type": "string"
        },
        {
         "name": "0",
         "rawType": "float64",
         "type": "float"
        },
        {
         "name": "1",
         "rawType": "float64",
         "type": "float"
        }
       ],
       "ref": "08ecbeac-47bc-4fbe-b1df-36d354133578",
       "rows": [
        [
         "Jitter(%)",
         "0.005956392215568862",
         "0.00657746652383503"
        ],
        [
         "Jitter(Abs)",
         "4.782472305389222e-05",
         "3.5874574183181574e-05"
        ],
        [
         "Jitter:RAP",
         "0.0028236327345309378",
         "0.0033382913765399036"
        ],
        [
         "Jitter:PPQ5",
         "0.0030527644710578845",
         "0.0037579110873058384"
        ],
        [
         "Jitter:DDP",
         "0.008471115269461078",
         "0.010014793786823782"
        ],
        [
         "Shimmer",
         "0.032999633233532936",
         "0.03625836636314944"
        ],
        [
         "Shimmer(dB)",
         "0.3020848303393214",
         "0.3300128548473487"
        ],
        [
         "Shimmer:APQ3",
         "0.016749755489021956",
         "0.018027177289769682"
        ],
        [
         "Shimmer:APQ5",
         "0.019407038423153694",
         "0.02172665773968934"
        ],
        [
         "Shimmer:APQ11",
         "0.027162243013972055",
         "0.028164858061060526"
        ],
        [
         "Shimmer:DDA",
         "0.050249084331337325",
         "0.054081387252276375"
        ]
       ],
       "shape": {
        "columns": 2,
        "rows": 11
       }
      },
      "text/html": [
       "<div>\n",
       "<style scoped>\n",
       "    .dataframe tbody tr th:only-of-type {\n",
       "        vertical-align: middle;\n",
       "    }\n",
       "\n",
       "    .dataframe tbody tr th {\n",
       "        vertical-align: top;\n",
       "    }\n",
       "\n",
       "    .dataframe thead th {\n",
       "        text-align: right;\n",
       "    }\n",
       "</style>\n",
       "<table border=\"1\" class=\"dataframe\">\n",
       "  <thead>\n",
       "    <tr style=\"text-align: right;\">\n",
       "      <th>sex</th>\n",
       "      <th>0</th>\n",
       "      <th>1</th>\n",
       "    </tr>\n",
       "  </thead>\n",
       "  <tbody>\n",
       "    <tr>\n",
       "      <th>Jitter(%)</th>\n",
       "      <td>0.005956</td>\n",
       "      <td>0.006577</td>\n",
       "    </tr>\n",
       "    <tr>\n",
       "      <th>Jitter(Abs)</th>\n",
       "      <td>0.000048</td>\n",
       "      <td>0.000036</td>\n",
       "    </tr>\n",
       "    <tr>\n",
       "      <th>Jitter:RAP</th>\n",
       "      <td>0.002824</td>\n",
       "      <td>0.003338</td>\n",
       "    </tr>\n",
       "    <tr>\n",
       "      <th>Jitter:PPQ5</th>\n",
       "      <td>0.003053</td>\n",
       "      <td>0.003758</td>\n",
       "    </tr>\n",
       "    <tr>\n",
       "      <th>Jitter:DDP</th>\n",
       "      <td>0.008471</td>\n",
       "      <td>0.010015</td>\n",
       "    </tr>\n",
       "    <tr>\n",
       "      <th>Shimmer</th>\n",
       "      <td>0.033000</td>\n",
       "      <td>0.036258</td>\n",
       "    </tr>\n",
       "    <tr>\n",
       "      <th>Shimmer(dB)</th>\n",
       "      <td>0.302085</td>\n",
       "      <td>0.330013</td>\n",
       "    </tr>\n",
       "    <tr>\n",
       "      <th>Shimmer:APQ3</th>\n",
       "      <td>0.016750</td>\n",
       "      <td>0.018027</td>\n",
       "    </tr>\n",
       "    <tr>\n",
       "      <th>Shimmer:APQ5</th>\n",
       "      <td>0.019407</td>\n",
       "      <td>0.021727</td>\n",
       "    </tr>\n",
       "    <tr>\n",
       "      <th>Shimmer:APQ11</th>\n",
       "      <td>0.027162</td>\n",
       "      <td>0.028165</td>\n",
       "    </tr>\n",
       "    <tr>\n",
       "      <th>Shimmer:DDA</th>\n",
       "      <td>0.050249</td>\n",
       "      <td>0.054081</td>\n",
       "    </tr>\n",
       "  </tbody>\n",
       "</table>\n",
       "</div>"
      ],
      "text/plain": [
       "sex                   0         1\n",
       "Jitter(%)      0.005956  0.006577\n",
       "Jitter(Abs)    0.000048  0.000036\n",
       "Jitter:RAP     0.002824  0.003338\n",
       "Jitter:PPQ5    0.003053  0.003758\n",
       "Jitter:DDP     0.008471  0.010015\n",
       "Shimmer        0.033000  0.036258\n",
       "Shimmer(dB)    0.302085  0.330013\n",
       "Shimmer:APQ3   0.016750  0.018027\n",
       "Shimmer:APQ5   0.019407  0.021727\n",
       "Shimmer:APQ11  0.027162  0.028165\n",
       "Shimmer:DDA    0.050249  0.054081"
      ]
     },
     "execution_count": 15,
     "metadata": {},
     "output_type": "execute_result"
    }
   ],
   "source": [
    "# Select jitter and shimmer features\n",
    "jitter_shimmer_cols = [\n",
    "    \"Jitter(%)\", \"Jitter(Abs)\", \"Jitter:RAP\", \"Jitter:PPQ5\", \"Jitter:DDP\",\n",
    "    \"Shimmer\", \"Shimmer(dB)\", \"Shimmer:APQ3\", \"Shimmer:APQ5\",\n",
    "    \"Shimmer:APQ11\", \"Shimmer:DDA\"\n",
    "]\n",
    "\n",
    "# Group by sex and compute mean\n",
    "mean_by_sex = df.groupby(\"sex\")[jitter_shimmer_cols].mean().T\n",
    "\n",
    "mean_by_sex\n"
   ]
  },
  {
   "cell_type": "code",
   "execution_count": 16,
   "id": "dd307f8f",
   "metadata": {},
   "outputs": [
    {
     "data": {
      "image/png": "[encoded data removed]",
      "text/plain": [
       "<Figure size 1400x600 with 1 Axes>"
      ]
     },
     "metadata": {},
     "output_type": "display_data"
    }
   ],
   "source": [
    "# Plot a chart for this\n",
    "ax = mean_by_sex.plot(\n",
    "    kind=\"barh\",\n",
    "    figsize=(14,6),\n",
    "    width=0.8\n",
    ")\n",
    "plt.title(\"Mean of Shimmer & Jitter Features by Sex\", fontsize=14)\n",
    "plt.xlabel(\"Features\", fontsize=12)\n",
    "plt.ylabel(\"Mean Value\", fontsize=12)\n",
    "plt.legend(title=\"Sex\", labels=[\"Male (0)\", \"Female (1)\"])\n",
    "plt.tight_layout()\n",
    "plt.show()"
   ]
  },
  {
   "cell_type": "markdown",
   "id": "74d7be37",
   "metadata": {},
   "source": [
    "* However, the shimmer and jitter mean scores are more higher in female patients than in male patients\n",
    "* Let's check if this difference is statistically significant"
   ]
  },
  {
   "cell_type": "code",
   "execution_count": 17,
   "id": "f543c4de",
   "metadata": {},
   "outputs": [
    {
     "data": {
      "application/vnd.microsoft.datawrangler.viewer.v0+json": {
       "columns": [
        {
         "name": "index",
         "rawType": "object",
         "type": "string"
        },
        {
         "name": "t-statistic",
         "rawType": "float64",
         "type": "float"
        },
        {
         "name": "p-value",
         "rawType": "float64",
         "type": "float"
        }
       ],
       "ref": "0fee9e06-da47-4424-94b8-54c303fa0237",
       "rows": [
        [
         "Jitter(Abs)",
         "11.104886953589373",
         "4.09514830089142e-28"
        ],
        [
         "Jitter:PPQ5",
         "-5.248978014329023",
         "1.676343752542532e-07"
        ],
        [
         "Jitter:RAP",
         "-5.028324728242319",
         "5.287817422677592e-07"
        ],
        [
         "Jitter:DDP",
         "-5.027323683164488",
         "5.315216861526235e-07"
        ],
        [
         "Shimmer:APQ5",
         "-3.943052954353944",
         "8.288541445050404e-05"
        ],
        [
         "Shimmer",
         "-3.6544184714917534",
         "0.00026339458634328503"
        ],
        [
         "Shimmer(dB)",
         "-3.5183790025064177",
         "0.0004423915289142992"
        ],
        [
         "Jitter(%)",
         "-3.257942573205568",
         "0.0011376753254664213"
        ],
        [
         "Shimmer:DDA",
         "-2.9432313646784243",
         "0.0032770189307077375"
        ],
        [
         "Shimmer:APQ3",
         "-2.9432124001228424",
         "0.0032772188876972704"
        ],
        [
         "Shimmer:APQ11",
         "-1.4668007153417049",
         "0.14256132232883786"
        ]
       ],
       "shape": {
        "columns": 2,
        "rows": 11
       }
      },
      "text/html": [
       "<div>\n",
       "<style scoped>\n",
       "    .dataframe tbody tr th:only-of-type {\n",
       "        vertical-align: middle;\n",
       "    }\n",
       "\n",
       "    .dataframe tbody tr th {\n",
       "        vertical-align: top;\n",
       "    }\n",
       "\n",
       "    .dataframe thead th {\n",
       "        text-align: right;\n",
       "    }\n",
       "</style>\n",
       "<table border=\"1\" class=\"dataframe\">\n",
       "  <thead>\n",
       "    <tr style=\"text-align: right;\">\n",
       "      <th></th>\n",
       "      <th>t-statistic</th>\n",
       "      <th>p-value</th>\n",
       "    </tr>\n",
       "  </thead>\n",
       "  <tbody>\n",
       "    <tr>\n",
       "      <th>Jitter(Abs)</th>\n",
       "      <td>11.104887</td>\n",
       "      <td>4.095148e-28</td>\n",
       "    </tr>\n",
       "    <tr>\n",
       "      <th>Jitter:PPQ5</th>\n",
       "      <td>-5.248978</td>\n",
       "      <td>1.676344e-07</td>\n",
       "    </tr>\n",
       "    <tr>\n",
       "      <th>Jitter:RAP</th>\n",
       "      <td>-5.028325</td>\n",
       "      <td>5.287817e-07</td>\n",
       "    </tr>\n",
       "    <tr>\n",
       "      <th>Jitter:DDP</th>\n",
       "      <td>-5.027324</td>\n",
       "      <td>5.315217e-07</td>\n",
       "    </tr>\n",
       "    <tr>\n",
       "      <th>Shimmer:APQ5</th>\n",
       "      <td>-3.943053</td>\n",
       "      <td>8.288541e-05</td>\n",
       "    </tr>\n",
       "    <tr>\n",
       "      <th>Shimmer</th>\n",
       "      <td>-3.654418</td>\n",
       "      <td>2.633946e-04</td>\n",
       "    </tr>\n",
       "    <tr>\n",
       "      <th>Shimmer(dB)</th>\n",
       "      <td>-3.518379</td>\n",
       "      <td>4.423915e-04</td>\n",
       "    </tr>\n",
       "    <tr>\n",
       "      <th>Jitter(%)</th>\n",
       "      <td>-3.257943</td>\n",
       "      <td>1.137675e-03</td>\n",
       "    </tr>\n",
       "    <tr>\n",
       "      <th>Shimmer:DDA</th>\n",
       "      <td>-2.943231</td>\n",
       "      <td>3.277019e-03</td>\n",
       "    </tr>\n",
       "    <tr>\n",
       "      <th>Shimmer:APQ3</th>\n",
       "      <td>-2.943212</td>\n",
       "      <td>3.277219e-03</td>\n",
       "    </tr>\n",
       "    <tr>\n",
       "      <th>Shimmer:APQ11</th>\n",
       "      <td>-1.466801</td>\n",
       "      <td>1.425613e-01</td>\n",
       "    </tr>\n",
       "  </tbody>\n",
       "</table>\n",
       "</div>"
      ],
      "text/plain": [
       "               t-statistic       p-value\n",
       "Jitter(Abs)      11.104887  4.095148e-28\n",
       "Jitter:PPQ5      -5.248978  1.676344e-07\n",
       "Jitter:RAP       -5.028325  5.287817e-07\n",
       "Jitter:DDP       -5.027324  5.315217e-07\n",
       "Shimmer:APQ5     -3.943053  8.288541e-05\n",
       "Shimmer          -3.654418  2.633946e-04\n",
       "Shimmer(dB)      -3.518379  4.423915e-04\n",
       "Jitter(%)        -3.257943  1.137675e-03\n",
       "Shimmer:DDA      -2.943231  3.277019e-03\n",
       "Shimmer:APQ3     -2.943212  3.277219e-03\n",
       "Shimmer:APQ11    -1.466801  1.425613e-01"
      ]
     },
     "execution_count": 17,
     "metadata": {},
     "output_type": "execute_result"
    }
   ],
   "source": [
    "# List the features I want to test for\n",
    "features = mean_by_sex.index.to_list()\n",
    "\n",
    "# Create an empty dictionary to store results\n",
    "results = {}\n",
    "\n",
    "for feature in features:\n",
    "    male_vals = voice.loc[voice[\"sex\"] == 0, feature]\n",
    "    female_vals = voice.loc[voice[\"sex\"] == 1, feature]\n",
    "    \n",
    "    stat, p = ttest_ind(male_vals, female_vals, equal_var=False)\n",
    "    results[feature] = {\"t-statistic\": stat, \"p-value\": p}\n",
    "    \n",
    "# Convert results to DataFrame\n",
    "t_test_results = pd.DataFrame(results).T.sort_values(\"p-value\")\n",
    "t_test_results"
   ]
  },
  {
   "cell_type": "code",
   "execution_count": 18,
   "id": "73d45a19",
   "metadata": {},
   "outputs": [
    {
     "data": {
      "image/png": "[encoded data removed]",
      "text/plain": [
       "<Figure size 800x600 with 1 Axes>"
      ]
     },
     "metadata": {},
     "output_type": "display_data"
    }
   ],
   "source": [
    "# Create color mask: green for significant, red for not\n",
    "colors = [\"green\" if p < 0.05 else \"red\" for p in t_test_results[\"p-value\"]]\n",
    "\n",
    "# Create an horizontal bar chart\n",
    "plt.figure(figsize=(8, 6))\n",
    "t_test_results[\"p-value\"].plot(\n",
    "    kind=\"barh\",\n",
    "    color=colors,\n",
    "    edgecolor=\"black\"\n",
    ")\n",
    "plt.axvline(0.05, color=\"blue\", linestyle=\"--\", label=\"p = 0.05 threshold\")\n",
    "plt.title(\"T-test Results: Male vs Female\", fontsize=14)\n",
    "plt.xlabel(\"p-value\")\n",
    "plt.ylabel(\"Features\")\n",
    "plt.legend()\n",
    "plt.tight_layout()\n",
    "plt.show();"
   ]
  },
  {
   "cell_type": "markdown",
   "id": "3137112a",
   "metadata": {},
   "source": [
    "Most of these shimmer and jitter variable, except Shimmer:APQ11 shows statistically significant differences between males and females, which could own to the natural voice physiology differences."
   ]
  },
  {
   "cell_type": "code",
   "execution_count": 19,
   "id": "78556940",
   "metadata": {},
   "outputs": [
    {
     "data": {
      "image/png": "[encoded data removed]",
      "text/plain": [
       "<Figure size 1000x600 with 2 Axes>"
      ]
     },
     "metadata": {},
     "output_type": "display_data"
    }
   ],
   "source": [
    "# How well do these acoustic features relate to the interpolated clinical severity scores\n",
    "target_cols = [\"motor_UPDRS\",\"total_UPDRS\"]\n",
    "\n",
    "subset = voice[jitter_shimmer_cols + target_cols]\n",
    "\n",
    "# compute the correlation matrix\n",
    "corr = subset.corr()\n",
    "\n",
    "# Plot heatmap\n",
    "plt.figure(figsize=(10, 6))\n",
    "sns.heatmap(corr[target_cols].iloc[:-2],  # exclude UPDRS self-correlation\n",
    "            annot=True, cmap=\"coolwarm\", vmin=-1, vmax=1)\n",
    "plt.title(\"Correlation between Shimmer/Jitter Features and UPDRS Scores\")\n",
    "plt.show()"
   ]
  },
  {
   "cell_type": "markdown",
   "id": "c083eacd",
   "metadata": {},
   "source": [
    "There is absolutely no correlation between the acoustic features and the interpolated clinical severity. This could be owing to the fact that several other factors contribute to the UPDRS scores, both motor and non-motor factors.\n",
    "\n",
    "Based on this, we'll not include the UPDRS scores in our clustering, so that the clusters won't be forced to align with disease severity and also to not stray from our objective of grouping the patients based on their vocal features"
   ]
  },
  {
   "cell_type": "markdown",
   "id": "846d742d",
   "metadata": {},
   "source": [
    "## Age-Based Analysis"
   ]
  },
  {
   "cell_type": "code",
   "execution_count": 20,
   "id": "8e4fed59",
   "metadata": {},
   "outputs": [],
   "source": [
    "# Group the Age into bins\n",
    "bins = [30, 40, 50, 60, 70, 80, 90]\n",
    "labels = [\"30-39\", \"40-49\", \"50-59\", \"60-69\", \"70-79\", \"80-89\"]\n",
    "\n",
    "voice[\"age_group\"] = pd.cut(voice[\"age\"], bins=bins, labels=labels, right=False)"
   ]
  },
  {
   "cell_type": "code",
   "execution_count": 21,
   "id": "1fc85ae9",
   "metadata": {},
   "outputs": [
    {
     "name": "stderr",
     "output_type": "stream",
     "text": [
      "C:\\Users\\USER\\AppData\\Local\\Temp\\ipykernel_27520\\998200648.py:2: FutureWarning: The default of observed=False is deprecated and will be changed to True in a future version of pandas. Pass observed=False to retain current behavior or observed=True to adopt the future default and silence this warning.\n",
      "  age_means = voice.groupby(\"age_group\")[jitter_shimmer_cols].mean().T\n"
     ]
    }
   ],
   "source": [
    "# Compare the acoustic features across the different age groups\n",
    "age_means = voice.groupby(\"age_group\")[jitter_shimmer_cols].mean().T"
   ]
  },
  {
   "cell_type": "code",
   "execution_count": 22,
   "id": "437c0a31",
   "metadata": {},
   "outputs": [
    {
     "data": {
      "application/vnd.microsoft.datawrangler.viewer.v0+json": {
       "columns": [
        {
         "name": "index",
         "rawType": "object",
         "type": "string"
        },
        {
         "name": "30-39",
         "rawType": "float64",
         "type": "float"
        },
        {
         "name": "40-49",
         "rawType": "float64",
         "type": "float"
        },
        {
         "name": "50-59",
         "rawType": "float64",
         "type": "float"
        },
        {
         "name": "60-69",
         "rawType": "float64",
         "type": "float"
        },
        {
         "name": "70-79",
         "rawType": "float64",
         "type": "float"
        },
        {
         "name": "80-89",
         "rawType": "float64",
         "type": "float"
        }
       ],
       "ref": "7f4331df-0d91-42c0-8d52-e43cb585519f",
       "rows": [
        [
         "Jitter(%)",
         "0.003678910891089109",
         "0.007442578125",
         "0.0051430131578947364",
         "0.0070338551951104845",
         "0.005916356275303644",
         "0.006117676056338028"
        ],
        [
         "Jitter(Abs)",
         "1.9561881188118812e-05",
         "6.29462890625e-05",
         "3.556032236842105e-05",
         "4.9580164551010814e-05",
         "4.338338345864662e-05",
         "4.261091549295774e-05"
        ],
        [
         "Jitter:RAP",
         "0.0017501980198019803",
         "0.00370125",
         "0.0025103157894736843",
         "0.003481810061118947",
         "0.002752301908617698",
         "0.0031352112676056336"
        ],
        [
         "Jitter:PPQ5",
         "0.0018525742574257425",
         "0.003926484375",
         "0.0026061513157894737",
         "0.0039044945933239305",
         "0.003095216888374783",
         "0.0031082394366197183"
        ],
        [
         "Jitter:DDP",
         "0.00525009900990099",
         "0.011103828125",
         "0.0075309539473684215",
         "0.010445566525622943",
         "0.008257189126662812",
         "0.009405352112676056"
        ],
        [
         "Shimmer",
         "0.01940930693069307",
         "0.037148984375",
         "0.024554401315789474",
         "0.03910425011753644",
         "0.03639010410641989",
         "0.03570774647887324"
        ],
        [
         "Shimmer(dB)",
         "0.17791089108910893",
         "0.3301875",
         "0.22529473684210524",
         "0.3559163140573578",
         "0.3346315789473684",
         "0.3262887323943662"
        ],
        [
         "Shimmer:APQ3",
         "0.009649108910891088",
         "0.0185086328125",
         "0.012558980263157894",
         "0.019679590973201693",
         "0.01820373048004627",
         "0.018694366197183097"
        ],
        [
         "Shimmer:APQ5",
         "0.010981386138613863",
         "0.0219026171875",
         "0.014445901315789473",
         "0.02321783732957217",
         "0.021577727009832272",
         "0.02099218309859155"
        ],
        [
         "Shimmer:APQ11",
         "0.014506633663366337",
         "0.0302262109375",
         "0.019751611842105263",
         "0.03047659144334744",
         "0.03094495083863505",
         "0.027443661971830985"
        ],
        [
         "Shimmer:DDA",
         "0.028946237623762378",
         "0.055525703125",
         "0.03767692763157895",
         "0.05903852844381759",
         "0.05461096009253904",
         "0.05608380281690141"
        ]
       ],
       "shape": {
        "columns": 6,
        "rows": 11
       }
      },
      "text/html": [
       "<div>\n",
       "<style scoped>\n",
       "    .dataframe tbody tr th:only-of-type {\n",
       "        vertical-align: middle;\n",
       "    }\n",
       "\n",
       "    .dataframe tbody tr th {\n",
       "        vertical-align: top;\n",
       "    }\n",
       "\n",
       "    .dataframe thead th {\n",
       "        text-align: right;\n",
       "    }\n",
       "</style>\n",
       "<table border=\"1\" class=\"dataframe\">\n",
       "  <thead>\n",
       "    <tr style=\"text-align: right;\">\n",
       "      <th>age_group</th>\n",
       "      <th>30-39</th>\n",
       "      <th>40-49</th>\n",
       "      <th>50-59</th>\n",
       "      <th>60-69</th>\n",
       "      <th>70-79</th>\n",
       "      <th>80-89</th>\n",
       "    </tr>\n",
       "  </thead>\n",
       "  <tbody>\n",
       "    <tr>\n",
       "      <th>Jitter(%)</th>\n",
       "      <td>0.003679</td>\n",
       "      <td>0.007443</td>\n",
       "      <td>0.005143</td>\n",
       "      <td>0.007034</td>\n",
       "      <td>0.005916</td>\n",
       "      <td>0.006118</td>\n",
       "    </tr>\n",
       "    <tr>\n",
       "      <th>Jitter(Abs)</th>\n",
       "      <td>0.000020</td>\n",
       "      <td>0.000063</td>\n",
       "      <td>0.000036</td>\n",
       "      <td>0.000050</td>\n",
       "      <td>0.000043</td>\n",
       "      <td>0.000043</td>\n",
       "    </tr>\n",
       "    <tr>\n",
       "      <th>Jitter:RAP</th>\n",
       "      <td>0.001750</td>\n",
       "      <td>0.003701</td>\n",
       "      <td>0.002510</td>\n",
       "      <td>0.003482</td>\n",
       "      <td>0.002752</td>\n",
       "      <td>0.003135</td>\n",
       "    </tr>\n",
       "    <tr>\n",
       "      <th>Jitter:PPQ5</th>\n",
       "      <td>0.001853</td>\n",
       "      <td>0.003926</td>\n",
       "      <td>0.002606</td>\n",
       "      <td>0.003904</td>\n",
       "      <td>0.003095</td>\n",
       "      <td>0.003108</td>\n",
       "    </tr>\n",
       "    <tr>\n",
       "      <th>Jitter:DDP</th>\n",
       "      <td>0.005250</td>\n",
       "      <td>0.011104</td>\n",
       "      <td>0.007531</td>\n",
       "      <td>0.010446</td>\n",
       "      <td>0.008257</td>\n",
       "      <td>0.009405</td>\n",
       "    </tr>\n",
       "    <tr>\n",
       "      <th>Shimmer</th>\n",
       "      <td>0.019409</td>\n",
       "      <td>0.037149</td>\n",
       "      <td>0.024554</td>\n",
       "      <td>0.039104</td>\n",
       "      <td>0.036390</td>\n",
       "      <td>0.035708</td>\n",
       "    </tr>\n",
       "    <tr>\n",
       "      <th>Shimmer(dB)</th>\n",
       "      <td>0.177911</td>\n",
       "      <td>0.330188</td>\n",
       "      <td>0.225295</td>\n",
       "      <td>0.355916</td>\n",
       "      <td>0.334632</td>\n",
       "      <td>0.326289</td>\n",
       "    </tr>\n",
       "    <tr>\n",
       "      <th>Shimmer:APQ3</th>\n",
       "      <td>0.009649</td>\n",
       "      <td>0.018509</td>\n",
       "      <td>0.012559</td>\n",
       "      <td>0.019680</td>\n",
       "      <td>0.018204</td>\n",
       "      <td>0.018694</td>\n",
       "    </tr>\n",
       "    <tr>\n",
       "      <th>Shimmer:APQ5</th>\n",
       "      <td>0.010981</td>\n",
       "      <td>0.021903</td>\n",
       "      <td>0.014446</td>\n",
       "      <td>0.023218</td>\n",
       "      <td>0.021578</td>\n",
       "      <td>0.020992</td>\n",
       "    </tr>\n",
       "    <tr>\n",
       "      <th>Shimmer:APQ11</th>\n",
       "      <td>0.014507</td>\n",
       "      <td>0.030226</td>\n",
       "      <td>0.019752</td>\n",
       "      <td>0.030477</td>\n",
       "      <td>0.030945</td>\n",
       "      <td>0.027444</td>\n",
       "    </tr>\n",
       "    <tr>\n",
       "      <th>Shimmer:DDA</th>\n",
       "      <td>0.028946</td>\n",
       "      <td>0.055526</td>\n",
       "      <td>0.037677</td>\n",
       "      <td>0.059039</td>\n",
       "      <td>0.054611</td>\n",
       "      <td>0.056084</td>\n",
       "    </tr>\n",
       "  </tbody>\n",
       "</table>\n",
       "</div>"
      ],
      "text/plain": [
       "age_group         30-39     40-49     50-59     60-69     70-79     80-89\n",
       "Jitter(%)      0.003679  0.007443  0.005143  0.007034  0.005916  0.006118\n",
       "Jitter(Abs)    0.000020  0.000063  0.000036  0.000050  0.000043  0.000043\n",
       "Jitter:RAP     0.001750  0.003701  0.002510  0.003482  0.002752  0.003135\n",
       "Jitter:PPQ5    0.001853  0.003926  0.002606  0.003904  0.003095  0.003108\n",
       "Jitter:DDP     0.005250  0.011104  0.007531  0.010446  0.008257  0.009405\n",
       "Shimmer        0.019409  0.037149  0.024554  0.039104  0.036390  0.035708\n",
       "Shimmer(dB)    0.177911  0.330188  0.225295  0.355916  0.334632  0.326289\n",
       "Shimmer:APQ3   0.009649  0.018509  0.012559  0.019680  0.018204  0.018694\n",
       "Shimmer:APQ5   0.010981  0.021903  0.014446  0.023218  0.021578  0.020992\n",
       "Shimmer:APQ11  0.014507  0.030226  0.019752  0.030477  0.030945  0.027444\n",
       "Shimmer:DDA    0.028946  0.055526  0.037677  0.059039  0.054611  0.056084"
      ]
     },
     "execution_count": 22,
     "metadata": {},
     "output_type": "execute_result"
    }
   ],
   "source": [
    "age_means"
   ]
  },
  {
   "cell_type": "code",
   "execution_count": 23,
   "id": "272a44ad",
   "metadata": {},
   "outputs": [
    {
     "data": {
      "image/png": "[encoded data removed]",
      "text/plain": [
       "<Figure size 1200x800 with 1 Axes>"
      ]
     },
     "metadata": {},
     "output_type": "display_data"
    }
   ],
   "source": [
    "# Plot\n",
    "age_means.plot(\n",
    "    kind=\"bar\",\n",
    "    figsize=(12, 8),\n",
    "    width=0.8\n",
    ");"
   ]
  },
  {
   "cell_type": "code",
   "execution_count": 24,
   "id": "b998815d",
   "metadata": {},
   "outputs": [
    {
     "data": {
      "application/vnd.microsoft.datawrangler.viewer.v0+json": {
       "columns": [
        {
         "name": "index",
         "rawType": "object",
         "type": "string"
        },
        {
         "name": "0",
         "rawType": "float64",
         "type": "float"
        }
       ],
       "ref": "b786f67a-756b-4b2c-ba64-3af10618f027",
       "rows": [
        [
         "Jitter(Abs)",
         "1.2948020978060577e-09"
        ],
        [
         "Jitter:RAP",
         "9.758245017810908e-06"
        ],
        [
         "Jitter:PPQ5",
         "1.3924364035526193e-05"
        ],
        [
         "Jitter(%)",
         "3.1631943695332486e-05"
        ],
        [
         "Jitter:DDP",
         "8.782483261585493e-05"
        ],
        [
         "Shimmer:APQ3",
         "0.00017522128388911538"
        ],
        [
         "Shimmer:APQ5",
         "0.000277686658726841"
        ],
        [
         "Shimmer:APQ11",
         "0.0003994460085873239"
        ],
        [
         "Shimmer",
         "0.0006674553814093118"
        ],
        [
         "Shimmer:DDA",
         "0.0015769947069688018"
        ],
        [
         "NHR",
         "0.003563171347908817"
        ],
        [
         "DFA",
         "0.005027092992731607"
        ],
        [
         "PPE",
         "0.008371974395116041"
        ],
        [
         "RPDE",
         "0.010198129264073619"
        ],
        [
         "Shimmer(dB)",
         "0.0530167493360572"
        ],
        [
         "HNR",
         "18.413507163536217"
        ],
        [
         "age",
         "77.819281043763"
        ]
       ],
       "shape": {
        "columns": 1,
        "rows": 17
       }
      },
      "text/plain": [
       "Jitter(Abs)      1.294802e-09\n",
       "Jitter:RAP       9.758245e-06\n",
       "Jitter:PPQ5      1.392436e-05\n",
       "Jitter(%)        3.163194e-05\n",
       "Jitter:DDP       8.782483e-05\n",
       "Shimmer:APQ3     1.752213e-04\n",
       "Shimmer:APQ5     2.776867e-04\n",
       "Shimmer:APQ11    3.994460e-04\n",
       "Shimmer          6.674554e-04\n",
       "Shimmer:DDA      1.576995e-03\n",
       "NHR              3.563171e-03\n",
       "DFA              5.027093e-03\n",
       "PPE              8.371974e-03\n",
       "RPDE             1.019813e-02\n",
       "Shimmer(dB)      5.301675e-02\n",
       "HNR              1.841351e+01\n",
       "age              7.781928e+01\n",
       "dtype: float64"
      ]
     },
     "execution_count": 24,
     "metadata": {},
     "output_type": "execute_result"
    }
   ],
   "source": [
    "feat = (voice.drop(\n",
    "    columns=[\"age_group\", \"subject#\", \"test_time\", \"total_UPDRS\", \"motor_UPDRS\", \"sex\"])\n",
    "                    .var()\n",
    "                    .sort_values()\n",
    ")\n",
    "feat"
   ]
  },
  {
   "cell_type": "code",
   "execution_count": 25,
   "id": "6e1b6cc6",
   "metadata": {},
   "outputs": [],
   "source": [
    "features = feat.index.to_list()\n",
    "X = voice[features].drop(columns=[\"age\", \"Jitter(Abs)\", \"Jitter:RAP\",\n",
    "                         \"Shimmer:APQ3\", \"Shimmer:APQ5\", \"Shimmer:APQ11\",\n",
    "                         \"RPDE\", \"DFA\"])"
   ]
  },
  {
   "cell_type": "code",
   "execution_count": 26,
   "id": "cc2e77ec",
   "metadata": {},
   "outputs": [],
   "source": [
    "# Find the best k\n",
    "n_clusters = range(2, 13)\n",
    "inertia_errors = []\n",
    "silhouette_scores = []\n",
    "\n",
    "for k in n_clusters:\n",
    "    model = make_pipeline(\n",
    "        StandardScaler(),\n",
    "        KMeans(n_clusters=k, random_state=42)\n",
    "    )\n",
    "    model.fit(X)\n",
    "    model\n",
    "    inertia_errors.append(model.named_steps[\"kmeans\"].inertia_)\n",
    "    silhouette_scores.append(silhouette_score(X, model.named_steps[\"kmeans\"].labels_))"
   ]
  },
  {
   "cell_type": "code",
   "execution_count": 27,
   "id": "12110960",
   "metadata": {},
   "outputs": [
    {
     "data": {
      "text/plain": [
       "[0.6479881401650974,\n",
       " 0.39276320144083465,\n",
       " 0.34708717342566564,\n",
       " 0.26664564590549034,\n",
       " 0.20875664512827005,\n",
       " 0.2026254969598547,\n",
       " 0.15735302720920188,\n",
       " 0.09897974932207687,\n",
       " 0.08813760136416281,\n",
       " 0.04077369977920441,\n",
       " 0.03148128852834157]"
      ]
     },
     "execution_count": 27,
     "metadata": {},
     "output_type": "execute_result"
    }
   ],
   "source": [
    "silhouette_scores"
   ]
  },
  {
   "cell_type": "code",
   "execution_count": 28,
   "id": "730fcd1e",
   "metadata": {},
   "outputs": [
    {
     "data": {
      "image/png": "[encoded data removed]",
      "text/plain": [
       "<Figure size 640x480 with 1 Axes>"
      ]
     },
     "metadata": {},
     "output_type": "display_data"
    }
   ],
   "source": [
    "plt.plot(inertia_errors)\n",
    "plt.title(\"Inertia Errors for Each Cluster\")\n",
    "plt.xlabel(\"Clusters\")\n",
    "plt.ylabel(\"Inertia\")\n",
    "plt.show();"
   ]
  },
  {
   "cell_type": "code",
   "execution_count": 29,
   "id": "348e675c",
   "metadata": {},
   "outputs": [
    {
     "data": {
      "image/png": "[encoded data removed]",
      "text/plain": [
       "<Figure size 640x480 with 1 Axes>"
      ]
     },
     "metadata": {},
     "output_type": "display_data"
    }
   ],
   "source": [
    "plt.plot(silhouette_scores)\n",
    "plt.title(\"Silhouette Score for Each Cluster\")\n",
    "plt.xlabel(\"Clusters\")\n",
    "plt.ylabel(\"Silhouette Score\")\n",
    "plt.show();"
   ]
  },
  {
   "cell_type": "code",
   "execution_count": 30,
   "id": "7f339072",
   "metadata": {},
   "outputs": [
    {
     "data": {
      "text/html": [
       "<style>#sk-container-id-1 {\n",
       "  /* Definition of color scheme common for light and dark mode */\n",
       "  --sklearn-color-text: #000;\n",
       "  --sklearn-color-text-muted: #666;\n",
       "  --sklearn-color-line: gray;\n",
       "  /* Definition of color scheme for unfitted estimators */\n",
       "  --sklearn-color-unfitted-level-0: #fff5e6;\n",
       "  --sklearn-color-unfitted-level-1: #f6e4d2;\n",
       "  --sklearn-color-unfitted-level-2: #ffe0b3;\n",
       "  --sklearn-color-unfitted-level-3: chocolate;\n",
       "  /* Definition of color scheme for fitted estimators */\n",
       "  --sklearn-color-fitted-level-0: #f0f8ff;\n",
       "  --sklearn-color-fitted-level-1: #d4ebff;\n",
       "  --sklearn-color-fitted-level-2: #b3dbfd;\n",
       "  --sklearn-color-fitted-level-3: cornflowerblue;\n",
       "\n",
       "  /* Specific color for light theme */\n",
       "  --sklearn-color-text-on-default-background: var(--sg-text-color, var(--theme-code-foreground, var(--jp-content-font-color1, black)));\n",
       "  --sklearn-color-background: var(--sg-background-color, var(--theme-background, var(--jp-layout-color0, white)));\n",
       "  --sklearn-color-border-box: var(--sg-text-color, var(--theme-code-foreground, var(--jp-content-font-color1, black)));\n",
       "  --sklearn-color-icon: #696969;\n",
       "\n",
       "  @media (prefers-color-scheme: dark) {\n",
       "    /* Redefinition of color scheme for dark theme */\n",
       "    --sklearn-color-text-on-default-background: var(--sg-text-color, var(--theme-code-foreground, var(--jp-content-font-color1, white)));\n",
       "    --sklearn-color-background: var(--sg-background-color, var(--theme-background, var(--jp-layout-color0, #111)));\n",
       "    --sklearn-color-border-box: var(--sg-text-color, var(--theme-code-foreground, var(--jp-content-font-color1, white)));\n",
       "    --sklearn-color-icon: #878787;\n",
       "  }\n",
       "}\n",
       "\n",
       "#sk-container-id-1 {\n",
       "  color: var(--sklearn-color-text);\n",
       "}\n",
       "\n",
       "#sk-container-id-1 pre {\n",
       "  padding: 0;\n",
       "}\n",
       "\n",
       "#sk-container-id-1 input.sk-hidden--visually {\n",
       "  border: 0;\n",
       "  clip: rect(1px 1px 1px 1px);\n",
       "  clip: rect(1px, 1px, 1px, 1px);\n",
       "  height: 1px;\n",
       "  margin: -1px;\n",
       "  overflow: hidden;\n",
       "  padding: 0;\n",
       "  position: absolute;\n",
       "  width: 1px;\n",
       "}\n",
       "\n",
       "#sk-container-id-1 div.sk-dashed-wrapped {\n",
       "  border: 1px dashed var(--sklearn-color-line);\n",
       "  margin: 0 0.4em 0.5em 0.4em;\n",
       "  box-sizing: border-box;\n",
       "  padding-bottom: 0.4em;\n",
       "  background-color: var(--sklearn-color-background);\n",
       "}\n",
       "\n",
       "#sk-container-id-1 div.sk-container {\n",
       "  /* jupyter's `normalize.less` sets `[hidden] { display: none; }`\n",
       "     but bootstrap.min.css set `[hidden] { display: none !important; }`\n",
       "     so we also need the `!important` here to be able to override the\n",
       "     default hidden behavior on the sphinx rendered scikit-learn.org.\n",
       "     See: https://github.com/scikit-learn/scikit-learn/issues/21755 */\n",
       "  display: inline-block !important;\n",
       "  position: relative;\n",
       "}\n",
       "\n",
       "#sk-container-id-1 div.sk-text-repr-fallback {\n",
       "  display: none;\n",
       "}\n",
       "\n",
       "div.sk-parallel-item,\n",
       "div.sk-serial,\n",
       "div.sk-item {\n",
       "  /* draw centered vertical line to link estimators */\n",
       "  background-image: linear-gradient(var(--sklearn-color-text-on-default-background), var(--sklearn-color-text-on-default-background));\n",
       "  background-size: 2px 100%;\n",
       "  background-repeat: no-repeat;\n",
       "  background-position: center center;\n",
       "}\n",
       "\n",
       "/* Parallel-specific style estimator block */\n",
       "\n",
       "#sk-container-id-1 div.sk-parallel-item::after {\n",
       "  content: \"\";\n",
       "  width: 100%;\n",
       "  border-bottom: 2px solid var(--sklearn-color-text-on-default-background);\n",
       "  flex-grow: 1;\n",
       "}\n",
       "\n",
       "#sk-container-id-1 div.sk-parallel {\n",
       "  display: flex;\n",
       "  align-items: stretch;\n",
       "  justify-content: center;\n",
       "  background-color: var(--sklearn-color-background);\n",
       "  position: relative;\n",
       "}\n",
       "\n",
       "#sk-container-id-1 div.sk-parallel-item {\n",
       "  display: flex;\n",
       "  flex-direction: column;\n",
       "}\n",
       "\n",
       "#sk-container-id-1 div.sk-parallel-item:first-child::after {\n",
       "  align-self: flex-end;\n",
       "  width: 50%;\n",
       "}\n",
       "\n",
       "#sk-container-id-1 div.sk-parallel-item:last-child::after {\n",
       "  align-self: flex-start;\n",
       "  width: 50%;\n",
       "}\n",
       "\n",
       "#sk-container-id-1 div.sk-parallel-item:only-child::after {\n",
       "  width: 0;\n",
       "}\n",
       "\n",
       "/* Serial-specific style estimator block */\n",
       "\n",
       "#sk-container-id-1 div.sk-serial {\n",
       "  display: flex;\n",
       "  flex-direction: column;\n",
       "  align-items: center;\n",
       "  background-color: var(--sklearn-color-background);\n",
       "  padding-right: 1em;\n",
       "  padding-left: 1em;\n",
       "}\n",
       "\n",
       "\n",
       "/* Toggleable style: style used for estimator/Pipeline/ColumnTransformer box that is\n",
       "clickable and can be expanded/collapsed.\n",
       "- Pipeline and ColumnTransformer use this feature and define the default style\n",
       "- Estimators will overwrite some part of the style using the `sk-estimator` class\n",
       "*/\n",
       "\n",
       "/* Pipeline and ColumnTransformer style (default) */\n",
       "\n",
       "#sk-container-id-1 div.sk-toggleable {\n",
       "  /* Default theme specific background. It is overwritten whether we have a\n",
       "  specific estimator or a Pipeline/ColumnTransformer */\n",
       "  background-color: var(--sklearn-color-background);\n",
       "}\n",
       "\n",
       "/* Toggleable label */\n",
       "#sk-container-id-1 label.sk-toggleable__label {\n",
       "  cursor: pointer;\n",
       "  display: flex;\n",
       "  width: 100%;\n",
       "  margin-bottom: 0;\n",
       "  padding: 0.5em;\n",
       "  box-sizing: border-box;\n",
       "  text-align: center;\n",
       "  align-items: start;\n",
       "  justify-content: space-between;\n",
       "  gap: 0.5em;\n",
       "}\n",
       "\n",
       "#sk-container-id-1 label.sk-toggleable__label .caption {\n",
       "  font-size: 0.6rem;\n",
       "  font-weight: lighter;\n",
       "  color: var(--sklearn-color-text-muted);\n",
       "}\n",
       "\n",
       "#sk-container-id-1 label.sk-toggleable__label-arrow:before {\n",
       "  /* Arrow on the left of the label */\n",
       "  content: \"▸\";\n",
       "  float: left;\n",
       "  margin-right: 0.25em;\n",
       "  color: var(--sklearn-color-icon);\n",
       "}\n",
       "\n",
       "#sk-container-id-1 label.sk-toggleable__label-arrow:hover:before {\n",
       "  color: var(--sklearn-color-text);\n",
       "}\n",
       "\n",
       "/* Toggleable content - dropdown */\n",
       "\n",
       "#sk-container-id-1 div.sk-toggleable__content {\n",
       "  display: none;\n",
       "  text-align: left;\n",
       "  /* unfitted */\n",
       "  background-color: var(--sklearn-color-unfitted-level-0);\n",
       "}\n",
       "\n",
       "#sk-container-id-1 div.sk-toggleable__content.fitted {\n",
       "  /* fitted */\n",
       "  background-color: var(--sklearn-color-fitted-level-0);\n",
       "}\n",
       "\n",
       "#sk-container-id-1 div.sk-toggleable__content pre {\n",
       "  margin: 0.2em;\n",
       "  border-radius: 0.25em;\n",
       "  color: var(--sklearn-color-text);\n",
       "  /* unfitted */\n",
       "  background-color: var(--sklearn-color-unfitted-level-0);\n",
       "}\n",
       "\n",
       "#sk-container-id-1 div.sk-toggleable__content.fitted pre {\n",
       "  /* unfitted */\n",
       "  background-color: var(--sklearn-color-fitted-level-0);\n",
       "}\n",
       "\n",
       "#sk-container-id-1 input.sk-toggleable__control:checked~div.sk-toggleable__content {\n",
       "  /* Expand drop-down */\n",
       "  display: block;\n",
       "  width: 100%;\n",
       "  overflow: visible;\n",
       "}\n",
       "\n",
       "#sk-container-id-1 input.sk-toggleable__control:checked~label.sk-toggleable__label-arrow:before {\n",
       "  content: \"▾\";\n",
       "}\n",
       "\n",
       "/* Pipeline/ColumnTransformer-specific style */\n",
       "\n",
       "#sk-container-id-1 div.sk-label input.sk-toggleable__control:checked~label.sk-toggleable__label {\n",
       "  color: var(--sklearn-color-text);\n",
       "  background-color: var(--sklearn-color-unfitted-level-2);\n",
       "}\n",
       "\n",
       "#sk-container-id-1 div.sk-label.fitted input.sk-toggleable__control:checked~label.sk-toggleable__label {\n",
       "  background-color: var(--sklearn-color-fitted-level-2);\n",
       "}\n",
       "\n",
       "/* Estimator-specific style */\n",
       "\n",
       "/* Colorize estimator box */\n",
       "#sk-container-id-1 div.sk-estimator input.sk-toggleable__control:checked~label.sk-toggleable__label {\n",
       "  /* unfitted */\n",
       "  background-color: var(--sklearn-color-unfitted-level-2);\n",
       "}\n",
       "\n",
       "#sk-container-id-1 div.sk-estimator.fitted input.sk-toggleable__control:checked~label.sk-toggleable__label {\n",
       "  /* fitted */\n",
       "  background-color: var(--sklearn-color-fitted-level-2);\n",
       "}\n",
       "\n",
       "#sk-container-id-1 div.sk-label label.sk-toggleable__label,\n",
       "#sk-container-id-1 div.sk-label label {\n",
       "  /* The background is the default theme color */\n",
       "  color: var(--sklearn-color-text-on-default-background);\n",
       "}\n",
       "\n",
       "/* On hover, darken the color of the background */\n",
       "#sk-container-id-1 div.sk-label:hover label.sk-toggleable__label {\n",
       "  color: var(--sklearn-color-text);\n",
       "  background-color: var(--sklearn-color-unfitted-level-2);\n",
       "}\n",
       "\n",
       "/* Label box, darken color on hover, fitted */\n",
       "#sk-container-id-1 div.sk-label.fitted:hover label.sk-toggleable__label.fitted {\n",
       "  color: var(--sklearn-color-text);\n",
       "  background-color: var(--sklearn-color-fitted-level-2);\n",
       "}\n",
       "\n",
       "/* Estimator label */\n",
       "\n",
       "#sk-container-id-1 div.sk-label label {\n",
       "  font-family: monospace;\n",
       "  font-weight: bold;\n",
       "  display: inline-block;\n",
       "  line-height: 1.2em;\n",
       "}\n",
       "\n",
       "#sk-container-id-1 div.sk-label-container {\n",
       "  text-align: center;\n",
       "}\n",
       "\n",
       "/* Estimator-specific */\n",
       "#sk-container-id-1 div.sk-estimator {\n",
       "  font-family: monospace;\n",
       "  border: 1px dotted var(--sklearn-color-border-box);\n",
       "  border-radius: 0.25em;\n",
       "  box-sizing: border-box;\n",
       "  margin-bottom: 0.5em;\n",
       "  /* unfitted */\n",
       "  background-color: var(--sklearn-color-unfitted-level-0);\n",
       "}\n",
       "\n",
       "#sk-container-id-1 div.sk-estimator.fitted {\n",
       "  /* fitted */\n",
       "  background-color: var(--sklearn-color-fitted-level-0);\n",
       "}\n",
       "\n",
       "/* on hover */\n",
       "#sk-container-id-1 div.sk-estimator:hover {\n",
       "  /* unfitted */\n",
       "  background-color: var(--sklearn-color-unfitted-level-2);\n",
       "}\n",
       "\n",
       "#sk-container-id-1 div.sk-estimator.fitted:hover {\n",
       "  /* fitted */\n",
       "  background-color: var(--sklearn-color-fitted-level-2);\n",
       "}\n",
       "\n",
       "/* Specification for estimator info (e.g. \"i\" and \"?\") */\n",
       "\n",
       "/* Common style for \"i\" and \"?\" */\n",
       "\n",
       ".sk-estimator-doc-link,\n",
       "a:link.sk-estimator-doc-link,\n",
       "a:visited.sk-estimator-doc-link {\n",
       "  float: right;\n",
       "  font-size: smaller;\n",
       "  line-height: 1em;\n",
       "  font-family: monospace;\n",
       "  background-color: var(--sklearn-color-background);\n",
       "  border-radius: 1em;\n",
       "  height: 1em;\n",
       "  width: 1em;\n",
       "  text-decoration: none !important;\n",
       "  margin-left: 0.5em;\n",
       "  text-align: center;\n",
       "  /* unfitted */\n",
       "  border: var(--sklearn-color-unfitted-level-1) 1pt solid;\n",
       "  color: var(--sklearn-color-unfitted-level-1);\n",
       "}\n",
       "\n",
       ".sk-estimator-doc-link.fitted,\n",
       "a:link.sk-estimator-doc-link.fitted,\n",
       "a:visited.sk-estimator-doc-link.fitted {\n",
       "  /* fitted */\n",
       "  border: var(--sklearn-color-fitted-level-1) 1pt solid;\n",
       "  color: var(--sklearn-color-fitted-level-1);\n",
       "}\n",
       "\n",
       "/* On hover */\n",
       "div.sk-estimator:hover .sk-estimator-doc-link:hover,\n",
       ".sk-estimator-doc-link:hover,\n",
       "div.sk-label-container:hover .sk-estimator-doc-link:hover,\n",
       ".sk-estimator-doc-link:hover {\n",
       "  /* unfitted */\n",
       "  background-color: var(--sklearn-color-unfitted-level-3);\n",
       "  color: var(--sklearn-color-background);\n",
       "  text-decoration: none;\n",
       "}\n",
       "\n",
       "div.sk-estimator.fitted:hover .sk-estimator-doc-link.fitted:hover,\n",
       ".sk-estimator-doc-link.fitted:hover,\n",
       "div.sk-label-container:hover .sk-estimator-doc-link.fitted:hover,\n",
       ".sk-estimator-doc-link.fitted:hover {\n",
       "  /* fitted */\n",
       "  background-color: var(--sklearn-color-fitted-level-3);\n",
       "  color: var(--sklearn-color-background);\n",
       "  text-decoration: none;\n",
       "}\n",
       "\n",
       "/* Span, style for the box shown on hovering the info icon */\n",
       ".sk-estimator-doc-link span {\n",
       "  display: none;\n",
       "  z-index: 9999;\n",
       "  position: relative;\n",
       "  font-weight: normal;\n",
       "  right: .2ex;\n",
       "  padding: .5ex;\n",
       "  margin: .5ex;\n",
       "  width: min-content;\n",
       "  min-width: 20ex;\n",
       "  max-width: 50ex;\n",
       "  color: var(--sklearn-color-text);\n",
       "  box-shadow: 2pt 2pt 4pt #999;\n",
       "  /* unfitted */\n",
       "  background: var(--sklearn-color-unfitted-level-0);\n",
       "  border: .5pt solid var(--sklearn-color-unfitted-level-3);\n",
       "}\n",
       "\n",
       ".sk-estimator-doc-link.fitted span {\n",
       "  /* fitted */\n",
       "  background: var(--sklearn-color-fitted-level-0);\n",
       "  border: var(--sklearn-color-fitted-level-3);\n",
       "}\n",
       "\n",
       ".sk-estimator-doc-link:hover span {\n",
       "  display: block;\n",
       "}\n",
       "\n",
       "/* \"?\"-specific style due to the `<a>` HTML tag */\n",
       "\n",
       "#sk-container-id-1 a.estimator_doc_link {\n",
       "  float: right;\n",
       "  font-size: 1rem;\n",
       "  line-height: 1em;\n",
       "  font-family: monospace;\n",
       "  background-color: var(--sklearn-color-background);\n",
       "  border-radius: 1rem;\n",
       "  height: 1rem;\n",
       "  width: 1rem;\n",
       "  text-decoration: none;\n",
       "  /* unfitted */\n",
       "  color: var(--sklearn-color-unfitted-level-1);\n",
       "  border: var(--sklearn-color-unfitted-level-1) 1pt solid;\n",
       "}\n",
       "\n",
       "#sk-container-id-1 a.estimator_doc_link.fitted {\n",
       "  /* fitted */\n",
       "  border: var(--sklearn-color-fitted-level-1) 1pt solid;\n",
       "  color: var(--sklearn-color-fitted-level-1);\n",
       "}\n",
       "\n",
       "/* On hover */\n",
       "#sk-container-id-1 a.estimator_doc_link:hover {\n",
       "  /* unfitted */\n",
       "  background-color: var(--sklearn-color-unfitted-level-3);\n",
       "  color: var(--sklearn-color-background);\n",
       "  text-decoration: none;\n",
       "}\n",
       "\n",
       "#sk-container-id-1 a.estimator_doc_link.fitted:hover {\n",
       "  /* fitted */\n",
       "  background-color: var(--sklearn-color-fitted-level-3);\n",
       "}\n",
       "\n",
       ".estimator-table summary {\n",
       "    padding: .5rem;\n",
       "    font-family: monospace;\n",
       "    cursor: pointer;\n",
       "}\n",
       "\n",
       ".estimator-table details[open] {\n",
       "    padding-left: 0.1rem;\n",
       "    padding-right: 0.1rem;\n",
       "    padding-bottom: 0.3rem;\n",
       "}\n",
       "\n",
       ".estimator-table .parameters-table {\n",
       "    margin-left: auto !important;\n",
       "    margin-right: auto !important;\n",
       "}\n",
       "\n",
       ".estimator-table .parameters-table tr:nth-child(odd) {\n",
       "    background-color: #fff;\n",
       "}\n",
       "\n",
       ".estimator-table .parameters-table tr:nth-child(even) {\n",
       "    background-color: #f6f6f6;\n",
       "}\n",
       "\n",
       ".estimator-table .parameters-table tr:hover {\n",
       "    background-color: #e0e0e0;\n",
       "}\n",
       "\n",
       ".estimator-table table td {\n",
       "    border: 1px solid rgba(106, 105, 104, 0.232);\n",
       "}\n",
       "\n",
       ".user-set td {\n",
       "    color:rgb(255, 94, 0);\n",
       "    text-align: left;\n",
       "}\n",
       "\n",
       ".user-set td.value pre {\n",
       "    color:rgb(255, 94, 0) !important;\n",
       "    background-color: transparent !important;\n",
       "}\n",
       "\n",
       ".default td {\n",
       "    color: black;\n",
       "    text-align: left;\n",
       "}\n",
       "\n",
       ".user-set td i,\n",
       ".default td i {\n",
       "    color: black;\n",
       "}\n",
       "\n",
       ".copy-paste-icon {\n",
       "    background-image: url(data:image/svg+xml;base64,PHN2ZyB4bWxucz0iaHR0cDovL3d3dy53My5vcmcvMjAwMC9zdmciIHZpZXdCb3g9IjAgMCA0NDggNTEyIj48IS0tIUZvbnQgQXdlc29tZSBGcmVlIDYuNy4yIGJ5IEBmb250YXdlc29tZSAtIGh0dHBzOi8vZm9udGF3ZXNvbWUuY29tIExpY2Vuc2UgLSBodHRwczovL2ZvbnRhd2Vzb21lLmNvbS9saWNlbnNlL2ZyZWUgQ29weXJpZ2h0IDIwMjUgRm9udGljb25zLCBJbmMuLS0+PHBhdGggZD0iTTIwOCAwTDMzMi4xIDBjMTIuNyAwIDI0LjkgNS4xIDMzLjkgMTQuMWw2Ny45IDY3LjljOSA5IDE0LjEgMjEuMiAxNC4xIDMzLjlMNDQ4IDMzNmMwIDI2LjUtMjEuNSA0OC00OCA0OGwtMTkyIDBjLTI2LjUgMC00OC0yMS41LTQ4LTQ4bDAtMjg4YzAtMjYuNSAyMS41LTQ4IDQ4LTQ4ek00OCAxMjhsODAgMCAwIDY0LTY0IDAgMCAyNTYgMTkyIDAgMC0zMiA2NCAwIDAgNDhjMCAyNi41LTIxLjUgNDgtNDggNDhMNDggNTEyYy0yNi41IDAtNDgtMjEuNS00OC00OEwwIDE3NmMwLTI2LjUgMjEuNS00OCA0OC00OHoiLz48L3N2Zz4=);\n",
       "    background-repeat: no-repeat;\n",
       "    background-size: 14px 14px;\n",
       "    background-position: 0;\n",
       "    display: inline-block;\n",
       "    width: 14px;\n",
       "    height: 14px;\n",
       "    cursor: pointer;\n",
       "}\n",
       "</style><body><div id=\"sk-container-id-1\" class=\"sk-top-container\"><div class=\"sk-text-repr-fallback\"><pre>Pipeline(steps=[(&#x27;standardscaler&#x27;, StandardScaler()),\n",
       "                (&#x27;kmeans&#x27;, KMeans(n_clusters=2, random_state=42))])</pre><b>In a Jupyter environment, please rerun this cell to show the HTML representation or trust the notebook. <br />On GitHub, the HTML representation is unable to render, please try loading this page with nbviewer.org.</b></div><div class=\"sk-container\" hidden><div class=\"sk-item sk-dashed-wrapped\"><div class=\"sk-label-container\"><div class=\"sk-label fitted sk-toggleable\"><input class=\"sk-toggleable__control sk-hidden--visually\" id=\"sk-estimator-id-1\" type=\"checkbox\" ><label for=\"sk-estimator-id-1\" class=\"sk-toggleable__label fitted sk-toggleable__label-arrow\"><div><div>Pipeline</div></div><div><a class=\"sk-estimator-doc-link fitted\" rel=\"noreferrer\" target=\"_blank\" href=\"https://scikit-learn.org/1.7/modules/generated/sklearn.pipeline.Pipeline.html\">?<span>Documentation for Pipeline</span></a><span class=\"sk-estimator-doc-link fitted\">i<span>Fitted</span></span></div></label><div class=\"sk-toggleable__content fitted\" data-param-prefix=\"\">\n",
       "        <div class=\"estimator-table\">\n",
       "            <details>\n",
       "                <summary>Parameters</summary>\n",
       "                <table class=\"parameters-table\">\n",
       "                  <tbody>\n",
       "                    \n",
       "        <tr class=\"user-set\">\n",
       "            <td><i class=\"copy-paste-icon\"\n",
       "                 onclick=\"copyToClipboard('steps',\n",
       "                          this.parentElement.nextElementSibling)\"\n",
       "            ></i></td>\n",
       "            <td class=\"param\">steps&nbsp;</td>\n",
       "            <td class=\"value\">[(&#x27;standardscaler&#x27;, ...), (&#x27;kmeans&#x27;, ...)]</td>\n",
       "        </tr>\n",
       "    \n",
       "\n",
       "        <tr class=\"default\">\n",
       "            <td><i class=\"copy-paste-icon\"\n",
       "                 onclick=\"copyToClipboard('transform_input',\n",
       "                          this.parentElement.nextElementSibling)\"\n",
       "            ></i></td>\n",
       "            <td class=\"param\">transform_input&nbsp;</td>\n",
       "            <td class=\"value\">None</td>\n",
       "        </tr>\n",
       "    \n",
       "\n",
       "        <tr class=\"default\">\n",
       "            <td><i class=\"copy-paste-icon\"\n",
       "                 onclick=\"copyToClipboard('memory',\n",
       "                          this.parentElement.nextElementSibling)\"\n",
       "            ></i></td>\n",
       "            <td class=\"param\">memory&nbsp;</td>\n",
       "            <td class=\"value\">None</td>\n",
       "        </tr>\n",
       "    \n",
       "\n",
       "        <tr class=\"default\">\n",
       "            <td><i class=\"copy-paste-icon\"\n",
       "                 onclick=\"copyToClipboard('verbose',\n",
       "                          this.parentElement.nextElementSibling)\"\n",
       "            ></i></td>\n",
       "            <td class=\"param\">verbose&nbsp;</td>\n",
       "            <td class=\"value\">False</td>\n",
       "        </tr>\n",
       "    \n",
       "                  </tbody>\n",
       "                </table>\n",
       "            </details>\n",
       "        </div>\n",
       "    </div></div></div><div class=\"sk-serial\"><div class=\"sk-item\"><div class=\"sk-estimator fitted sk-toggleable\"><input class=\"sk-toggleable__control sk-hidden--visually\" id=\"sk-estimator-id-2\" type=\"checkbox\" ><label for=\"sk-estimator-id-2\" class=\"sk-toggleable__label fitted sk-toggleable__label-arrow\"><div><div>StandardScaler</div></div><div><a class=\"sk-estimator-doc-link fitted\" rel=\"noreferrer\" target=\"_blank\" href=\"https://scikit-learn.org/1.7/modules/generated/sklearn.preprocessing.StandardScaler.html\">?<span>Documentation for StandardScaler</span></a></div></label><div class=\"sk-toggleable__content fitted\" data-param-prefix=\"standardscaler__\">\n",
       "        <div class=\"estimator-table\">\n",
       "            <details>\n",
       "                <summary>Parameters</summary>\n",
       "                <table class=\"parameters-table\">\n",
       "                  <tbody>\n",
       "                    \n",
       "        <tr class=\"default\">\n",
       "            <td><i class=\"copy-paste-icon\"\n",
       "                 onclick=\"copyToClipboard('copy',\n",
       "                          this.parentElement.nextElementSibling)\"\n",
       "            ></i></td>\n",
       "            <td class=\"param\">copy&nbsp;</td>\n",
       "            <td class=\"value\">True</td>\n",
       "        </tr>\n",
       "    \n",
       "\n",
       "        <tr class=\"default\">\n",
       "            <td><i class=\"copy-paste-icon\"\n",
       "                 onclick=\"copyToClipboard('with_mean',\n",
       "                          this.parentElement.nextElementSibling)\"\n",
       "            ></i></td>\n",
       "            <td class=\"param\">with_mean&nbsp;</td>\n",
       "            <td class=\"value\">True</td>\n",
       "        </tr>\n",
       "    \n",
       "\n",
       "        <tr class=\"default\">\n",
       "            <td><i class=\"copy-paste-icon\"\n",
       "                 onclick=\"copyToClipboard('with_std',\n",
       "                          this.parentElement.nextElementSibling)\"\n",
       "            ></i></td>\n",
       "            <td class=\"param\">with_std&nbsp;</td>\n",
       "            <td class=\"value\">True</td>\n",
       "        </tr>\n",
       "    \n",
       "                  </tbody>\n",
       "                </table>\n",
       "            </details>\n",
       "        </div>\n",
       "    </div></div></div><div class=\"sk-item\"><div class=\"sk-estimator fitted sk-toggleable\"><input class=\"sk-toggleable__control sk-hidden--visually\" id=\"sk-estimator-id-3\" type=\"checkbox\" ><label for=\"sk-estimator-id-3\" class=\"sk-toggleable__label fitted sk-toggleable__label-arrow\"><div><div>KMeans</div></div><div><a class=\"sk-estimator-doc-link fitted\" rel=\"noreferrer\" target=\"_blank\" href=\"https://scikit-learn.org/1.7/modules/generated/sklearn.cluster.KMeans.html\">?<span>Documentation for KMeans</span></a></div></label><div class=\"sk-toggleable__content fitted\" data-param-prefix=\"kmeans__\">\n",
       "        <div class=\"estimator-table\">\n",
       "            <details>\n",
       "                <summary>Parameters</summary>\n",
       "                <table class=\"parameters-table\">\n",
       "                  <tbody>\n",
       "                    \n",
       "        <tr class=\"user-set\">\n",
       "            <td><i class=\"copy-paste-icon\"\n",
       "                 onclick=\"copyToClipboard('n_clusters',\n",
       "                          this.parentElement.nextElementSibling)\"\n",
       "            ></i></td>\n",
       "            <td class=\"param\">n_clusters&nbsp;</td>\n",
       "            <td class=\"value\">2</td>\n",
       "        </tr>\n",
       "    \n",
       "\n",
       "        <tr class=\"default\">\n",
       "            <td><i class=\"copy-paste-icon\"\n",
       "                 onclick=\"copyToClipboard('init',\n",
       "                          this.parentElement.nextElementSibling)\"\n",
       "            ></i></td>\n",
       "            <td class=\"param\">init&nbsp;</td>\n",
       "            <td class=\"value\">&#x27;k-means++&#x27;</td>\n",
       "        </tr>\n",
       "    \n",
       "\n",
       "        <tr class=\"default\">\n",
       "            <td><i class=\"copy-paste-icon\"\n",
       "                 onclick=\"copyToClipboard('n_init',\n",
       "                          this.parentElement.nextElementSibling)\"\n",
       "            ></i></td>\n",
       "            <td class=\"param\">n_init&nbsp;</td>\n",
       "            <td class=\"value\">&#x27;auto&#x27;</td>\n",
       "        </tr>\n",
       "    \n",
       "\n",
       "        <tr class=\"default\">\n",
       "            <td><i class=\"copy-paste-icon\"\n",
       "                 onclick=\"copyToClipboard('max_iter',\n",
       "                          this.parentElement.nextElementSibling)\"\n",
       "            ></i></td>\n",
       "            <td class=\"param\">max_iter&nbsp;</td>\n",
       "            <td class=\"value\">300</td>\n",
       "        </tr>\n",
       "    \n",
       "\n",
       "        <tr class=\"default\">\n",
       "            <td><i class=\"copy-paste-icon\"\n",
       "                 onclick=\"copyToClipboard('tol',\n",
       "                          this.parentElement.nextElementSibling)\"\n",
       "            ></i></td>\n",
       "            <td class=\"param\">tol&nbsp;</td>\n",
       "            <td class=\"value\">0.0001</td>\n",
       "        </tr>\n",
       "    \n",
       "\n",
       "        <tr class=\"default\">\n",
       "            <td><i class=\"copy-paste-icon\"\n",
       "                 onclick=\"copyToClipboard('verbose',\n",
       "                          this.parentElement.nextElementSibling)\"\n",
       "            ></i></td>\n",
       "            <td class=\"param\">verbose&nbsp;</td>\n",
       "            <td class=\"value\">0</td>\n",
       "        </tr>\n",
       "    \n",
       "\n",
       "        <tr class=\"user-set\">\n",
       "            <td><i class=\"copy-paste-icon\"\n",
       "                 onclick=\"copyToClipboard('random_state',\n",
       "                          this.parentElement.nextElementSibling)\"\n",
       "            ></i></td>\n",
       "            <td class=\"param\">random_state&nbsp;</td>\n",
       "            <td class=\"value\">42</td>\n",
       "        </tr>\n",
       "    \n",
       "\n",
       "        <tr class=\"default\">\n",
       "            <td><i class=\"copy-paste-icon\"\n",
       "                 onclick=\"copyToClipboard('copy_x',\n",
       "                          this.parentElement.nextElementSibling)\"\n",
       "            ></i></td>\n",
       "            <td class=\"param\">copy_x&nbsp;</td>\n",
       "            <td class=\"value\">True</td>\n",
       "        </tr>\n",
       "    \n",
       "\n",
       "        <tr class=\"default\">\n",
       "            <td><i class=\"copy-paste-icon\"\n",
       "                 onclick=\"copyToClipboard('algorithm',\n",
       "                          this.parentElement.nextElementSibling)\"\n",
       "            ></i></td>\n",
       "            <td class=\"param\">algorithm&nbsp;</td>\n",
       "            <td class=\"value\">&#x27;lloyd&#x27;</td>\n",
       "        </tr>\n",
       "    \n",
       "                  </tbody>\n",
       "                </table>\n",
       "            </details>\n",
       "        </div>\n",
       "    </div></div></div></div></div></div></div><script>function copyToClipboard(text, element) {\n",
       "    // Get the parameter prefix from the closest toggleable content\n",
       "    const toggleableContent = element.closest('.sk-toggleable__content');\n",
       "    const paramPrefix = toggleableContent ? toggleableContent.dataset.paramPrefix : '';\n",
       "    const fullParamName = paramPrefix ? `${paramPrefix}${text}` : text;\n",
       "\n",
       "    const originalStyle = element.style;\n",
       "    const computedStyle = window.getComputedStyle(element);\n",
       "    const originalWidth = computedStyle.width;\n",
       "    const originalHTML = element.innerHTML.replace('Copied!', '');\n",
       "\n",
       "    navigator.clipboard.writeText(fullParamName)\n",
       "        .then(() => {\n",
       "            element.style.width = originalWidth;\n",
       "            element.style.color = 'green';\n",
       "            element.innerHTML = \"Copied!\";\n",
       "\n",
       "            setTimeout(() => {\n",
       "                element.innerHTML = originalHTML;\n",
       "                element.style = originalStyle;\n",
       "            }, 2000);\n",
       "        })\n",
       "        .catch(err => {\n",
       "            console.error('Failed to copy:', err);\n",
       "            element.style.color = 'red';\n",
       "            element.innerHTML = \"Failed!\";\n",
       "            setTimeout(() => {\n",
       "                element.innerHTML = originalHTML;\n",
       "                element.style = originalStyle;\n",
       "            }, 2000);\n",
       "        });\n",
       "    return false;\n",
       "}\n",
       "\n",
       "document.querySelectorAll('.fa-regular.fa-copy').forEach(function(element) {\n",
       "    const toggleableContent = element.closest('.sk-toggleable__content');\n",
       "    const paramPrefix = toggleableContent ? toggleableContent.dataset.paramPrefix : '';\n",
       "    const paramName = element.parentElement.nextElementSibling.textContent.trim();\n",
       "    const fullParamName = paramPrefix ? `${paramPrefix}${paramName}` : paramName;\n",
       "\n",
       "    element.setAttribute('title', fullParamName);\n",
       "});\n",
       "</script></body>"
      ],
      "text/plain": [
       "Pipeline(steps=[('standardscaler', StandardScaler()),\n",
       "                ('kmeans', KMeans(n_clusters=2, random_state=42))])"
      ]
     },
     "execution_count": 30,
     "metadata": {},
     "output_type": "execute_result"
    }
   ],
   "source": [
    "# Train final model\n",
    "final_model = make_pipeline(\n",
    "    StandardScaler(),\n",
    "    KMeans(n_clusters=2, random_state=42)\n",
    ")\n",
    "final_model.fit(X)"
   ]
  },
  {
   "cell_type": "code",
   "execution_count": 31,
   "id": "fb2f62fb",
   "metadata": {},
   "outputs": [
    {
     "data": {
      "application/vnd.microsoft.datawrangler.viewer.v0+json": {
       "columns": [
        {
         "name": "index",
         "rawType": "int64",
         "type": "integer"
        },
        {
         "name": "PC1",
         "rawType": "float64",
         "type": "float"
        },
        {
         "name": "PC2",
         "rawType": "float64",
         "type": "float"
        }
       ],
       "ref": "9057af76-bc17-4955-9efe-d3a2035fe728",
       "rows": [
        [
         "0",
         "-0.4626150465826969",
         "-0.39333920546450274"
        ],
        [
         "1",
         "-1.9851434786566535",
         "-0.13553839409118792"
        ],
        [
         "2",
         "-1.1669305475822829",
         "-0.4718709065325494"
        ],
        [
         "3",
         "-0.37475174814869183",
         "-0.3428068343907195"
        ],
        [
         "4",
         "-1.797276363380649",
         "-0.29169844473031714"
        ]
       ],
       "shape": {
        "columns": 2,
        "rows": 5
       }
      },
      "text/html": [
       "<div>\n",
       "<style scoped>\n",
       "    .dataframe tbody tr th:only-of-type {\n",
       "        vertical-align: middle;\n",
       "    }\n",
       "\n",
       "    .dataframe tbody tr th {\n",
       "        vertical-align: top;\n",
       "    }\n",
       "\n",
       "    .dataframe thead th {\n",
       "        text-align: right;\n",
       "    }\n",
       "</style>\n",
       "<table border=\"1\" class=\"dataframe\">\n",
       "  <thead>\n",
       "    <tr style=\"text-align: right;\">\n",
       "      <th></th>\n",
       "      <th>PC1</th>\n",
       "      <th>PC2</th>\n",
       "    </tr>\n",
       "  </thead>\n",
       "  <tbody>\n",
       "    <tr>\n",
       "      <th>0</th>\n",
       "      <td>-0.462615</td>\n",
       "      <td>-0.393339</td>\n",
       "    </tr>\n",
       "    <tr>\n",
       "      <th>1</th>\n",
       "      <td>-1.985143</td>\n",
       "      <td>-0.135538</td>\n",
       "    </tr>\n",
       "    <tr>\n",
       "      <th>2</th>\n",
       "      <td>-1.166931</td>\n",
       "      <td>-0.471871</td>\n",
       "    </tr>\n",
       "    <tr>\n",
       "      <th>3</th>\n",
       "      <td>-0.374752</td>\n",
       "      <td>-0.342807</td>\n",
       "    </tr>\n",
       "    <tr>\n",
       "      <th>4</th>\n",
       "      <td>-1.797276</td>\n",
       "      <td>-0.291698</td>\n",
       "    </tr>\n",
       "  </tbody>\n",
       "</table>\n",
       "</div>"
      ],
      "text/plain": [
       "        PC1       PC2\n",
       "0 -0.462615 -0.393339\n",
       "1 -1.985143 -0.135538\n",
       "2 -1.166931 -0.471871\n",
       "3 -0.374752 -0.342807\n",
       "4 -1.797276 -0.291698"
      ]
     },
     "execution_count": 31,
     "metadata": {},
     "output_type": "execute_result"
    }
   ],
   "source": [
    "# Apply PCA\n",
    "# Scale the data\n",
    "X_scaled = StandardScaler().fit_transform(X)\n",
    "\n",
    "pca = PCA(n_components=2)\n",
    "X_pca = pca.fit_transform(X_scaled)\n",
    "voice_pca = pd.DataFrame(X_pca, columns=[\"PC1\", \"PC2\"])\n",
    "voice_pca.head()"
   ]
  },
  {
   "cell_type": "code",
   "execution_count": 32,
   "id": "ca0c46b5",
   "metadata": {},
   "outputs": [
    {
     "data": {
      "application/vnd.plotly.v1+json": {
       "config": {
        "plotlyServerURL": "https://plot.ly"
       },
       "data": [
        {
         "hovertemplate": "color=0<br>PC1=%{x}<br>PC2=%{y}<extra></extra>",
         "legendgroup": "0",
         "marker": {
          "color": "#636efa",
          "symbol": "circle"
         },
         "mode": "markers",
         "name": "0",
         "showlegend": true,
         "type": "scattergl",
         "x": {
          "bdata": "6nPtI3yb3b8DK+vOJcP/v8IbqV2/q/K/qreawe7717/LfyncpMH8v/hYTkXYqPS/pKOJaw/Bvr8HXajFz/zovxun0YLyMNa/9pNC4SZi0r+WsSy+Azv0v3yUBdTMDOy/KSmIfn3P579BVtfSraj5v3Ai40hMz+S/89MZtOo6678EbCzntLvXP8MszqrB6qq/s5Fqpp8Q5b9cxF2uSPHsvxN3IvNHMQDA5fhTGAzq2j8yIw+3FRjzvwweXL8NqO2/0S0jrhSkAcAY3jMpxHPvP0N+gmWNpfi/3CxMTAvk/r9ZBhivPv//v+vZb7rdXfG/eGcEWZ0q9D8NnFHEOufEv2ViCTc8Yf+/APco8Goh7b9WEllHu833vyXH/vL/ob4/0F2pDtRS/j82roTc+W7+v4CQdmoIIfu/Lt2LHMF0AcDvDUoaaFX0Py+7s8GJhqi/dPQseZrP8r+62BCOU0P7v39p62CPYPu/ry7xgEnP+L+XNamBgLf/v509qGQutfO/hLEQ91JA9b8poIClp6r4v9in5I0wsgbAHH8iFNbw478P8tr6L2UDwOGCrIESV9A/DzWcm9Jt+L9fTqKMdLfVv7VGKgwBgvm/nAz33ymEzD8D0ibWDOK4P6Ww0kRsv7I/re2YJrkv/r8hGeXn6cD2v8Hj31LpwwHAKDgMJTH7BsBM55OovYwEwELYx9gTHMS/x1StXg1E+78gDlwPndf9v/fdMbTejATACNZcL1Kw77+Jn8eRSYDyv+xYAaXxhPW/8A4pQw70Lj/QMSEKmzLov65RcPDh4gfAUv1OkYir8L+keQeZQtXnvzsbW99KTwPAnj7k+BT6/b/gi92N0fv4vwmWn8mTA/G/HvMJiX6Q8b+U3DRBKs/7v1smVl2FTNS/Hzxlv/P47z9cyUteKqsAwAW1n7DtdPS/ZHhkpUO9/L+/XUS02zvyv4tw4T9X5P+/gZioqfrM5L8/rb3mQXwBwJVaId3eYO+/3PRZcm4JAcDCHLB5pq3/v/AjHx9eAPO/d0ojJIg2/b/3THh5AlwAwKCrmP0gM+a/ts+KKbXWAcC46QwRQx/kvwrGr7Gmb/a/3nODzALKAsCjairUvrP0v1If/RKf+Pm/37NZn7OJyj8/Zr9tnpv1v8vID1Uhv++/drH2j7Ub/r916F+PXQj3P6Tlmvl7DwLAjIoxu2hx/b/cqLh48f7+v6s0Ka45cQLAOHDsza5BBMBcrr2e66L1v7v4jXpQZPq/AutJ094Q9r+bVzg4DrDov+s1dThUQfi/Bep2mohJ57+M0pkqTOncvwJfMFOwgwLA8JsjnXaM5L8equioLZsJwLGfjBqnOALA9xyN7RbaB8ATcfk1WzgIwLDbwgAeF/+/pN4z4Np+A8A/yw/bViUDwHfrpItaf/q/7QpZ68B3AcCJjWdcrOrIP/+DjiXrlQLA1NGmQ+gn/r9TN9Y9gcoHwDgAUTQdbMc/mSD9+ob89b/stx6Ebqfpv0nx2fbt2Pq/Kku/DOPH/7+9s4fp9e7gP7DErUpI4fa/qO+RWRMpBcAzv1F2Y3b1v559TcMDTgPAJGptF0EABsD+BKnA33Tgv7nJHmUiJrE/DIfoghcn8z8UGSgWDmXrP6Pcjn/ZQ/E/NDuPzDvp4r+EIzuQck7fP6tAelZCS/s/i1NEjuT04D9vBI0t40AIQFfKCw75ZPE/zZnvGiaa5T+7pzbCHQYFQOrUywkLfwZAMx3VvZ5M9D/3SXPIiBIDQAccFP+yJP8/DXXLsMJGAkA+L+L00i7ovy3arLKCD+U/+Tt0opuX7T8g5Yu/VFLhPxZ/gl7NAhBACgZkY5GrBUCosdVUM+/hP0HwaMZDRs4/DLVYV9ISzT9Ontcwg36xv4GPQOC+W7E/xJddJ49U7j9zdlrlcKHqv35TCz6Y1IM/veuChuC56D92WXrop2rWv0mOsHk7hOC/SOa4EXvv9D+B8PKddufQv/uNpyo0buY/ah7QL/MH9D8w7VMD+z/Nv14Sxh/1NgRAy+5eYTn9/T99Dv7aruTWv8NqnifOwxFAUCJjSFmf6T8BdpVkOqPiv9EaoMTY59C/hmHAVw1y9z8erNczIUPiP/HQsEI2Lva/cAb3sTA71T8ZqFgL3uf9PyX3Ho8Au+u/wm+ckTzE3z9AV54fHKHrP6LaEPocA/c/QVNCcy102L920myKvBjhPyxqPhU9RsK/cs8moSbM8z9qYAHtHEDSv59A+lvZwwRAxp1DMY0E/z+WX/AImqzeP/49zi9fTuM/i6lCWp5M4j8gOyB+HAbHPzoL7DHNqOy/bCqA89tP8z/SYXK+qWoAQCWtSYdSV/G/JwILrPeAzz9hKf8ASv/fP2vQq4PJNNi/IXnU1hMn/r+vv5E+26jlP/fHj0P4IOA/HzJ870mp6z+LoKZuBkWxv8Ip6B0ss9e/X8KghkM15b9fjTlOSQ/zP1bnyfLu+vA/pJKUdGvS4r8davh4DCwLQO9uhP1VHuA/PfO76Rpp5j90SWI8e0LfPyDK6DEoAe0/XUeejTS06j+GKQR1blHsP2Z5T1Hjt7A/0F7RIzdk7z9RhSrTM+XMPxesGGkaIPQ/+ma/z92E9r+m9H14Vs0NQLEV1DHLBNO/UuvPTtBM5D+PBmwc+z7xv1HSxv4a+sG/6ncHsBkKt7/0RENpyNnqP555yRdbDcK/N/dqqEr11b8QxPdiWYHbP+ZxUdAuebK/42Kinulo8b+tsJXkeLX8P35ZxbwdcfA/pb5YycMj1j9imSgCvXTZP7Z0Eb5mztI/jkq3VW9W+T8ZQRD1L1Tmv3AXFzzW8tK/tMFDeExA6r+kFcSGzU3qP5+agFEdiPY/q0k/WynB9r86aSrfSdXwv3wl6FlPmfq/uF55FOL4079cOZ7dNovuv5eDHXjRc5O/gW+CWYhIB0Akly4bXs3Tv8oDNMNSYMy/92y6Q3koy795u0srvbr4P1owumyGQvg/ssAhJsLx6b9vyiGfD1jgvziiscayf+C/YChyJVHY9z+3BOxVLmwFQMJ/RkGRC+K/8Mgs5GDqxD91puMtdb/pP8ZEBT79JuS/14mkzos3+b8LJ6+7Q03GP8RHy9/2nPC/huSTzSFO5j+pfymgOfnfv4dWTILOcua/1M8SOCXSAcCaT+DE4aP/v3T4FJU6Pv+/IvqvjLIh+L+wtoHAMCEBwHKtJlTd2fq/JY5bOqr9+T/MtH7iMX8AwGg3yEB3OP6/Xbul2IOcA8DdSbx0uU3wv3lAod6iSwDAivUywXLr/L+RPMHDrusAwBFzU1L6NQPAlR+Pes1v9b9A+DYLJy/8vxUwAmQq65w/jYUTaKTVAMBr32nfTkAEwGhZipVSxey/VrIXDu2IAcBw6yEYuKgFwN+aqrgBRbO/jyqzZyiy+7+miuyY3aEFwNJpqA4ZiwHAPAUixbLa+79qfEODyr33v9uzhpOvW+e/OzPwIBwF/7/+BAh/17cDwBXlQ2UWHgTAnqG7WwXfCcCJvwmeVbv1v6/6n8rgQ/+/LDwo4Ivt+b90JdzA8kABwJ16ESDjDvu/CSQiXCGiAsCCv1kxvIkCwEbjHHt5q/C/Fsirobn8BsB2xk3/F0r8v5THRmMp6QHAcBROyWqxAsDR4elyb8cCwDy4nBoEo9q/9MOyMBZO/r8KJms+bmP7vxg7pXSQZPS/TqRQ4/UN/7/s7TnO4ib+v2ZadKwRe92/1aWqs9I3+b/XbrDzZ7oEwHrzzWufGf6/pCLtwN6BBsBFpjD8bdn4v5HRvo+vT/m/YTRtENeg/L9CHkiysRP2v7WJsBw8jgHA5T495FjYAsAYWcM3lPUFwLBD9ZZqasy/0Ogj7b/4A8DEw6KDfSsCwOOxYpjF4ALAkdDqnN7xAsBOOkhE8WcAwLIXHvfKF/m/dW9uwCLT+b8LOCw0X5bwv0T9kKGRO/m/tyGdpaydAcCwTzxAviwAwOA0+xtmWv+/ohmbluNp/7/tIYkNs7b+vxPoaYvNOPW/jqdJa2yOBMDGP5q7EdcAwD+kIWBewPa/PrZ8+Uuv+792Ut2kneT7vyQghRxnJv6/QmWIV0Na9L9vZVRi7iAGwPiohCh1fQLAyvKG+wrZAsCpUN3Z7pcBwJpYlTusQPi/GAfqNKZ1A8AhdiDSifUBwA+Prz/AUvS/A25U5Hpb/r/P5H29XgYBwEXYjfsD5/y/5sj9S1nGAsDRzJJLy6b7v0u/DQj6GwHA/Wp56Peb87+SxzJK3zIGwBnhZMwGrvi/VnpRfjfLBcAexWABYWDqvzLZOZW66gPA/4RZOnll87+F62iqch/zv1uEf80ZqwPAul55mD+f/r+qTUXb8boCwGizd0i6FwLAHyAPXgwjAsBhPNe9Y18BwAwNBZaMUwfABUOVBHUF+L8EIkHQehsCwO6/HCyNOvG/XQdk/HYv979FrsOX7bHov014a3du1fS/pqU31h3z+7+rMW+AJTTmvyxz+HW7kPq/lyzByGsSwj+wMChGfZ37vyY/Ddf1HAXAZo02zh1PA8B4aR3Hwfrgv6ug/JBUzPe/5WYSUbCi6b/JYuDsji8CwETQpQ1eWvO/LuajRDb9AMBdCY+kCT4BwHJr9S/lV/6/FkMZRIctAcDtlBffpmL8v7LpPQ7H4vq/hayjkEbJ8b8BvKxGEKP0v/Oadz3XpeO/REUrLLpo4T9PNk42HnPkv7LPruIvrus/qrgk3HB05T94qd/kksiQv890bQjR9wFA49TCRAd74T9gpSU7os3nP2ia1ooXd8S/2ZYj2fct6z820g8DzCvlP3Z7ln4/XhJAZaFK42gaCECB58/KVmDVv2dtkW5HReE/A6Cam8kDBUBPHEQGkXLkP8ioQm6xCdy/reFwpAnMB0Cteqqu2N3mPx8jaUdlqwBAbFr5TnBX3D95ZH6jcm4JQGoWS0ulTfU/ArrYSoV5FED5WduDRAMMQDPQ5SD/Fcw/LJFevEaf6z/+ED8M5pLxPykL8gbdseM/q7OsSDYWiL+mZIIUHxzEvwogZA2x8uo/+G4ZOiE767/a0Wz12BnKv4QDY4M0HdW/yMnwU2o/0r+4NSJwGdHxv9QVJ+l1WvC/0p1D+xyy5T+o/xRTGaXwvyfdg9TwDQFA9yeZzt1K9z+KZjPBoJLTv4jny19Ryu2/FZGJHmaUPz8k1gRDUp/av/aqB2jXNfg/aI8JRRbNvT9h+dOoepuoP+GrF1GDCea/CLC6mXfZgL8jI3ya4eXxvzH4Anof6Nu/OCkkmNIHxD/yPOe+pdHzPwazi0t5zu2/Dr77rdg66b+ENRrhwzvFP7wmYQ0B1OI/aKA4VQ+y77/Yfl4vJFD1v2Yl/c7v+9m/CXsgGylE2T+Xuhm70OXKv0hWnS6cw7w/GxtVPu7/pb+YcrHBarTdv978714KafU/xcFSeW01wT8mrq5a5wcAQCE11uCrAdw/fxTKDSbW6L/yFodpAsntv2SJlH/0yfO/qOg5nXQW6z/6gABLiZjdP9kwdS3R+ee/sII2r82v2r97hp7ltqvrv52+ySohEOu/5opuvnNA8L+N23T67tv0P3wQUdqgo6A/EHER2EU5AEBt9fEKJznxvyc4M2oMsA1ASzIxr3jn8L8XSK4K4YjbPw8J/imXRQhANSZ1kgVPA0Bus1+935ruP2aAcYKKCte/y49+VxSX2T9auhAGONj2v1cmgWPwnPO/LEhOJ2QtA0BhLrrBWHYBQAZG0mSacMW/gaen6Sf/1D8y2GnGgj7nPxNCMH5eae6/x0oIXi/J179DclP/o0f0v92l5eT51sA/EV3qsOxV7b9GXk2M9SrsP+ChaReIOr6/HD/4W1w59L/eSZQlcOHsvxmmztH2++q/qyF0+iYUA0DKmkhlYLP7P6NwHITYSOy/iM5Fcs9W0b93S1TAXxnav19Hp4/t/fa/427AbHNR57/7SBfAA5XnvyfOvFFJTv0/cGOuIJCb3z8tw9iTqhjoP/Uvy36pF+s/1PTmlvRVzr90FTZ8rfXNv1Mp9MqtWuE/RdKiaDf23D8hnUX4BJPfvyoXQ8jbON4/EsWtAE2V5j8ALeC/8XXXP4NZh4I7ULe/h8Cn5YTX8z+1H5GPMHPpv2cEMyvdVuo/YvDUQ7ph4D9rrIM+ir7mPyNe4CA3qbQ/VYqp7K2H379Ist6BR0LfvyHzKKWzZN2/YCkTkPAu4b9+N7cnPpfxP0H/TAs9wr6/BwKk8rb00T9bNcE2JjbzP6whUvMa49A/cQ1tpU4b6r/KLUzA987bvzviIvihjtK/S4M241D24r+fOGrnDFoQQNv9vf9kuN8/i/IGSOrdAUD/p7WQh87UPxZGPFGZdeg/jiec7lBh7789m+wCqejzv+l5atlpmZa/+bsMLKml/z9r8wLCznbYv0SwIS1Q6eM/do84my+08L8D5ES78pzkv0pgNKVQbqi/Vh0eXL9p8b8/hELTszbTv3qXfqgB95m/wAoMloTF67/a4Yvx4EfSv9IrUFfs2/G/JyzCE2f3zb82yEbkbifzv2sVxbVUgaI/pna/FgDm4L/WXdJ4wXvyP191/oBuTeO/0H59PHW4/L/CqKLRexTAP1T7aJOLAf4/4GvijRjZ978yYgwiqA/gv36k+xhRLvW/GTrpsbBW5L8fLtYJRbbWPz0Rxn4NqcK/ttX0gFju/D9CTxs4sJTcv5GGE6QBG7m/Qd7Jc9o887/p2dOsE0mxvxzHQ3xR6NA/eS/kv0nb8z+8oA3gCm3tvwX3m2aFnANA6Tak4PjX27++yqi0WKjqv37L13teNvS/1yI9fRNEvD8sqdh5Ecjhv2huEFIW77C/LUbGjJeN5L9tQeOZK4evv56ND/VpSNe/5pknZZdf579RrWlRjbnyPycrf0yxZt+/erekhrA43j8yhZKR8v7LP1lfxvmRgt6/ZtfANYsq+T9WUemw9yDgvxb17YT5APo/1Wz+sNFK67/ST/R/ii/Vv9+GG5JBjeQ/jaLaocLizb8bo/99uPHZv0bwKKrbCMK/nUTk66kP4b/bbIAoX5XtP5ibdBMxJNC/vG/ltxRf+T8fyes4V9Ppv4A8YeWl1PK/JQI3UodlEUDK+nvvvwfZv7w2SK3n7si/VrFV/s0V6j+qAmC8osf6P02mhRfc1eS/k2tLjLEf1j9D5wlP/w3QvyA9aL5Jwe6/xYTj3lCQub90JwbKYwfRv70cTbml1dO/R0+OLZ/c6L8wJCc4OHlov9cN+ewPCd2/bOcpGhFm5b+1WnGV9BHUv7Y7NRVoPvI/5txlxWwPvj+gBJGIRrPZP/4op2qJtOk/+0rWt+nz6b+iJ0MA/JTVP7SXvHbFTeM/fH/2p3Hbw79/2m53Har2v9i5zRGgN7y/K4ECOQfwz7+ujd8qPQ31v8KD22rPOcG/czLc5TIj6D87M9JGNJDfP/+FoIgSx8c/tQ9iG1gT7L93V1mk9ybzP5zmt2jlqQNAch2MFvuS2j8IFllniKXPvy1KMtGKy+O/rAf2OHQT8L9IcUQGtUfZvyEbXVPMlOs/mLg6X6P0+b9VhxwAofXJv/iK30R0ZOQ/jCgi1Usm979tp9CTpRDpP/Rd1E0ch+2/W3kafLFl4z9V0cuX8TDGv/yEd4QNsfE/zo58aSjEpz85b+b21H7yv4HnOSj41ue/YFlC//Iy8786nvrTn97sv+jeLFznSeq/bhvqoG4B7L+KmF4gBWDXvw1yqC196dg/XaPfbAvH/z+27gC4uHupvw4P8oO19/U/qR1Cvf9+CUDpBfZgjHreP4Sv9CsBXOE/ksnmOdQ/vL9KRoixaykKQH6oVxMm3/I/45+IEmEe+D8M5+WbJTPpP0V0UzoWQwNAw0Va+0696T95TRDWTMuDv4MTexmK2tK/8bfg8u4Q779lU6CZWP/1P2zGce6TGQZA6TYz88GIBEAEZiBRdW4NQNrWvXYqhO0/YuoDveaM7T8cVHmu2eXlP5uKzYhx7whA25j/DsNJ6z+0Pob6pxYPQIQvJ3JDBuW/58VGHgYOdz9FDpmhgEXYv8iWMadhR9A/+1egU45b8L+or4EOJJnsvz7uemGtf+m/TcliubHE8z/nWp0zZ3jTv2eYaE7U59m/7q3CTIap0L8VdqsunDG9P+yVdq5le/a/ZJuwC+VOyz9kfYFEYvXZv9t/unXgTei/aXJDOQmT8L+ZOjMw5hP7P+1la2ANKOg/weEu/HUN0L9DOEuhTn3sP3H6ICCFbeA/nggjap+kzj/nKHdvefPhP/596dB+5eU/yqtYWSih7j84AJvu2z3zPz54mkopNve/1peLBUVSw78WC1K2a1v2vw87grt0Xee/+aB69meX4L+ZZ56968LUv++CZaDamMc/mG8nok6k77+XePW7OnjnP23GhaPeH/K/Dmn1/YAG378jglYnYeDgv2m4mthFhO6/geLur+mW9b+WU6ioqfzrv2sTTP8ks/S/9pqTd3Vc9j9zMUsMTWzsv6cLJbYP7+i/FbB0LL3A2z8PYoKu2FbwP9FofcsOhMK/dCu3oPA54z/liXT7+fjPP/4wyFrrj+w/MVk4XElr/D/gA5DdZlj3v21LyE1YfvI/Na9NC6f65z8ROY7WEmfrv+N4r3r7VdS/Oa/iMVud47/xmzoBKHnqP4VeMpj3B48/HFu8wrnF+z9fntCgFjvmP37bw6XS1gVA/V4SWlua778nY2J0u0rqv2YD+oq8/A5A9F3bN3sW9T9gs5WKGTPTv2scuk3qLtc/bw70bI/E9T80CcKG65nSP2e7qYvjzvk/PU48jx8+47/6q7GDzebbP0FHhYKw3Q1AlmLte3BL0D9k55vTS9/1P9bDC7wFVd0/wkX+S+WNx7/WINa38w34P8uVP3BKBKW/6YluDD2G1r+lClbaIVOwP42iNjoJ6OC/z6N6PGWV3r8tiR7IASL2vyqSMp3gi9A/VG8SvkBM4r/WEpj6mHS3P9JsqxGXx/a/stbE3+tX878RoevRhMbaPx63UtbEtso//6sk/B/5yL8pVPyW0w3ov6Rr35GgwHQ/3tG3Zb7o7L9s3HwHWzvyP1kqnsV2LvK/OoyR6rED5z/A3hBNWAj1PzpT4ugx7d8/nTFPskc75T/8IdO/wTXmP80tMnyoTu+/gLXPNhJBAECXgqtyncTwP3UyWGyl5/C/5Nj5apvg1j9gdKefEFvlv+YaZZ2I1Ka/1SWQPqF++L/sXi7SxiHcvx4Pe/IjGKs/iSvZ5uTc9r9K9DqPTaD0v4RtTfa05vu/dmerQCAT8r/Y/aFTdB+nv02hdbgOBea/IzE/msGB+T+BoY0RAQikv8klYib3+NO/dWbcrSEa8j9hITmGZsMEQEaI8LvHmOg/wbiC3DwfBUBabrFNhGHOP66b6JCYLdg/Er28aLN2CUC3qUalYQfSv4oAh9qs6dA/3I0cpH674D9lUMDxkvPhP2UJzAN/1MW/ygcFVZhN5b+vo5PjsiPxv/hGlt/nXPE/57bfw7xu/T/1MumKlfXiv2KFo6VUWNc/ee287v7z+z/icaGru6y6vyM3N7hE/uO/3I5byPsV579jIXcWHc/1P3w8+zYaKsc/hf7Whe2oDUCwWkfrg3rzPxofHMqZKOi/+pkWgwZ+6T+Z4EglaBbcP1peM2zxCvI/OrGbzbhQ8D+OXmNiI+vXP6FqaybSffs/XUy1Trua+z/vsqt8dO7DvxWqO3pAgNA/tN9tEAW07L9P1T+UaFjwv/cUBcTHGPI/Sbt48o4r2L/RkqC5xfvzv4rqm1CD0e2/ForNB+Ox2T8hr5FsnCzBvwFVi9KI08S/Z4ZoUkTL879FF2gW+rPQv7LLILX06eq/MQ2bAQnZ87+tS9e77OrDP2SdS7en4fW/clmSn7En9b/TV4OACW/dvzTV+JKi8vK/COPO+RZg5D/rgZdqMyrlP6gXHJMwYfK/JdwCDZop8r8hHPTweKPZvxe7VVaug78/xdQajiAe/T9R1ZeTKjDpv9LVjUpyjt4/Vo1BhV3kyr+dy77mg1vnv5FQVCKqwOM/JOopmI1h9r8akLrIIkzkv+WNduB5rtC/h4b/wicRxb9a2+lKydnUvzQVhFxt36u/0QudqY+I4L9zWOjLKFPtvwC40AOOXfG/To8HziXH+r/bPIu/k4vav5w9BjKPmey/7fZ2wF344b8gWIRTnMPlv/jV2N6wxei/aXm268Ty7r9z68kYWQ64P5a+0yVhOM+/dLgMRPhs2r/xknMlO2LZv5W6+GjVq+Y/cavsQqN24z88z07D8Gngv1S2Uo6sjdO/qm74PbrN3D9FPOXRJvPwv/sKzLfI+8e/bF7zGYKA7L/ZPRM3bmnUv/BhfpqjgeI/51bAZPO6+b9n+gUeOHvzPzFdkApsGvO/c6x5DM7j2r9Sy7axBtPFPzrTJw/uNN+/cBh4Pq6U87+yCkYqtaLzv4p+EDwXW+q//lYp2rjF3j8uXLPrN9ToP6fNqEvEg+M/944T9cdXwz/5WtIAhG/Tvyl0DTHOMPy/3H6woaIR5L9/bw3Z9dDDv0+gjif/E/c/9xc7iR1v4T9pNPHppZ4AQN96b9fUSOE/OFToycU/97+F5YdJkqjtP44h1B5U7/m/rkEzj2jY079bU4csQzPkv935evtb6uE/TBWAl2xz9j8XcfziqC3IP6PUbCYZ+su/BjQt6vW/xz9PPeoOiXDmv6U+NiIb292/phXSsRwBqT9hU2UIkcPZvyG42OM30ec/hyTgrvE56j/jzY1+96ffvx78Tf+emNk/ZEz+5qxr8b9T0hA+bE/wv6hRAJS/q/w/lb4IHe6Rz7/3zlEULVEEQCjf3dNXbf0/EutORunm979IeBD6FQSnv0tjsWRMeei/rXvwQUgi8L9oA4GYgKr1P9kUWDxlrdi/FaacovHXyb9OWytlifrav/0TkPbS2bM/mzENRVfM0r+ZTKP62WHrv4pW4Acj8fQ/gSEMpk1osr+JUqgjgx3Xvyw9IFbGXba/1UsSAaSH4r8sG2F5FlLwv19DorxWt7m/enezGHIG+D9HeKDq1Erav0tVqRKgo+O/qnDTve36sT8sc7OTZhXvv3A+QvqPEuU/Xbl+uqIc5r80wlii5i3kPwoH18C2peA/2idR1Lot8z+fO25DzzDFP5K+PoYwz9I/VpTCw6D04b9adNzRJmKvv2fExoig/Mc/zN8gMfAN4L+ZmZIxBoTfv3Jg0TpJluW/KaBwjMnxy78ePpy/+JzXP0xLjhVEhfG/tgyeBGYX1b9H6uMwz1/lPzupHZ3Je/C/r2tyW4Wv3j+lcP91SHrgv4db9Z1f+9u/SZC+2BAr9b9lhR9Q//n1vwjaltfwX/a/z0RmWSjO7b9lxWjhuUPevwyjJpaagrm/MUyab7xE4r8DWhVritS2P17QOZ/wkuK/+GqrHmw7+7+LO2fcTrgAwHlYOfT6WOK/2nO0gBG877/AXeP4RMr2v/SUHVLEk/u/zKik8WHY779ZAY7pAcntv/9516LNtfa//N6eDxmVqz+3oSABiLkSQM3eiUGlxgbAoqITbyyW+L+T7rnOJxnyv/KdytF0Jfa/pKfRkr4N8r9vk8kRrL3wP6PrV11EAua/K7HHZz0x0L/bybveaiXVPy0mCUv/ufW/IX/QvWxrB8Bea6cuGQTqP/utNiLzwKe/AF8HWuqf+L/outxaVu3Iv/U7CjirSv6/fRGmZgH8/T9Dual2QX32v7lIO3Pk7P6/LwHVZBIJBkDEoEzvxh8BwPyI5NQ7Df6/CII5F2XE+b+Lbs371sYDwBBxZxt/1gHA/z7f4wTF1b8sbj8L2Ua/v8al/rTSAta/A7OXMkCt5j+N1+rlbhX2v0E7VOz7/Pa/yG3o4dFAu7/HSBtPHfLvv8MBWw4b8tS/Rbb1h+EE9b/MuhGLxq/ev8ArSo4q3vC/FaejFCoq878jpjM9ExPwvy3EDXWRDPW/S16ZUwmA9b8gjilHVHbfv10iPUfXBgTAADltuxkmAMCPG6QAGzbuvwn6vM2wq/S/mXR4CYYt8783hKqao8nvvzXOgILFnvC/jEvvdR+N87+3/cCUrnMDwIbSIFgzKuS/15KXjXbzAMAm+v71UXP4v6BeaXdmbvK/o6WXsFCWBcCUWplHM3gCwChLalloMuY/4bhZTFfw+T8NlNbb8dL0v2bwTm/vGQTAxbhExHcY/78x0P2Y6Zr7v0KcVLxkPgDAt7DB5ZrZAsAgs28hOWrqPw2CO2ShSgPAW3DX4PbABMDQKEHd1zcDwOv5JSnYgP+/7XJXfBYSAsC/BG31ITD5v8oEuHewFwPASRhWBR3/AcBsNo9Ixcv8v52g/4sZ5P2/uSZ2xcgl/7+tPLspG++kv8zaWdJ4tPK/m4iZ5ueyA8BZGyJRMhUGwMTy3BbihQTAQL8lq42e/L8w+QIihbzivwGEHCJoaNG/lN4N7jWmFECxnetbanP8v1ZRvV2bRf0/R4uN8Oca+L8ZxFAoTVfpv7AXBChnkfO/MFcJ0Re4AsADPk4ltQ4FwOL1hxYkqPa/Kr+bw6VIBMDOXXFW7WMCwEWqzfufvPq/YCxJBX6QBcD5UGdW7DkAwNWI8SNDnuc/SpPT1Yha+T+cMDngAVr2P1kFb66pRPE/39gqaq5h/D/3Cj/mnz/zPwiy6kclkeE/j/f4rqEU/z9PyQJR2gn1P8HFJJaK+AVAB39iae+e7T/FvCuX283uP/xyZgUaT+c/aXox9O/eAUBgpPaJbp3hv+SnZQC0PAtAfEUtKJyG/j/DTwGvNhkLQCC94QtYBOU/5jkZ/Y/B+z9ydlgxMBYJQOhAEav6bfI/6jW+zXwdAEBufZC3h0sMQKjDHQZRTvU/E90d8qGLA0Ah0zH8/9P0P3mWSBF2AghAo5T8IsCp/T/RrPzkPaACQBu5AHKfdRFAUmL1jAdx8z9sob7ZKFoFQNadX6ouhA9At8BLQ9rKBUAb3EMKzXD6P3GIdM45BQhAOQoYU6Oz/z+5/bmMPE32PxwQHOiENQVADkWumyO8AkAmNt8rYnD9P/DmaL/U5RFAXtiIRpoTAUDJmRW6eFAQQDkZjqieHwZAM/weECAkAkBzSdknx6wRQCx7rcjoc/Q/asjVYyY2+D+Myvnkx4jcPz8FvptefvY//SflRV/09j8fcbiegf4HQKqPt4FlTvs/bmlW33KM9D8O09BkHRAKQNsLRDTySvQ/7K3oSEgfEUBiAvQrdyK5Pwyfq4aY2+E/JX15AlQ4/T8qenzezx/3P+oycO1hLA1AGpjM5XAo/z/GtZoCxyHxP1IfYV91Bvc/B27GdOPN+z/xDE9Xklr0PxEmolu5Bfg/eXKuy8MA4T8UM9BSnRsCQBzu7IfTOOO/Jwjnhrtvtb+9n/8hbA35P7vXxjaqFbM/a8sB2jyE9j9XnDcxBhP8PwS2Ce/etsa/LhP2ghGH+D/IwcVxCuwOQGwqJJ+XxvY/9OD/vNggCkC3h2Q15gWzP1Hti+RMMgdAb1waDEpS9j8TLRuy2676P73PKvbL7AFAkIOSH1G+CEBIXsdh8I30P5bKQe4zqv0//eaE3oHVEEAOAhBMWhEEQLkjXACXWw1AfngeaMjU8T8hUC2WSpAFQGooGx4r1PI/qslyaGQfAcBod0lDMwjuvxWU/UwwSPG/xGaUNRZkyL8lGhJaarr0vzIGMdbqv/K/SMftWG1fzL/H73oNqAP3v7hUhOxKQfS/2BFsqIWo9b++43co8/7evyRuQiPY2/C/Bvnoub93wL+FXFGhpDn1v9Oxn7Ceefi/yLNuM3YL278bpQYPDnX3v2FKYrhCCuK/YuI8Yzas979WUKJCWYT1v4SDeeAtgve/lcRCO168yr+5vsfrwI3xv8soSE0YT7m/WI+Nag6C9L9wx4G+8yLsvxXEa+/Iuds/MhFArY1c3r+gd2m8HFjtvz2ZWcEMW9K/6Rf7rcth5b9EeIt6JKfov9q9vo8itso/nsBMzX778r+FYzPc2oTrv9D8gsrW0vC/aNRVrz+D378y8DyNvMvfvzewI5CHaNS/79+WOSMh8r+POwf+uQvAv6QxFdu6duc/fWElcSHVAMAZrF/eWazpvy4PIHTsC/2/H/zS+EFm3L+9MBkN6ZWuPwozbHc7gwNA6BseOdDr/T8qwCvFusmfPxsopUtDlvW/dmhYlTXN978GRGBi1Cz6P6do4kIUlgHAfulRT8hU4r9yDAGN6OTyP8OsFP/uLP6/4d3C8SOF7j9Zx6V9ICHYvw8qSaxZJwVAPBJ7nLJVxb/Hh32zWp/pP0wiLgpiDwpALaC2G8v/7L/r700NusXpPw8BgbNiuwFAFc0hoVtk3j/1re6E3oDaP3nmc2ixPtC/qA0EGFI1+r8G3g0kgeztvyJpFmFiyvC/jJWcxYUkqL+ehR4LauXyv81Gh8nXyuS/mCGqNd+i4b+U/giC8frsv+ws3z5b1wHAyKdOp42C+r8pI8LmZ035v/+JzKyCTfa/XKwEe0ll87+lPr8cBPrvvyW6v6ja2vK/+VYqORmE8b+oC9SuTJ0AwFwy/2EOguS/fGX5Kja+/r/Ymzqy2nHlv3tyTZorjrq/nVGYsPjf1799o3rsuFT0v0GXqA3mU/G/lnlhe1Zj/r+GKsQPLXfTvy50lMSAgue/Nt6iNYtc3L8ats95HiH2v2LR8RL0B+e/b0xtUx8K+r8mjzblDh4AwMWBxHSMoPa/jhD9VU/P8b/fzbUFr/ntv/y3meb19P2/cVFH8dJMsL9gdp/0NrDzvwpRo2kc1/q/Zbxbs+At5r8J1kNRVrPzv5jCV3xrUvW/zPo3DjoC/b+2WcUPuPTzv5f7BH8EdfO/9sSKXbLY978vv8gkrIn2v/SpSBtoDtm/OeQj7yoi9b/pyQ1mmTn1v42Xtf3Jk/m/76ARMpnR3D98+pMLW/rvP5A1ffOeQPW/yUNLuJVg9L8/o6uegOj3v4dvlO7vbQFAzDkEq1vb7D/KPY+QdwXyvwAG7ved7+U/6ar+4gHF9L+9YSHvoMXyPxf1HS/4J/m/bONwFuW05b/ALKlCADzlv1YSETLkO8u/b0dsI4Ne0r9rX5wC/cv3P3lTn3keIPe/WIZxTZ8V5b+Oj8Gty13bP62A80aDIee/rTrd6zWB9L/mId05bZC7P9Vd24KUhAFAYU5vABss67/md8zI5pbzv/DhF6iY5vQ/kd3+ZQYP7b/trJ7gbMmfP2VT8WgMRfu/o0paEEpd+r8WP+nnk4Txv+X5IAwJkPK/u46gGVFnAMBbjbjRlfzjv68TJhXG0v6/pqKrsYo+2T/ZOccgNxr8vxvVTwkVFQDAIZl8g7HKw79FXyJfymryvzFIPASTG/W/2Kt4FTuU+r9e9owEsVD6P8CNXij/jALA4KPemnzv/r//jNCVPuL4v1Gpc13pSPy/8aJLMb+q6b8zdMMD2sQBwCIvhHLSAgTA6OREVlfX8b9wWr7bydX5v03hN4QPXf6/cgrwwGxB/7/D1m8WSLwAwBafmofiIAXABtATBQXCBsDgTwtdVswDwBlueyET+vi/yS+9h9E3+L+g7eJAZHDrPxrK6xfvG/i/eAxztpYi/r8tgVdRQS38vz1hIucFCu2/oml8k9wF+7973vAfC7T0v6BlMp5sjfO/cyTZIB+68L8xMFikN871v4ci7aYvFsy/vRsI3Cxg87/fsOz6UHf1vxxEP7LnaPg/wLZMrsM0/r/OXI9wAVbaPzhoKT7mCPC/+Kum2eXX97/bsbWekRPyv84E4ybgEuu/la77h7QpAMD4siCJwAnzv+T+wBSUafO/JP6K/2Jf8r9lLytvZF3svwadOK/JAuq/s7lM6nQ89L9fMVv7Rfbyv7W2V+xqcNI/aG6ByWa667+2U+CSRvrhv5d8K/4JwuY/tKcysTpC7b92Y9x2spb2v2fSuDhwatq/PqUrmdLh4b8nhdD2IYrhv7TqDiG1nd2/WQXBTV0q9b/2l/h3KQ/3v/9BC6Zmmf2/a+cqa4j69b+CHe+3dXvyv1qS2vgsJf+/UdMFcfK3/r/wD2LfaZTyv/vDb2RT/Pm/U5ZUrvsc9r9P/MISd7Duv6x8BOmh1/y/Hr+L0njB+r/O5+MGDrfuv4HQM1qPh/C/2cAWULT31b+4xutkeSnsv+Iv2ciiMv2/ax3WnVPpAMBahJsOioQAwEbpKVyfvPG/e+e1Pzfe778Nj233pH4CwBvV8kCsX/C/AD7xN3bR/r+IDsujVvL2vyx3ck5RSfa/16r8TYQ59r9sJa9ovzL5v90KA8g7evy/SDuBB9+j8b+tWF8Yks73v6Gc7d3qw/W/MUtQ4m6X/L/K5RXg/hQBwBuR1IA1j/W/6OBepG2F7r/+DzIocoHYvy2GKDxFtui/sIfH/zkU+L+oMtcUA+j9v4dn1iowAgHAdCAosXsh6r+wnjZfZzz1v2tMrJPeGwDAmiFp7fDBAcAp/u3rfI75v+AeghGbqva/Rjhh6G/09b/g2zgwXOXtvzytTat90fm/ssrGY1B67b/r20Jj3dP5vyVQjLHgG/a/ZlTqJiaR8z/3o5n20dzjv1hSWyKvx9G/4ERfMtCI9r+BDoT3FDP4v5jPuxVlteS/VheFseQF8L+J7NE5Vq/6v8zogga4DPC/K/oIUNxi+L9XqUH2yMb1vz94DJA7lua/ZLg1ThqK+L9jH4memdoDwHJw5UfOpgHArMS48v/C+r+XV/4/1F75v8xyoKAlWgHACb3onZs487+6cTCIQ3bwvwXVVYaOnv+//UkQcXqB/r8V8VRi0p4AwJGbt5xhiva/M6JGJJZj/b9EwcUlU/MCwMlI2u2Ilfe/Z8L8i/ZY+b/qMtuHPzv5vyeC/SpuILs/rsWgR1Lq3L/yUbYcGeD0v0njNjJREeK/rnVHCu7U878jr8ltiwECwPRrgN5Ut/a/WVk+1v+p/L/XbUH6hK/tv+Zt2KUmSv6/eYvulY/j+b8gdSz3/BwEwN8dozRXP/e/LLB6t87p87+KQvUIUr75vylmwq8n5/2/TcIB9WFC87/ux94z2m70v27MxRBtrP2/uhKMbAS9/b8s4nOENzHxvzYjkwxd3fm/OrTq3Cy+979Ld0UJZfLxv7aVS6CPzcm/xv9j5Itq8L+fywwVNAycvwBQf/sW2wPAZYJxkful+7+xo5Jf78QBwEh8te97/vq/Q29jsmxA8r+CRyIBDKbyv1DbbNBoo9m/eLGyJllly78hwR4Aq5rnv91BoLGZbfC/d0xLNI0Drr+mApqxAYiTvxg3PZfusO2/0LrV2SN21b+OfChU4ePtv4AbCqzgXfO/HFZihpVt079iUvhWfNv7v/eiS95C+um/yIzGsxSc9b+SNqknH5v3v2N+56HxjPK/9KvUY7a397+2YhcG/uwCQIHSGWnu5Pq/oVSe8P9F8L/V6rfSzYr1vzrURkzGo/S/O/eeMdnd7L/OvY0duEfevwYvppckgPO/gb71Evf/7796Fx7k2MLyv71fX1/fsvC/ImRwDES66b88ID/8Zwbuv5VzQCvaQPW/BTJIeoau+b82efhFNt71v0KzZZNwPv6/dv0JTtwfcT8va2FLEp/ov0DudSjgBNe/8o2QGizd+L+UySksmwPuv6q4oLKenPO/0ctTE3IV2L9zFMfoEnzXv2JueW1ufMm/FWiS+PQK87/G/h/OzjXyv699e3lp+MY/dBwuiVso9b8da/4QRiT7v5hgUITD0/O/rAjAOEZt+7+G7d5hF3XUPzLmCKst1fW/cZlOX2TcsL9IGj/JIp3uvxZ1O+3/CvC/3r4GKQ1U/b9ErS9nVH7kv0hwIP8fqO4/B5x6mWvZ7r92ZaLGeInNP2E8apBaUve/sflbp/iR67+sJAOlWSzqv1a+difMD/O/M6EE6cI1+r+QzqfHUUXfv5jBQJ7WYPa/Q8qOviSE/b8QokFbGEj5v94b1FBD3Pu/OwBUpDL19L+mqtAUGLDxv1g2wvojBPC/HKBcT9Oa+L/gUQ2geAjyv8zdp3agsrK/YMj/alCtgr/9E/d6XCH6v3B5/1Ej0vW/ufdaHo856r9jjo+5wu/avzNNNKUjL+K/KminOPKL2b/UoiorRlLxv5qab+lezve/js6U34is6r9rQDAVyoLwv2M7sx4pC/K/GT4E1Qhw7b/xTRLFWpXbv3aawjxrhPa/H0nDRvpE579ji7RqD4Lqvz3kWDmpMuu/Um9/wUHD3b+R28qeKszfv4yzT8lRBfi/yP7N/Ke+5L+W/ZMhU8TTP3J8FYuIS++/a+DqCGbi6L8YncqXC0nyvyp4p+gbZeW/QKwkQwxO7b/aeHgwEcztv+qvZCbfnOa/PPW9zfPesz9++5x4813lv+Ous1JQru+/6uBg2vQI0z/3+EYjab8DQOpt2ObbPdy/o41R9JHYyL8I5Jonz5j4v0ekBPNA99i/6s6I5Os5/L+jtu4cFHfnvydF2+W+5RRAR88p83+oub9HyPwVVeMNQDC2GP+vyQFAwc5/1NOz8L+ZLRglLtAJQC6B5Aqr/fk/wUMbCiBP6j/ZX0OITwz9P+68zTRo2Py/katYTDTb+7/qF3hCj8j6v19wy+BgVpm/iY50ugwj+L/+hswQ/0zhv2+IUKzTQ/e/JMT+Gi4x8L+3AMPFGoL7v09iMTJU4PA/iJeBxsEp+b8ableURqnvPy8CtsuYfuK/k9LDDqXb3b+3yF6DCNHjv6gRS7SBd/W/hJbFQcZ19T9CpBhdCX4BQGVtNLv1VrS/pRORxkmnBMB1RYkK6GgAwIRdwzP+1uk/YKvloFCmqj/kTO5DH1qkPyJeM39Rg5S/ELfTH6NEAsDSkHWTYO8DwAiDQyWt+/e/WjqIfXgK7L+Qqqftozvsv4i8FT0kjdO/LR2xWhx43b8/3M/4rzHzv0HQfYuPWP+/vqYINQQMAcA70xlUfkGzP1k9l6fViua/XjFEPCh4+b9OE4o8YOfyvz759KD2U+W/Evbd/Bfa6z+GfoStNBP0v5brkZwBoP2/hCWtn4AdBkBenGOsP+z8v1ux/AUQs+G/TLs7kc+F47+dX3g7REb4v2YitbmMkua/7nj6vYTn+L/blIjqEyDNv29QeyzXL/m/2Xo8DkrJ5r9iNyI3Z63rv9vk/cWhnNK/cgm138pD+r/pLXxql4n7v23Oty0sX9W/FDpT45VABcCoFBG8mcnsv3rz6G1/J/q/YwZWcIjm9r+a9ewm6hMLQIWP+ZwjZv6/D6XbygfP57+Y+aVvCzngv8KkWVqTS9Y/E8mLQ3ra/b9gzNlMxdPwv2C/BRaZVvm/CoEtaKQY/79DQls+LZn3v3IG46mHVvm/JDQE6PmO2j9qdrQtcXjqv4o3ZYDOtPi/a3v4fipP+L+h5/Z7h4D6v6mNc5oP8fK/mUzpMUTuAsDLvQQYEO/8v7nV2GEqYfa/UZ1GZutfwL8uypgEAbXjPwqniMdidPK/Lqb6wlqf07/Lxhh84k/Av28E4wVRS/K/zgui8eV4AcCHzAii8ysDwLCQ7T543/i/qzUpV0ID5r8DwFMntCvSPyN/N5pn4Pq/yYX5e6dy9b/jk/zzb9j9v4p8QhyZMwDATiKFj/kV97/gbCdOMwP7vzCbVcax7PC/DxZaK+pd+r+FGk7ElznqvzroDrCoyPq/Sbfq4H+C/L+/U30P/Rf/v1pHExpTafu/1m1+Tif0/r9ScLcJz83/v4wSAgtCe/e/ch5Wvakt9b8Dj5145Lnwv1ko4d+kAADA+hea3zu9AMBMRlb2q3f8v11FtYHYCADAJ/a5tBgE9r9abtBDf0X0v/8gV67l6gDAe4zqVxPxAcBLQcph8if7v7vfOWOziPC/j0xoq7kF9r9a0UPO9zMCwKqwiush3ADAImtWysMEA8Cs9rhatgX8vwRH3UhuogPA+1OYr4ymAMBOCKoEeEcBwAs7B7PRcATAo5/fSZgTAcBOVDvRvPYBwOcYCvvBwvK/Cg+iVfXK8r/Bkq4V384CwAnsOjmtewLAUSweWCP++r9qHyVQqOn4v7oDLsv3LADAeIJjc3Mm/L92H81n+HoBwIJpMB5Dlvq/kP6TEpU7+L8M4z0wAbkCwCOtYLR1uPS/T9fqJtoaAsCUwJT0MYEBwKJp+Xibz/u/XTuypfwkAMBn12zb/Lz8v9cABceyCALAIDovtjtW8r9b+o+JZVYDwDl/EhlhCQLAJuCfsBny/b8Bn7RQItAAwCzNXDtl1ee/YMYXYFvjA8Cp1HhloIYFwL6yjsUUQgLAydqhIuJQ+781EDGQdWv/v5NndM/bKAHAmuaiMNL0/b8lfzFjuDT8vw1jaTqjgwDAONskwvUa+b+WkkYRy40AwN8asq94dfm/l9gtV/Tk/L9GoyTIrt4AwOH9I+bJLwHAvs51djy+AMBYqfixBkz0v8ncdGBu7ALASzYKJ8F/8L+L1TqCbeT+v0VuIRYgYwLAupw16YItAMCs8GDofWL9vwhQyRUkAQHA/1y0uNjF/78UIxCRTtgCwDvbXGW0fgDAGL9T9eRS7r9Q09wjYrz1vwdzohZHAQLAbH5VKk5tBsAcdZT6zasCwALZl7NrjgbAlup3+XZMCMDneC78wR4FwASIHcW61gHAXNei+AfQBsCRjO/kVAkEwNhat05YPQPAFo8bcrTf/b92geMMJMT3v6xQZhomLwbAXNdABluiBMCAzRjeQDgCwMaT0To4/ADAOBMD8w5jAcAgTOCcLd0AwDmK2CH6xQLADKI9jvUKBcBDkNlodtYAwLdM+MuqrwHAz//3X1i5BcDH8ZlV93cEwIf2kZetkwXA+Ric8wwZBcC57PMoJbIEwJ6QjHKX2QbANlIgZMoHCsA6/wnP1csGwKFiitAGewPA8bDuRQ+2BcDS0EiYUGIGwEWl68K0Fv+/DEYii6ukA8AJ05ldenYEwI5HKVhT4v2/IXS74bje9L80BNyR0moJwHbjRm9mKQTAJi4RosFY0r+/f4vEF9wIwONP9q//oNS/Tv+u531sxT+XydHgvBXhP+OG7/j2WvK/evqJksk8+T815zlv1d/9vw3/6Mfh4vy/mNtBFsS0BMDJl8OdXUIDwHzsgPtrrPe/jxOHVWOs/b9UP8qJ95vtv/+9R60bEfW/BTImopqW9r+Zz4AkqZX1v0hMQL9cUPy/rutL6GEh9L9RNo0N9Bv4v7dFxugGbvK/S1hNV3dxAMD57zTh+kT6v+XRtwocGwDARhdfm0du9b91WJ8KGMnxv55pl1BwnwHAHnAR/ichBMDD8FXfoTDzv0GcvSzFNP2/AK32JJO4w7/iSKuBc/n0v2oDbJrmywTAGbpZgz5QCMAL7yttiVUBwPbimqkCpAPAxYpQYBGa/b8EPMf1emgHwMjQLPbBIAXA1zasrh4G/78NPSuZFyUAwHZRja4PTgXA/7mtOIv7AsCjZXVDZ679v1Ec0mnNpwLAm/migzw2BMDdhtZ3oTTwv4WAnRKGAQXAz0Qo69DuAsCtaJLAix4CQMyOxFzI9gDAOkvMgn36A8AqsmGSsET9v5miIhv3K/i/NVuaodz4+b91Ff5JplP9v6i7fcN/fvK/zK9A2kLKCMDmUtcLqBkBQJo1jkmNcwDA6sobmQW39b+1oJLktA8JwIwN5/vxlv6/fvAfhhal/L9VOK1KkXUAwDSE8Xwj7/+/hahA+ZGkA8ANFJAlC5X6v3foAHXuSwPAtECnH5k7/r/Pru0ejpUCwEmiSzZYWQTA8gFHBDFsBMAOAU8glirxv+BBZTaeUvW/PGRfIFeR/b8CvW/1kgH0v12iWbZHNfO/nXbHJDHV9L+6tIi/suwCwP7NAYKfbwPAz3XK5bk1BsCRWYJfy5bxv9/agv237QPAv2S1Ng56AsDStxJSyOIEwK6DgHtTowfAURloAZp0A8Af+t01UBIEwB5PTUebHATAupqRvhvIA8CM5VQ7NB8AwIASjJZ1GwDA0UQEXSgdAsAx5tLTOr3Cv8ZFx0x2pwbA0ipk3Hr/B8BYRRCri0r/P0RCy6wkNwbAkVLpxnDYAcBiUOqSxU7evyCvUMFIkgnAgobCB2c5A8DdXASJH0wKwL6eK+IynQbAf7AXR0ZCCcDoCjmthY8EwMl6xFSmawTAbH4E2B5IBcB5xkqQCCcJwLOI6bSCcwfAtIyrHICvBsDzDBAJZSAKwLsa1YxnIgbA6+EVFo7/B8D0YVRj4nEIwDjKU/b2YAnA6SKyuS+ZA8AaFzTACIECwIFPuGjTFgbAPZqNkYzaC8AOeYvd/8PiP3NBSGpmbve/XIU/jMJCA8DWvxwBfXQHwDA5NzGPuQnAq8R+Va5BBcDQcJefkPQJwHBBkMmm+AjAWtib9epkCMC1SvNxZS8FwDnQtSKfqwfAE7VSWwrhCsD9GQJIGbQCwAhMjLhfkQPA+lUGmrW5CMBEnSxy7bYIwESHk6SmmQ3AzfQ3fdp0BsBzmxQpon8DwNu9kHWEMQrAQd6sj6aJAsBSIQw+QqIBwIBvpVeo0gbAkgBailyPCcBrx0JYxdbxvxfc+xTO/7m/kzsjkbM9AkB0GJPqZRnOP8Ax2vmZEbc/S6pXdEDJ6D+yQ7h0Gx/Vv1lDgEW8l+W/wCYkFhm70b/YppIpRXn5P2nxJuvhWABAdO2k2pw99T8mQ0Iwt/zpPwtW0kvPGYm/wqnp/hnv5z+p4M3V7aDzP6t7b/nGCOI/UdNiZkpI7z9sE0vSPzijP9LAnuoh/vI/CDA7APiayr+6ndciW0n0Py2AJzIaSak/KvDn3qHUyL+GNhIMiSigP7QHwopwFOw/306I+dkG7D8MhwxX2PHUv/6FIhpT0Ok/3YbR5VtI6z9nwg5XW872vyIYISqUdOS/GpuvvK2J0r+ovIvz4OHoP9QHPLVP2vo/nuUVBbdE+D+mCPVz2kjtvyNh0e+uZKQ/Sc8LPKNn+j8/1xXdnw6/vyoTrV4guOe/bWBzvmbP+j8pGrFJSc4EQGIyq5ryoMQ/GK7IxrOF/T/fNgtVGBa5v0Vl1oGyreA//ci0mK0AAEDvDbFrYqfwPydc1WHqR+Q/Y3Whsy+j77/0It3d8aIBQOo9/godFec/eSPltv0AyT844RwOv/zjP/3N0GJUW9C/AowgcUoI8T9WJqf7EYy1P3vsMxDm3HM/mVwRwaKd9D9QEbKDqq7kvyAn0UPIwPg/zDKt38ZslT+vu2wO0R7mPyU4TT4ojfA/Ojazyh4JBEB99wjbLWvqP5IYPkoAwAFACgYFt4Ew6D/rSRApnHO3vxeVsHHRVqe/DcRLaXv97j/My/u2ViHZP0A2tQEdLwVA3dOk0K7DzL8VH2KkS4f1P++6622DbOU/QQyjegMOxr9wpP10A9PNvzjkVxD3YghAVmProVaM3T8rFoVhRQ7Rv0rX9hQzF9o/s1frFJvLu78cj0JiWmXrP1HliWZbZ+c/ONnE6+6Wwj8zuqK3DJb0P+chwC9JFwVAyEIyHtyO7j/lT9TI1ef1v2VvEX5UfuQ/d6oRNt1Iv7/hz4tFVeXwvzaSH8a8L/K/S+QZsvoQ8b9HiirYfrW9vxSmSfondu+/rlyYcWOwvL+emmA+ksvuv7EVdzxpNcG/YV1xrNEb8r/GpnmYMdLtvyseIOBXmOU/uwUD3+kf+7+sVdfHIrTTvwjUdfeQuPW/OElu3Xoh+j+/EEXsDHnQPy/YhsLjddA/7+ZkO+jz87/G507YIs7uv5HDt2un9/s/oJMWdezV6T+bZuyPoKXdvxnDPrOvmNq/QIhbcDfO9L/hJx97Fb7XP3pWN4j69+O/csVdYcxprL/1RBk2pmDZv/U4gf10Q+W/HZRTxH7W7r9YMAlI3gTlv/ZoENd888u/5Bp8P8Lp9L+sCE6C/FT3PyGrw8d60fC/smsTtSbR6b8aehy0DxDSv3iZIbm0SOi/z9HmswFw7L94L2qX8JDyvw/8dkoKVe2/U/5Uz/zR5z+lJ/mN+KPtP5pLy8MC3cY/CNTuPFkM6z+jOTDwqOL8v+/aMACS0wDAUATUkTxjAMBraon2r6Xxv5lFPzzOrPi/k4McvzzA679wzQZZgrv2vxhKT6MlhwPAV2ZlQCtV9r9x9xSH9kDhvwpUE/Ii7v+/z2zylNlw9b+P9M5DLOMAwAuIXgv5Efm/oC1IF/O6/r+Yey9JUXgFwDHqT33rjwPA3ZtTJZK0+r+1FE4JHAIBwLomriWjpwDAmt5wBf4ZAMC6Zp5Ib9v3v6Jav+1d7ey/8X3ojBWs+7+QAl303SkAwBJj0BskyPq/WPgGe2mV8r+j+2rLn0juvwrqEvi2OPi/CJFynLqY77+tyPYX2MgDwDO6q0V2eQHAuL0/Soil7r8S+iWtbYb+v0/bYThp5/S/ZaTtd7OF8r8PBkqsaCoDwEOTtpeklP+/DYToZg0577/gUKcbd5f5v8ITkdk/N+q/q4+KgHez7L96ODOnKR0EwNBd3bb1hQLAgrrQss+7AcCW47Brxd/3v+uYuGe+Z/y/NZU+zRMo+79UlTsITlP/v+BW9+LSCQDAoqO/gp/VwT8fSXv4K1jgv1apBnGYLgDA0EV5BynZ/b9ZNHkfNS3zv2qTdoTB2uO/jquczbKRcT9sgl8ave8EwMTrdoVTFfq/2pE674Rv+r+bFOTz0U2kv87WMmBc+v+/HrafvpVL6b9GdTBcwGP5vyNZbOVRKva/RT1rIbdZA8B8Vo5+RmsDwLRz50a6lAXAGbrf4lN4AcBlqRIpc9v6v5F6YzBsXvi/m5szwYifs790pU1RkIQBwChm8lQa/vy/HosQ1CVj978ETlaLLej4v8iKVO4G7eu/irzKRnu4AsBugpdS08r3v0KDDZOYgv2/UcHEznis+L9iNXdahz4EwMC0+qpkWQDAzjT5uS9T979sW2OslJ73vwpJYhwjjfC/y1vZu6xh479P5v72uu3pv+qEATA1ygLAif5STI659r+XlwMC4uAEwK+IaJzGOALAFbd2JFpoAMBAcI8Obi38v7fIWS9uffy/+NnW4L01/r8ehDnTMhsCwBO9PXQzkQDAybBr5uJd/b8beFjUFwHuv6bAnJP0kNe/ES8a+WLj8b9jiHqqp1H4v9R3BiyjWPa/uHqr5E3sAMDqvZPzBBf+v2RxAwld9fS/Fc4sBPd99b8woCSx9bwEwHSiTAwNifG/rtVPOFJC+b9n/gSGLqsCwOh9Cf116fG/xxeSSmvEBcCBr3btiaoEwMYkpIPekgHAapOaQfNZBcCIBw4IJUTVv3XC67fizgbAtfN7cs0b/r/YHBXj3yDzv9OQQeinRgbAcvHp0CiHA8D836oJJmr5v6gx/plQXvO/c+Kzqzsq+79wLpa1tuQAwAlFyiJRdADAumjaOCMc+r+yrpmeazwEwGWk3Z/QyAXAJWP2CqK79b+V3PAAPTjov+KLufNuaPm/rpTJMf2J+b9V4/r5kpoBwOMOIewiVus/iVkTz2g/BMB84WRz57YCwHGMapE8DgHAcKYGA9jiA8AlKHD/KMb/vz3EQT0iAP+/NbJj0H68zb92KqIo4BzlvwZ8gLRkpNg/8zrh61wEyr+Y79LwDKX1vwpQsHvEjsU/RAMSVRfn+L9MPVrHh4DjP2lNGl4Hp+s/t9oD+1ra9r/4IJ/KKn3gP3VKkRnWy/2/eEzCSouV9L+ayq56X8e3v1PUvBwIQ/K/ZXQscQ5U9r9KvMHkQCr+v2+JcQyaouM/CSEi1Tpg0r/e5+djzintv9fi4dGrXwLAZBe1Z1RV778Ikja46JsAwCt3TxFg6P6/+URJp7/QAcAqCf6eqn/+vxmHnfIwJck/8Komtbxv6L/Z/KtM96H3v5hbbmOHzAFApY9kg7MYAsAZHTgBTjbVv456qDtGmOK/6cTV9qaA8r/XzGbqVTDlPwEbxeC8hdm/7N0TUhq09r+hIYEs1NMHQC7z5dsKl/G/9x4TJ7jL1b8LeJSzw230vz4bBcQkswLA4wUv9Ihc9r/vNMfcUIb6v3LsyCpc+PU/Uy9P8WPU/r8GuT8lFXQCwGZSwqYMkPY/6BIGbhkbAMBGK+xIhFgCwFC75WeMGQJAXC6l4JJkA8AXf9TAZifwP2qEMHpGUuc/HaQXVzhP678ARY0brorzv6V3wClfUM+/wgze36at/r+3Hq0sIhMCwLwdnSd0cfC//wolXvo/8r+b+mp9xKj/v8RSbDof6QLAeETD/10z5L+xlVH2Ufv3v0h0Ib2vEPO/xXKaXCpx5L+cr6Uhk77zvy6ZMC8uWe4/mxAiLPNw5D8Mb+nkkXD/vzFlDivXRuO/k3QIuzVa+b874XDZSSr6vxUmiUVT3OC/KPYSbZgz97+XqG+B96Xwv2r0+TicfvM/cruoBcQl+b+t1lTsb6Phv7T2hVw+pfy/+LUnSd8j8b87DDMNmnn8vy+SsplCqAXA9AlFtkgt4L/SJqcrHXbxvzEJFukqiPq/fXOCUWq/+b/CCasEuhAEwHKfEffnP/W/2yEb66ri+795Jy055FD+vxkbl4wPUv2/f1PYyB3S+r8yHUznrvrzv6lHtDYUFvm/36xe9gcqAMAtA5w5BZv8v5wc/J24dgXAyR5AxLo2/L998Chgpxb3v6kGrYSX/fq/j6+VIluFs79dKxjGF3j+v7BJg6NdQgHAZ7xEf2a6/r85kReqbBvqv91EsgmQ8fO/vD2AYU9w/L8IceC6Vc4DwNAbFTglm+2/3D+4p2Xk/78gY0zm6FL/v3dtOom+2v+/4roxusI497+uVfaSpzz2v5wRT1YOdADAI+K1tvcJAcAnobIwb0v/v2usxgII6v2//wc1vEPSAcATQRuJze34v7nvGOf9yAHAkL6NJUgD+r+4KnjR4eH0v3t/IiuFQ+S/L9XbX2Fd3z/932aGo1ATQCu3O8lh5QdAkltDzkDu9D9O5vaoyiHpvxOI0mvAUfA/Cj7mILTixD+cX2S94/DcPwMb88LQA+8/N8SalRwOAkCslhO0mq7ov4vqp/PmoNu/WS8sMnLI1j8kQkw6DvrvP3dp75f4rQNA1ABj9SfZqr+xr5jdlmi4P7Qmq1TWyPY/Vg5AE9ZT+j946Ah/VKHRv9ga6RJtlcK/ESw15kU7C0BsFpSm//7Zv+JheayFbPw/DyjR0eAm0T8Au8z+86zjv4Nx/rzOdRVA2+D1S4s47L+5I87r8BjiPxo1krOYIABAWgyJXcCc679JfHh1B2gFQMZu07j/Ne4/dOIK7FDLEEAdX56ERQ0VQNU7m9dlKfs/EIOJCspIBEBrnNQyd/wTQJDlZCdWGxJASLbju8mx+D/vVJ/ZM+LhvznbjUSiSwFAb4kSDIdABUDINy9amoPnPy+JtIIKsek/eAccbUN/6j9PNB6xUdLxv32Yz6H2I8s/FXO+NilyCUAQ/d7BV7oRQD1NTVKuj86/EZ6Y2CAxyz86/mdOCFTgP834tkKcSfs/fSfe4CK4EEAxRaTJy3IBQFu5kyxo5RBA3+e8uojsCUB1B19ee2HUv+CX2U13igBAnuCtPY9G+j/C/jDor+YGQOkbNwXIvto/RIWXH6OI9D/sWCviEWzdP9qmXWo5UQtANs++QAs/9T/LHSNoPcQEQNHN8ARJIrO/4CLlkgmh0j8BCWSE3H/2P91Zue68pP4/lZsVMm+x9z+2okujIOICQKYXBVYzOw5AuuQ9EZ7HDkBqD5vtXuMLQBTMDBQKMKI/LNFYFj+26b9dbsNK94wMQFeKAoA7LtU/3Tt6x509zj/ZCBzHxYzUv4JM1nyzC+O/GHC9zD6V7L8CJ7iryb4BwBAKcGgaFvA/uhw/uWU067+5kUOXlQXXP20JmOlSBPm/VaW3rHfIyb8QvmgUlnPjvwpbdHaci+a/EFvbqHZTxr+leKMIeZkFQGy2VB/02LU/XLNMS+0z7D/ILTWU/i/0P6KVyNYA9PS/bWxFT56+/D+AQRTitxnpP/CoULUbnPM/bD1Vltir+z9SXUrYgerpvwWuNeqVq+0/hmgikou857+AkCKe2EHpv0oB+XWtivY/gccyDT7Atb/vdtRJPdbkvwzXl2d2UPa/Hx0JgeW38b+9iSO7YcLdvyi2VouVKLU/dLzODZyn8D/T3EZ5DtkAQP95yN2TdPI/Nr/Iybsv87+sSX/5w9zav2QjIvS4eOM/nJgv0QDx4T+oWc0kYPTrP7Drd+99F/G/CCrFEg4Zzr+RsXcb/lv4v4ba6H9S9Pi/gP3AAtuvi790YlEJ5vnxv2U5O732vZQ/tk0aj1U02L/nN0wX+370v7lwAl1veu2/acUXJfR/9L9Uv7JB5jECwLgkUja9E/8/4Tq1U/Yx8r9FvcZsXpf0v2Sodg4mmte/8AuzaHnu3b+goJXXs0rUv2nz4hTc394/PesZ4Wia6D8YaujBsUPyv2zT5QrNAvW/oGS+HL4w/b+336lKAjOiP7dsXpRbBcM/TInP8PxqE0C538aSyxHjv6PGjwVqwP6/39KVjq487j/yFJarR1L6v9dz/3gdHgdA0TeC+oR//L8bSfRU+0jhPxKkf7nu4vK/FsEodrR7zz+MDZOYPZeRPwzY2X6F3em/aIXnJAXd5r+Nj8Ww0rbyv1zHxgiM09w/uwQfDNj38T9u4HGI8L3nP20Z2LYeI9S/J18+D29w/L9lHi/7j2sHQLqXpz3eBPC/qaLNzvIO9L9kK4nk1yLdvzVB74RzSPG/rn3R/I14qD9kWOYcabz0v6K/GxeODdQ/OnmkiIYV2L8zAC8cb7jrP+Ql0h+jCfq/iOC1HUba978i2tnph7WRv8WkTgSsBKY/M19CV8rP179g18SU/Jnkv0Ou9zvfI8U/p8m9PB4T8b84ZUC19BLnvwBg2mN8nPC/brTAtCuJyr9kWUiqp60AwLRb28C4QOi/rEIeATnb5b+H3PDkGID7v2AVhJm3Rfq/2a8SBF+a9L/BXMfad5bgvwrT4SNmwZc/XOL0zZSF3r/XTtcm+MHCv0rYM+wHscg/7+Opq/mn5b826cgfbWj1vysYlt7K9ue/uaaEpT0/2z9CnSQnGqbMvx/ftGj5oM8/npXUQ1Coxz/w5p7M0M7xv1sPjLdA//S/YrOt+6E36L+3htnXW5viP+qRjhprkvG/WVOAuu0hdL9j5k7i5ly1v2joqqXqUfy/Z2qrdLvz7L9dMnJ0iyHwv743J4qNiPA/d0tMvmU7xL8S85SiaMfpv3WbdVSVCea/86nNf8ji8T/kI62Ie5faP+gdFYS5PvC/6AtFYLZex78XcYpAbvzkv22L966OIvA/jvGjrRHXA0C5iji8OUDPP8pT39ALZO8/PxhdtSnQ0z/hdr6HuuPpP+sINHQsT/W/okmDhGnw7T+qYirBhhfzv1EhHeban9G/WUeOhGTo879mcLEb2fTSP1uRq/KMrey/EUqWe37tpb8T0FocaxXRP7Ar0XjCHfY/OdgE3rkP2L+Axv5KFzLMv6JBXFAls8g/5cvaE9B/9j8wvdICUDzhv2w0Zo0pXOW/SxL/sQcYwT+nmCRa9ojsv+OSawUPXpy/voojxMdF6D86p78pl/n5P08rnLUrjPA/ujn3J9cC479QX/W4/u39P++MoV8uaNm/xZZTOfu17j8hr66673j5P4GmfKgu2fE/NNTC7ZST+T+3m4ztepb5P+qFhZ/TNPE/bGg5rAhw4D8iEekbNTUTQBS8s4dUOfw/GWDIuPNB5z8fSDadxMkEQNBFdHsCFMk/T2J/beIiE0AHZmRIbLYBQJrpHxG8/uk/1EhN2EtG9j+DKnN1h9v2P343cP3jVwFAdjyTEWXJ6j9CLlAtC/nkv7T00pgFlPo/BaVIArmQ8j+UYJg+3NLqP/AeAtFsrd+/K8mBLZmOAUBX19482i3jP/WQmZAO4gRAMk6z7co1xz/3QydRmef4P8D4zKOtlPA/gPE3muhayL/yuTZ0f1QLQHtplDfYmue/bCoC9ORl5D/pofhA9AEIQGnGkgRJkOk/+Edy+Vpa5D9jyOMGTZz0Px0WiqwNqNE/HWNb23CCgr9uXrPxIJTMv2NoBka1zvw/3Ty6OJD2FEAIMmMiBUKrv/q7tVFZ3A5APjunvf3t9j/lcJJeKvsTQFZAVTLvd/I/KEYvJt2T5j//gjd+ci3DP72+E6CC0/Y/rCZpOruiCkD5qMIA/Wvjv05xtpw45Z4/yRXBjPJf+z88T6pZEuCpPxNq6VDiR7o/hINTEduuAUAXCSGzQxjMP3u2cQkDw8o/m+CPj0/l6T8w82IU4/Div4kE9tXLxARA6b3c3V19+L85deGMwn2gP/FKJFna/ec/JIwRQoyT8L97rx3Lc27iv4gPvrZpIvI/slxlFnQMzT8dP6xb27b8P7auZ2tCveE/uSPB1wVR5j/FMhbpnVcMQDgHC7wgfOw/7FSb92L88j/FPXVzU4bmP419gbDKivM/DKbx2Kb78T967TBsvEn7P2Bf4RMtmOc/KmG2Ow0I+D9oSKCH4By8v/guf0OZueg/l7j4lVlUAkBPtXpi8BH4P52bjaqD99E/4iftucQO4L8DZC73YUuzvxNqnjFtyvg/TZu+/VnJ2T/1YktPL+LwP/ttqWdhpbC/efQAXwJsrb8alav6cqj2P9kD4IUCjsq/0BSrlkX85z8aIC9tqT/YP4Cilh0VncW/qkvqx12d678/dBIS7V7wP5yBWHCbX5M/VKbFbfp69z9ZGhWaIKP3P6CRt8EAa/E/B0pRK9Sy/j9SJmNchiH0P9sJMcYrSwpA80qbKEFi9z+t/j0/9drhP8TjOuAhCZs/rxRaZr3m5L/XUvfXu7vwP/Pm3u4p2OS/0HhtQe8k4z9cxTbtBXnvP9MK9FAW5um/nl/7Hozn4T/hgtfBcsXhPzD+XMPqtPA/CR83PUKSwz9rT7Dl65UFwM4sKfjVwwHAFr0G+OoeAsAuiN3yq2oAwAUO2kgVYQbAREx2auo7/b+QKXFY224CwNRVpVcGoAPAv+vXyfaWA8Bb7SiVejwIwJoEtpRZigDARda7o10PBsCalTXMnQkDwLJWR/pyMwDA50fVrCItA8BVeCVHZrwEwFs0gGeVk/2/4t8/6mTaBsAdgw2Tx27/vylvDSPrXQzAwgbpvgGMDsAScEp8m1z9v90lxhYbtgXAGlprdTK+AcBjSBBKkGACwMrlK6RxMAPA0g9AANleAsBqpPfGVtsCwHFx0971TgXATvX5hIB2BcAzpGuTrlH+v9hytrPirwXAXDCZj7iZAsDTWl5Fav0FwJqK6MVnxgLA4KA3T8zx/r85+BNy0xH8v37QUSTt8w/AY44Vh3/qDMAMPjD16pcHwETjM22LZATAP/GtReW3BcCkqAehvjIEwHtEKOgwEwLAv056pALbAsAq3E32/XgFwEChPDtfYQPAkomECKoXBcC4PiPfP2gBwPj3leYXfgjAbpZcFpDeAsCSI0k4QeQAwHuaJSd1cgnA2ljA7eMHz78rHrjlo4gEwJX8TfULrArAQgU015o3BMB4neXgOkYHwH43l5TeIwPAuEqvh9nXA8BpUyToZn4FwPWEvB97wAXA0BWiQNO7/7/fpJvzdqMCwEdoQ+q0HwPAa0FDPCtPBcDN04eZau8BwKs5q8RcKATAgLYFZq00AsA3BcFRuNICwHKh7qD0NwPAjYfvVTRjA8DX2mDBCCYEwLAkL57nAQPAfD3elxa7CsAEALeFHJwLwOwHEQJMGQbA0dV3pol6CcD0EuVDGmsCwDUpcOqw0vy/Up0MB2d6CMAxlfwc9VwDwPKlfukKKQjAmJQHN8pO/r8c3+whlN8BwOobcLxJ9wbA069okeZzAcCdavw/BJgCwBg5tJPl6AHACpeHz9HK9b+Xj5SVJosEwOE3B63Rhf+/GV+GkNllAsCOFrffyRwJwOt6CHkUjArAvxRkwpsGCMDipaoeHjgEwDEyIwOJYQrARo/WKXRn0b8SlyWVvtEBwIef6KhLyPy/LqtC8vthDMCNuNTTcRsIwHYmTRgWEgTAsWNxvILsAMBHbzZNIPIAwCegE3meaQbAeilTWAUYAsByTGgkQxj6v5mbrABkmgfA+rLMnRQ8AMCwMZQGIXAMwMpg2U/LYd2/YA2x/OwOpr93uXEPIODkv8qFp9cNToY/92ArYM9j2b+Mn+hhpIDJP/wheGwzwN+/f4s0W/Ni7T+z2nvb6q/pv6l8Qv/4gO2/paqqI+wn3r8ErpNuvyjpv/APLFlKZdu/XKEb7qvY7L91MkMGnd3jv9QH+a3/0eG/gDgt38oa9r9ZJXQQzS/xv2KbC/o+iv2/zL6gY3vJ8r+cFoI8Z9vvv++K9Y5fofS/Jra4bLPN9L8YLrmo6nfqv5xPmTD+vvm/5ug73eHh5r/bQfFdrRXevyUnDHUvbem/mb4W2Dc05j8jklxltTr6v172p6p90vG/XziGC7Le5b8uk2Bly9v0vywvrqwCZfC/iu3t4uGi8L8IoDix+azrv0zhoVo5JvW/d4GyDv+z6L/9JZ4YYXf6vwjJ8dJfzfy/BrZe5Djs+7+joV3Oo2n4v1EpI64jW/O/Ogzr/IjM9L+ScAyChNL4v8IUQuKCq++/5a8gp2JBlz93+Cd5CmeqP+4ZiT5pMPI/aS2hLjaH6L91GHG1yJ3nv1aYKp/xDeK/p45qcbHR7L+6DuEk0djtvwPpD2dXKOe/ZCd6Q5wB6L+0t20RrZP1v98GAzS5+Pe/OMVZ6zce/r/Hv3vPQVz5v15WkS8OCOi/xW7j0F2V/L/F05h4UogAwNI3FLEzZfm/2+bphLU3+78G7hluGAz2vxXGb7ph5Pm/ytjEMojl978S0smui4j5v0YJNrbbS+K/WiGvzFu03r+dPiT/+AHgv9sk9zVZpfG/VyfNgPqq7L8k91n4zpe5v6BdaPBT89U/NcJ3QP+Q8r/PC99iCIXXPztgbtKZsvG/TU1pGJV+lT/JwjZFdKPuv60Cfaoz5ey/TJEfZBcR779dC1ULA5L1vxTk+wQdOPe/CqImOtG27L85rYohfoH4v6EuiwTOtPW/zkLYv2BY8b9RNWu9aoj6v/u0+mDsYfa/wYdfp+ZD+r/GVcIhJRnzvxnnGh09e+W/1yymW9EO87+HxsStMsfyv3L9SW9x5Pm/+Y7BigxQ8b/hPPB7oqXgP1XpQ0h9DPi/ouQmoM587b+toOCv6FHzv+uXWlVmFAHAwMtCtxUX/L/BekG/ozP6v+SFnZzXLPu/PL/9YipL77/GYeEWSpX+v3LItGpo2/a/ZPJhqorV9L9TyUVWzLv8v9F8E2rRPQDA6G42IVux/b9BqkYkO0z5v5wTgC6wVfW/k2XMPsvm+7/OIsKvrvH3vwGQ0zp12vW/h0Dh+APO+L8Dgm3R4WH7v6LgVRpklP2/2U7DAOyn8L/otV5P9bv8v63qwoyFpfS/YWBpLpG+/r/tUA6aXjvzv73TGThzhfC/Hpfd6NS/+r+ORsVafan8v5n+IW4jBPa/bT/TgtwxAcDddLp4ERv7vxgSvEhOPQLAWBy/hHVF87+ZN9zuFqPrv+QGH7wGz/6/gyPMMnxHAMBVdMHXTfb2v5nr9DJdne8/Dh7wfKIn7T8nkDYdSq73P5HVplUNq/E/Nb8ZCPBJAkDGlrcoGj/4P9nT3lOhnuo/SnT4wtmY+j/fRxhqGNHiP+PnNEL46OI/ZR7QpMDctT/HIb0ay8ryP1LraelAWf0/LyE0MRQUxD9E6bFAVEPvP/ayNKMoh+s/pqEE3drx8j+YJgJMhPn6P0JGbdys1fQ/R0LEEi9JAkB/52LsVvMBQMgTrHiPBec/jyTioY3+9T/bvS5UsQT4Pxbu243yXQJAN++dFpNr8z9e52ec07D7P55NwWzeFuU/wEynm8Dy2D+RyCsSeHPHv8WjmdMcBQRA0QlWRwBX3z/73PQnhUkBQGu4xb7ESOA/4TKhFSBDw794U29j8nK2v+2DarpdTfg/SsDtK/Ir4j8+gPu8nEPoP5UfT4oUe9E/5fsfknPO6D93nKi4KJfTPzQV4hdu++k/X5FKEHIu+D8YadHwnIHxP/B3ZfXgWP4/NMbkGaF05T8E6mjS9ybqP+pskXheF/E/IWKpcr8K6j/N51l8DYjqP+cpBIU9V/k/aHmbgPbF5j9QeZ11wJHyP4XDpLPEWtQ/GPWlne9z4D+wLiJvBdgDQE68vCUx7O0/hL9GwNim/z9FunfRfYr9P9bPuwfMb8u/4gxyEq0os79gMgO4M1TTP/Wj73FWRew/R35ThPNgBEC+bGlJcrbqPzRTxG5R6+k/0bipXfui1b9QTB7WsKjbv0ZKkO+OYeU/sF0XPPBm5j9n7ne110bhP8mpoj99e9K/R7+PMyhL1r9VzcH1vKr3P731q9wMV8S/O7wsYmkO7r854r/MrGnFv1s0tVyJsvI/EFb612lW5z+hfKp7bJvUP/PT24K8Z+M/+LpXVPzzCEB1ixZE6lTwP+/f7IC8ju4/SxwNWeYKAkAJY8QDX6vjPzYRGrioOfA/xDusy0dx0L9xa1kD/3r4P3faDrNlZ+0/DTrgcpNmAEAGwLCdjVzzPxzy8rC9ddI/QuBscxFyAUDxWB/Od4flP/lpkZEZHew/V7VwrGpyvj+iMwoWYDDWP6oTi/5vWvQ/3x2Dhvx/xz8U5mV2GLHYP5u8HHkFxOI/O+UTr7uJ2D/Bue1WNhnuvy+hDUuR2f4/lhVOBTtY9T8ftDBsmJnsP7N8VzTuZuM/qMaaRhOK5T9JmepX1KXDP3LLvMqLQnC/7O/sZ66Zxz85l3fd5Di+PxsmSn0yr+a//mW5Pp3X2D96BXIEnsDgP1yOjaPuO+A/qMEor+eH5z8FLIb2a8TYvznRMQ3zAPG/8iWpOYtjA0D4IhEAuHW8P2HxG0DCgeA/CaoY58nR8D9Ey/aRSN2+Pz7LoxJ5pPm/1hRvhCNV1r8a0f/iThVsP7wrB5NuUao/+yEgNgzu9j9KBDaE9PPtP/HvBFFqhfk/cpv7tsLtxT9giRy9nM7wP9bhYbUnucq/BOlWqpLexb+BX6K1CacDQALtSV0eP8I/6zrPGgrnmb/O3wmmy+jLP6VHZ4FjTu0/WIkz/7V68z8zXe+FTOnwvy45dJcwpfE/gFOeKPTNpb9Z2Y2K4wXqv5MmCDLszsE/7EPfiZZk2L94LbvVAF36P1oPiy/r8so/q1kOMOqryj8aZS5HXzjmv7ck7joGb+a/zIPWLoV4rD81s/yhIkD7P0Y9thWDQNo/Q8Dg6zx04j/dJOxmiHC1vz+OK80dvdK/GqApPTcNwT/K1ozO27PgP+y2Qd4givY/MLpNfpmZ6j8Y2aqeN9n3P+I3a/WXxfC/p+okAmWk+z+oHBc9BKLHP9HqZh8u5e4/2K9Qqxg+5j+WW/j9v3byP4B6PRQgpd2/aTvPL9yE0D99XA7xVxjiv21ifxANurM/hadc+axg1D/UbJrytvi3Py97vEPT/tG/VJLjrzeVA0CTzvTXKLOHP9/zk3/+GpG/MKfs81/f5j9Y9wHuGbDyP4CJg1EyHM+/zBD0cPdy57+WKJA10NXkP7Uu4FORQvA/MdbOIjDu5L/mhCLmgNWZP10DMZzzG/S/ZUII+3GbxD8orUmip8X9P4fcOgYcI8I/njPUKzI5xb/tB4eKbNTtvx2jbIA4A8I/VPLoDcr3/b86Una8Tz72v4dEgCJ7JvG/G6DEzn2x5r8rBixpT0nnv3C1Gi7jSee/qmCKn7mu4L9/61ef39HWvzDkPkcTI/0/UBUUH+0UE0DyKRlGwyzFvzdRR4/YFM4/Xq5q1OS18L/bc5alc+XpP8GvXcsCdei/BTEBaAgc+L+wASS811Dxv+pWNy39C/a/1RKb2C7g87+frXW66V/Iv5QWkRDyYt+/JzwoA8Hw8L8LaD0kminjvwtkCH/2H9a/C1S2V/bP9b9BALlMWiTiv7pPP6T4MfG/VKvGSeh86b8B8mRBqwPyvwUPlRyek/y/m4sqNm4P1T9akFdacgYAQL3HRsnpxANApCGoDJFA4797fjlVbtfjv8mZTVqxEPq/sAOB/gR5wb+tnOXg18LfPxr0QLlr8vk/M90vP5dz7794wyoE7nD1v6MWjvO/YLe/7y+uIK4n5r/SUa7gbTrZv/HTYQlB7Le/rUxt35DO3L9TPILBevv1v+kgp+yPHPa/PVUA+SYe/L+ihEPfA8TgvwxGUSABI/u/TxdFdpaY+79KBhAz27vDv3T7uW0x/u+/8GN+UybP6L81x4UCztXmv1gRoqB/tPM/xnY1oOIanT9ykVA2XJ2xv3sygw7nlAFAy99ejaHbxD+yaklRm1rRvyylCWWWr+A/W5XByU5mAMDbY7HV72DwvyZ1HZ47OQFAwRJ0xSWrtT/RKflG17znv3gtZzNvN/K/wZdRRYF37r8jdNAskLvdP50xjcpkrfi/knRXuY2Z+L93S2fB280BwKxb+JWZuPG/BunKxMMW6b+Sx9v3dRT3v57YPaOw1+K/6HSqTXzi178nu8wEiKfhP0xocw86B8a/q8W7QtYZ7z/p0T6kkMLyvzr9omGSOPU/rC9W+P6yrz9cEeFmwx/Qv9tq5Ev/cRRAv1R/6kb35b+v9QJYmS+ov6YZ0vM9o/O/MJuKQ15x8L9ylbJnEA3kvwuTbRsXZ/u/6/UvOhOc8L8jBE3Vtz/yv4+elgepuem/3+qAc0Kn8L9vPOgwNFH1v1vWAuElfvm/xLAbPzKl17+jurgV467rv0J03SLYbKk/tSkVOcqs1z/pSdSu2NfXPzGPBh4QQgpAPpFY0zJy4j8AVMM5IGLnPyC1Y0ngYwpA7kgi+5SVAEAv/ov0HBoLQNs9uCbPNxJA/nFPAgrO/j+SeXtga1AHQItRbiWHihFAps+7wYOFD0Czrb99HNT2P2wL26NXbf8/imSoOL6L1j/bHlcpMwjuPwk6tkohNwRAa7FSLFtoA0CupC4GXmfsP+QQH5KXmN4/jtvcYeDABUAc1Yj2s5kFQPQohG4eQNu/XPRGxPn89D+qfOilLo3sP4HZV/Niqvc/WbFTTa2b5z+3nseL1HHyPyVb7kS0LZ2/Pzq9D+q64r9nYLC8FmoQQIwGyMdGLvI/Z1ftCLJh4T9DP1bTmLT1P1PMfMyytfc/dQFu9sED4r8ahdMonb31P1yTE0phofW/MlTr5/os/D9+LLE3rIgCQGAhTy88K/s/vb+Ak7ha8T/YXKok8/ThP5tlaGssOvA/757+pomGEED1D7YeATnePxVkqc/gTBBAmuhu3c0o8D/EJYWC4/ziv08VXpimDf4/8mnCfb5j8j8Qq4nmZf0PQKhiGFLh8tm/VUMTdKXc9D9co3xKOXbUv54fi5+Sz+k/4aLWPfMY0r8aX9V/H/fgP9YU/0BRzfG/xGhxqEDjEkBv52KUmWftP/GLdGZlL7y/SxPfHrTdyb8BbP/riI8NQNt9WtS2P/0/zNMN1xha8z9QYWsABuzsP2uIL8rmTABA+3ueDJHh7z/mcfS/DevsP9ViKTlezt+/hE0Rm6Mc8z9HqNKTOoHzPzVXQ1Qpgty/+pasl50LEEBQ3HaJ+vjsP2dG0KA/RPU//3Y+eU0M6j9qD5DRfDDuP1+8JW9EZ/Y/bxkVhKiN5D+1w/wy0cUHQPxCT7rjId0/xIyFKToVCEBQLcM9kx3Qvz57RZikRglAYD0gOtip9j+NtAr8oXwAQDKtgEkIIQFAXFpwQABW3z/wmlZqI93zPwhzm8tKlOC/B8f7V3Jw0z9f3oLAEmoPQPaE3ezNQcy/29xo5UlXlT8BQzPmH+7xP5EkY9YpOgxA/FsEYDL17r+Zl/l5zRgAQBluA7j9IBFAbpPOmI+3AkDGVRWsaafyP/WyiY6jwdq/GGbXX0Td1b84RbkZE2vQP1nKtathhew/2URiepiBob/swccJw+1cv1UHhZ+vPrE/X0a2Dm4m8L+xJRSNZboAQO9NBHaS+9G/IdoOSOio1T8ZyNCzXqDgP8sQkZCc6/0/zosZC1eD1r8MDzlLlzcJQDIKn8h6bNG//xj3ohSYtz/7w4U6jRgJQHVUwgJOTuC/3uqDCPEz8T/1KaMOWRezP3VML/+sGPm/W92Z8uxRCUBakruuY5noP159Dc0aHvO/+qoU834Y8L8x9bNEBFzEv464a/N+f/G/NixNy/we5b8Q6QUWurfhv2QSATBRS/G/wolUmLF/97/ifqYwxxLhv/KtrxauM+W/7HQw0ssm878NToiDTMv5v+eqlnGzMOI/0AIbwRgD9L+d01Eu2obgv6WFgTl/8t2/y9jPxoxU8b/cgRg628DUv57X4qB6AtI/Omdb26spwz+cK+VuMEb5v/IpttPCuhJANWoxSPyD6b8iTqv5L1v3v6chLuBSIwJANs5XBIdt6L9pdFP3k9zpv6UIq/KELgHAGBKUXilw+b/dkEh3+Rf2v4YawNPsePO/tnYY2fl44D9vp+wHauzwv+j0wUM+QQHAYivQaRyp8b9H64B9v8r9v1ajRnCGAeq/iokrKb9E8r9eBmwjgaLzv5YgmGnFbN+/PHYmY/zyxb9Tq36VLqj+P5KUs6eJ8fW/jjFcdUhZ2D/+STOg3gHwv2v8mgOorQDAJWO/2D2pAcBScX4LiG7Tv/w7AOEa5PO//fHaTGMe/r/whfpmDUT2v0p89Ll72vq/BgkOCB6boj/431GEU+QBwOfeay3bcPm/pTHACE7e/b/DgEkUQoX0vxnyOaIR7P+/+Y2ZZpCn5r/QUXBmBJbnv99idADO9/s/VN5uQ1XN/D+dcTPpVnnzv5P/bo0BpvO/4Ui/C/eg/r81DjBw/irsv+n9sInm1Pe/drOb6twn07+ZKaIflX3wv0wJYvO/nfC/2zpFinu4/b9dLIWw8DrzvxQMYKDFnP2/UqPN9w4Z/7+60niMb6v+vwOsrkHTcfm/JxpR4h5H0b8awOIM+Y7mv9EImqudBuW/Dn3rswul8r+hqdIYYijTv5GPl401F7c/AiKyWsNV+r9vyj2IjkcAwAhD1s8d5wDAXu7/CdiO8L/ZncJpgzH1v+sHi4+flPe/QOgvC3Tj8b/AbP81XC3uvw/9uNZtDfC/4X6d/rXyAMAQL8p1nKn8v4mmAUZtw/+/4zq/8PH59b99mGkH9Hb7v5np9eNdXPy/7UUSnsik9r8QwRMDvA72v9YwXr1xs/q/0NXwnjoosT/SJuas7yD7vw5hvSZ4x+C/tzj6wfyj879s4iBvV/gAwOgvOV5y4fm/ljE/Hevq87+QnsIk15Pqv3bBbkCuR/m/H4KOO7Wi979DO1B6sLvyv0ik+DYBxvC/uoNlR9Yg6r+V2K+uYa/8vwwzvf0OFvu/Ub8xsN5j9b9dRV0xzuT3v275F/8fSv6/t0Fz5Q7e8r/P5fKfiUT0v3HMytxBhPO/45M79acP+T8LASDZv6n6PyinQnCy6+A/l86ZF9whkr9mMUEoRrDxP6bykMjBCdk/J8iiofJE4z92V89qifP5PyQ7Q0LVx6y/rnjW5LT4A0B5QCE+19KwP5YHH+J+obE/8j8QPdoEBkAy8dWYz9WyP4ZG1WFwusG/8gwqDVqV3r+atlxz0z/wvw+sHbQrPOc/48HJE2tFDEBZvvl7xrbxP7cvP09dssi/cQn1BSfl5D/NcCjvd5L4P5M3E0omMu2/TPLAy6xE4j9BSZ5JlKHdP2MfqZeyANO/LaF9aVG74z+USa+KedT8P7MomyffhLa/2hyVlnBlgL/fL/XYcW30P9/0Q8cO3tc/Wd77/V7BQz9oUGnv2mLnP7gcgkKFsgxAQAk4cBn//D/lolFNeiPWP1x5ceHLy+G/wPXobfuF6r9HS8YfqiviP2CLnt8pSP0/ZIAfCeCP9D/ZQG7+oDDyP3tJnAkvssQ/73w5ZqZsyz9rXKS38N67v9e46bPiEsY/6QxIjWAE5D8j3L4z/cWyv+bMPtmiZNm/wFod49xL4b8VLoFZiwZuv4dC44DAhcM/JjrwmPwi9L9sbQXT7wjOv9ASSSZn0e2/ecITqFbZ6D8SZnQ9/FsBQPOfeZYb1dw/v/5t80oI5b/B2VWh91nnv7+FEgGnEO6/zf+43bbB0b95EatZnLrZP5godzmDGP4/A4vSbWyzqz/ePRQr3LzLPx47USwz5Oa/lcNDB+Onvr+Ia8oU3mrHP6ExoNvH+fE/z3YZuQkls79j2uiJcTr+P1FUftzEhty/MFlaNaWJ0r+P9WzXhielPzbj3p1i+Po/hGqBXJEi6L9lrTY9A4Phv7pIjSfva+A/OaxcsbT/7L/JAqDVChrqv8+dA6TZjcA/+NUetjzRzz8qOAcC7MTkv5aG0mKTlt0/X9b9c3YX27+012d/JyPvv/2ECIZuC+i/zsoyqHyR7b+NKzeqsDjsv1XqZlrA1ds/DhkFzDjoub/BlTup1dbnP/QJoPFlh7G/BZAUVoiH3L8tXN2zfNrkPxKYVq5Eucw/pxs9gpjY279x9DruICXFP1DLUMXdWuW/abwTv0se8D90GpQHhtvhv9IDv7+MS/O/3tFMpuia/D9s0uesF/fgvy72HwXB3Yu/CLkTchDU1L9EhNv9yISmPy3g1ZfvvNe/gCBf9Mh60L9JGkOSuHDuP6swCY6T2Ou/4eQAt2lZCEDi2kohYS3yP3uvHpqfNpw/lEGgG0CfCkA5hcaZcsLkv49TFZtYmOW/go5ijIvx4r9uQxZL0zLLv4S1vd9TiOK/I6sv4Fym1L9GZdL8GYLePyanMping+G/XbNskwdKyb8ouPJBSgXmP+XLg7W5Y+O/LIZxnqnyvD+kPFVoEU3EPyu8w3BTCM+/ow8u1woKvL//coCMSacKQAD+oiIFsrm/k5re6CPvAEAN4kk6XEPfv1lpQE2kutW/D29DAL1E5L9dvN1j7Z3WPyeeVh2Bb/C/Mqe9WfTIy7/Ck2w4kaeuPwU28YHVvKO/kqg2MQti8L8WcchJn1b2vz6EKB5wA+G/TILYLp2LAMBZ6G3VI1X0vwoAwPoensC/HQWtnbaryj8qlxJLmgTYv81750kAmNS/bCZ1/uJ887+wHasrnej0P+co+h4HwPS/DaB1S87K179ACKpcCnHavz+0a/RsNAlA/uJC7tja9r9VGQoD+Rz0P8YWrhhu6vO/9dxoD3wL5L93NRci4x/cP1MxuFAobNk/APNmgy61/7990076dZjUvzQ78Xa0nqG/sL/wdDQYeL8TYUE5kbPwvylGdaGzkP+/5Oqc7BvM5r9FqyT2a1H3vwu8pem0Bve/eBU+xq/a5b9Z73b5lZr7vzWWOisnUu+/CLInjC3t8r/kclQ6I0n9v1mNn88Z8fO/KsH6hYZP67/OLRnKGtzWv9Ghf50ro/C/7WCX/iRB8L9lQThM28X9v+cn4QBDagDA6iiiGqQP6b+OiHvCowDdv4S8zOZBU/q/3EItVwyt5b9poMd8Wbn7v4QCS+C3FQPAu2Cw5uw9779AR+FJa9DwvzZiaXbTmPU/hVMrAxaa5r9IKbZWIdr+Py79FOiqQPm/gUtGmXJtyr9qkmu7Xg24v2KOn1ehKvC/NkBxxVww4T9baI55cz34v9z/zfe/rfK/4A/m8Rg/7r9M6jyWeXHrv53CQyBlpPm/uJ+dK0Sv7L/fGW7siQ79v4glv5BtIKg/4QzGsVQP7b/tP7bWoH7lv7UvQHB+mLS/wo4TuNAvAMAzyHc9rVb+v6pYabZUOei/TBi1U7ES9r+ejjE8S9zqP3CP2Euz6vC/00yDWvH+8j+E8Y4thF/wv0HqWsYRuue/5wiOFs/al79/R3EqhYziv3L3XbRZdPi/uwdbfmDY479E7jwrOreiPysiWtf1yuC/Bg67iPK6xj/mB+pXF3Xsv9lxkjbhcs2/E77E8+mP7r8pg3kaLWq6P9JIYEtWWOS/3Qkj6/Fi6j96q/R1Q2zkPzHibtspOdW/8TMs65LW679NswmRS1nyv/BSAZlK3Oe/pzIJIX1L+7+zZNSIw/T7v+DxOaoS/vA/FEcRXq9j4L/2P0pMnrPCP1hVvqrjP+K/GB7nOyhv9r/kLNs2Wwn5vzwLnaQTj9s/yrDLpMuhz7/1ptk+WaTuP/PhSLhPod2/s1d2XdfF/L/yNzhXezDqv6JuZFCGvOy/bBrYCa6y6r/5uyOBQU6aP5m7DL5uLtC/CXuUo1ao87+1VIEZiKfgv/fla1XOJvS/B5fdun/u6b+aGKlK8ab2v3mP+3x6TOO/LlU3P9Zj5L+LQ/s6i1f+v0mE8rUhiQDAkcbhVQl//r/3QufacxD0v3Iu3Ji46/e//6JmHAuk5b+hrkOKkqPqv9327zAhC+i/qN3f6xiCyL8uBVPVkBnYv95iCL/iaOe/+1m/gGih/b+EG5/t1xX8v0rsC9j4B8O/RhgpHOh1+b8tnCUma21jP2NIal0nUgDAojYDWkMI9L91C4BpAo/hv1WzUoMogua/9Mp/pJX/9b/cpJ95y6Kqv6C+q7DjXcC/h0yc15JN/L/UknE1BB/Sv3Cv++5C9QHAvwlT5ErNAcCYKnpy8dLpv+ZE1Z3V4/i/dc+e6Aou6L9nUKBYZLb5v19pWPOb4+a/BqfArExD8r/+ONiov3jePyl3mgVlfvu/9IbGHKNlvb8YGyEfGsvZvxLZafBjYfC/nrYarnY29b+914tTl1flvzXXDAz9KfG/GXx8JlKj4r+jy6usuZL3v/XlHT1vkuu/najWYbAM9r9UxpoH0UjCP/XchTcU1PS/QReNUDc30L/dgkwjesXwPws0jQmKB+a/luY6Q4LH9L8vgc/e3mMKQI1Gx3IH+e2/oEkTfnwO378T4GGzIKHtPxeTahk43fK/C+lM7ntw5L/Y/lqdkXDVv5Sml9xf19a/+8Iu5H0g+b8kqj3ZJPfzv5sVGrWlXQTA43NtbXoH9L93/HbMTP/9v9dRKqh/6/a/hanxxhHmAMAS8A8RtoD2v4h4tu9zz/S/I/3Xjbkb/L++Ag0pU1IBwMnZUH55HO+/X2xhbo++8L881oYDVnoAwGDE2IQHuPy/ImXGycdOAcDoIspRbP4CwFHwOMtkV9q/6El+GL4B3L9GdtDP8kH3vze0X6Kk/P2/3XEL/keo+b9VjY2CxRn6v64QmxpC+wPAontFJHbf/r9g8y1ym3L0v+okPH1MQvu/KOjLJR9xAcAArwKoFlQBwFcqpshB9Pq/DTKqENQlAcBzar/jsokAwMVqx8SzUPe/AnmM6is7+L+/Fmi3Be/9v5d9YF4a1NQ/CBXElhF4BcCfKCYz/hzzv9Wd3KaPxPq/B/Qby8i39r+JFHpU4qfvv3dGqA752f2/LoOF6opo+7/AwfenMRD0v2qFoiz+pfm/pYkhmlE47b/pYQPVkqTmv44u47g25/6/+/ocV2dF87+ns0wKEijyvxzzfP3LWvG/okfOqxUQ+r+BW18Ccvf3vwne4aDDB+K/kmB4+IDe879DHyJv2dLrv2aL8RYkTf+//HSRSNHS8b/DEG2Dul73vzDQf8WGq/C/VVHLuEUs77/fpbwQSAvjv9jzNYe+jNe/B9m6RXSaBMDt5By1ZLf5v2DBeDL52fm/eft9GvWo9L8S52OX/iYBwGDyNn7Y4/6/Njrpll8mA8D9UJsttNXsv0R9sSLDsfK/XXH9L15I/b9geHtn4wzzvxDSnFa+vPK/kO8j7ClwAcAYG2aV8nwAwL+0keTASP+/ojKMdWtzAcDehpODRVUBwLK16XrMLgHAwm6NGYt59L+2sf52R3v9v0rMZgT/tfy/mqM8lZm/AMD7vuTdFXIFwJu1jWzzXQHAK12hCxJa/L/GEVBEjrwDwCbB9v938f2/L5G+p6aBA8AjhIAVQyHov3T5pi6o/gLATuZz9hu4AsD7lO/5AZP1v8SQ8KIKNQLAB/t4cDOBAcCFnNPcaG4GwBwGuK1hdgHAP24QWCU1A8CL9PkmOuUAwHLSG6nK/fy/VLVvi2Fj9b+Nushj9LISQFsh4kWJhAxAd0+L1MDwDkD/PL5k4PQFQCphb2H9KPI/ep8DTBfZ5z+xMokL5HwOQNT6XNd9wgFA1vOzt22dAEAdUY0D9fvrPwrzQCW1yMM/IgI+C3UY/z+JM9DTbl4AQK19XJcMHek/R2e1/9CL9D9y2pVHCh8GQG2l7f3jowRAmoVzQFAq6j/LZyJyNUjfPwawDaSJewxABokegdI49j878YYCQIILQC8SDioomQhAg3ooHioUDUAnRyTLMr4SQN08l1KdFg5AGrCOoFk5D0DKXK3SnGMSQNCRP4l+AA9AIVGjoseq7D9idCyYVfjaP2OdhcXWmhRAmH/Lg6mvDEAwHzqYTrT9P8c3CUCU8gNA9AbA6ID65j/CX/owSnEPQKRR1iDUQts/Y2yY28eY7z9joNo90DPpP76F41BCugVA9enYs9SqDUAbu5vVzUrxPwyvnCT7vP4//SXueapIEEDxiT0WC6PxP5giKtXi1vI/EzHTyWlK8j/zD2XwHTXzP0oGNZldfxJAS/xyvx2zCED3A6MaydDoP3sUkseR5uc/PT9pTSt10z+uH8vN7AX1Pz8pkz9+z9S/0iL7dj197D+v+zWtglH3P6Y8enkCdvI/j5y6Yro/wD9CpY4p4svUPzwObqxZFOU/pKeulK7AFEBF/hZzlQjSPwD8Yjoj3ABAyLj9wS+E5D+ksuvikj/7PzPXfUcHgeY/nN90UHrU5z9YNqvKPOjxPycqqYzImgJAeqax9hiYAUBFHTDPHdPpPwjz44Zo1Ps/Xo2aq+2C8D8mjw1aggX7Pz58EAliuPI/Fu6eyU+9/D/osoWbmz0BQAJcltHJBvY/iJ2x9v7N0z/zQ5lSGMHpv9gb+fycM70/W+lkb7U2BUBV3N4CGZrpP6a2iFW+LgVAQWtsNXtj5D80PgmEfRwIQKOzAovzrvM/uoeKNUSK2z/Eaqack6XzPzUUjsZcLuQ/MtEQz4np/j/P80KwZkX3P6rgmqr7TvI/u/wf58+T5z9kQ+TVAKHqP9qMIhLnRPo/d9L1NJMcvz9v/KTy2RW0Py/UtPDtEOY/VIpTKQQn5j8yDyELk0zLv7qYgYX+59S/eXDUJH9t1z/2cFbLpML3P38gc12EfOQ/jBAx3Wff+T/57DopPF3dPyWkXMmZB/c/ctublivi8T9VdbyqEZ7Qv2wrq5gNpdo/xZsgjENG2j/gj/J/clPRP1B17ZeAGM2/Avl2+jqY5T+t1UjJEMTKP1HQVknZQuo/+nqyahEJw7+xIuHHsaraP8k4urCnOfA/y7QZRybU7D/jLhxCpx7oPy+GInatm7M/UkfbXI/fwb9H+JSPifzqv4tmrvy2JwNAe6sImAwSxL/hcvbs8Lz5vxjpAPGj1gLAmXFV9VUEAcBI2HkKu+Dnv8B0eQNyB+K/qnaMHw9V9b/DYfLqYvT6v/k2y5/dLPS/nsoX4+AQ2L8gRX5yTBf1vxRsufenHae/uWqGqPHy+L9y1p0NrBzmv15YJ4jlGvS/TnUn4/DT978CkHFaCrj0v3zTrnrWV/W/jZkAdcmZ+L8LTUFHXlD3vzZqLahpYu6/o3yhq6RR/b/szI5BkkT4v6jnukCV4MS/zpR/lLS/AMCcrZQO+FT0v+5cRgF3w/e/mDxOyovc87+b0PJ9Jm7xv93stk+kW/G/QiQEMARi+7+bo+2zTA35v/AlCbepsPC/lrf7FAb99b+6VxX0VWvuvxSYmpB7VvW/rjz158GLAMD29us9hLr5v8GgWfyS1Pa/mhCe9CH55r9QvCETj8zjvwaMdJLbP/e/QKGA1HkXwr+JtAiPus3cv+zoOnHu7PC/VnuChTED978ShleAqcX2vxdg9h6jIfa/v/aM1myF97+UKJPbVCn4v1Eav27zsem/XoGnhdRr9b+ZBgoIiRfxvw79gyyi/Py/HxSruW5W9L+RSen95h/qvzCh5TRsee6/YgyTcTUO5T9UXKydfxbyv2MhNazjjOG/HqXi93+G9b+tcZPMzX/3v4N2kHOgZ8S/HFXXwAC5+r8ga50Kl3Puvx59MV2N9O2/y2sqlp0v9r8fZEDb6pHtvxH9zhOfffi/em6VhVtxB8ARQq5+kkUDwJxK1aWLNwLAT0A4/YemBMCXQWb/TPECwL2xD1Gxgvi/b6YbmCtlAcAUoBpBjlLkv34MT2LhNgHAC1wbEBeDAcDIuH92dyzzv/B1FjjyWvO/gQmrWQva/r/qZkMVvJf9v1jrWItuIgDAoDGVG28MAMD170c+yWEAwO13LdWfsgPA7svInhIYAsCQ6X5GYWEDwF7oW/9i5QDAefN7Jb+kAsBC1pk4SH0CwFYejpc8//u/YWlYL6W/1D8ZAEuBPDn8v6B3FqIZ3P+/VzBwZnOF+r9VNuMqoG3/v+OmzGrTif6/CvCwBx5Y/7/oRzu0hBXyv7jMXPf5ZQLA7Ogrds/u+z9oHe3UdgsAQMimA9SeTfY/dcY++XTksD9rRCoC4cntv9GmXTRj0ug/epur4MbCzr+qNoOvNKf4P3iQHROYp9K/Ic+AX4W96T/ZsPe2LpHsPyUEVyo09ABACk+N4Y456z/Juwf8wzX+P881jC+MPeY/bmUT9mgP+z80iDMBwzXuP571sdbmRqA/AYuRnk438j/JyGfUJnoHQOzbOCu47u0/Vo80PGfBAEC9d0ogXN/Uv0UdDtNxswJAF2OM2bPlAkDqBdX4npK/v+lUok70Gd4/jB55kvEDAcAfo70WHILQv/8BNA7XSt2/CvLB9k4A+j/5h8WGaGThv5TxTY+5EvU/r0JUi6O27b/FQmz6eWH1P6zopFczdPA/IfKb57Lr7T+YWsjKzsPqP0wHzfMgKOw/U305seni6z/Y1MQ6dx79P/hbDYZaJuE/+CsQN/ye8z8pdIZZsNzAvwFAMm3I0uM/GRZaKtdHyz8nqFQpL+D2v2tfESBq0NA/7ji95l8v8b8NjqfYP4Pcv1A6In+At/4/W8wTMfwy5b94yYSvB/f0v4tpkWbkq/Q/5bhSFXiYu789CL9Pdl7tP2p+myIyTdI/fnmOkbay9T+zKqybghL3P0IW2TfyNgRAimEG2mMZ0j86xQbzy5O4v0YgV/5X2+G/FNOshfKb7j8it6LGziy2PxruzgOxJvw/GmyN3JDN1b/nsXMgOzW9v76dptfMUro/EJ60ruUbDEDEL0vFQQDev9+iZYYTPPA/FtN8iq1b3j/a8yVIokr7Pw2cuiSg5/I/xmSoPK904z+9A5ve6IL4P8H7f3VLlgdAoTun3666AkDRcHl+/bbjPwBXxKE9p+Q/QEP+JwV2B0Dx/gA3s0/+P3h+kE4qEdu/Hd15K9XKnD93RzaZMjwJQGoK3eMltPE/xO8nS4k30r/miOGckSLBPxhYEuAZkgBAX+kjtMXP8L952//n1ATkP+xbymYD3MA/FHUB1aek8T9X56L9MXrbPzG4QDkUBQFAY1P58u9f+79YOUKYtkz+PxgnZjOFggNAmwOuefFv1D+CVmWwHlbmvx8XfnOY6Ly/7933VnndB0BfK+fIhyHyP0Ip0wzpM/U/kyPRyjw757+rJQBwq2TLP82jGYjcmtu/tA8bgfh09j94q6OnRgziP+EUATxWC8e/PQG4iEFfjL/cVTBCP0jqP7aoiTTuyem/BoGkr61437/ErEQ3dRHVv7KDJZzNXxBAsTpbzbqo379l1GbeKbn0v7rh2TMwvABAXiCohzu1+j+JB0xcI+zoP11OKWyFI+4/6hFKf+9sor93DE4HcQnsPx7t62P6hvI/sDlG37sa/z9rJ7H++AHFv0fxKFjeP+Q/oYFueIvZ5D/FQcoAgTf9v2VG1aZw2eY/98JRycLkr798amFgU9rpv/K4RXzlDte/jL4bOjnF9b+7rlimXLTzvwFrG+vRgPY/s2DC4pIG7T9z51j5zfbVvyqie4z/qO8/XMj0lJu1CEDhjj2XLTHkv73rRLkn7/M/+Wq1WTOtAEDSMuJJ5YzQvw6+ih32bui/pPmpHpuMAkAcvHGww4jSvyf/LNatHO4/A2entDrL0T8kSxuZE0kAQCpOrJ9kEv0/CTa4EsXh4r8pQ5U+pufQvwditQsf5vK/bx9VW7w54z8I+FjzyHb6P2PXeVnjHPC/4LKLEWzMAMByz7VgTBv8vztqoyKlWQHAVuNN8I9R9r8m8OHVMWf1vycOFcCywsi/7zXHgK3H+L+P394M+l3Wv/7eF1NJwfS/NNXZ139x8b97PuFi+or5v3zIeUz1LtQ/AUS9S2Nh+7//1QxoHnD1v/x1rnwmzeK/dqh3jpgn8b/Wjp+DkknUv3KMruvd6PC/Hl4OrvZF5r8zERS8UHT5v9WtKLbLpOy/hCmiH1RS+b9Pl9yxPDPxv1jx4JdXotm/05nRU17B+L80lADOYJj6v3MDwggFNu+/MX8he3o68r/bsIF4gLP0v8qZNtjQgwDA6NEBFUTQ/L8NOwdEafb3v6jWhJp/FfW/701HIv3Z978GZIa69ST3v+YZR3OWwPS/aUQljWqK8L/rTccpH6Hvv1U8uLONs9e/+0WcwAG9/b/l1MoPuf/8v1hz9up5TwHAWyEW3DZ1+L/5KZglOSLuv3AFpW1KDfS/JCyyPc1cxT/qY7BiAzf1v+4vXPtMr/e/hE4RsizL9b/q3BLOoyL3v9SLHhqRHPq/IIuyhAhnAMDnRXn6UmLwv6dpQXh5S/y/rkgj96yys7+K3Nz4x7/wv46WLNxgtfS/HBuH5VOQ878d6tAXcPrZv11Y+8dCzuQ/el1YwXrO6r98fqnqbeqJPzLZjZPfEvS/MW5Wvj2X0r+ymHYNZnLtv1n3ZCEUOOK/XvEa2GzOuL/0xJHNP93yv9EAm/CJv/W/WAQXZhkHsb8VFp3yI6bcv7PPA9tzXRBAnQ1gxG7K4z+Hqx2/SS/Zv9v2tRxiVM6/+/zDeEti9j+c9L0prwf7v9R2LbTySfC/zr6WSm7Z07/tjMNbuyjyv0OjN/FkjfG/1xLMlz+C478XdTvs2bf2v5ZLQOOJnfK/+96aZ0Ud9L8XKyVZfTXiv6g4F2q7DfO/QQfz5fzqx78SgwggjWbAv8HBZNct5cW/Gk7UzKNm579tm/hqpCz2vyWqr6FZJ8K/dbdD069a87+odO09mef7v0J9xLWWSPm/c0igWexD4b/HtBI2TqfQvw322NKETea/peqRjdOBrb+RbTCu5vjev4tNlqJVzuC/zRxekTvP7b+ZcPUgaxjkvw+CqwglAtW/8uSrgcBQxL9cbmtoXV70v2saSQo6b/S/YH6rdLIe8b8OdxhIepUAwKTgrO+DmPG/FXxY2Mpy878MFLDKgNDpv+MdRlRSJvC/eTyk8aUU9L/4ZzsdqHzav1XgPEshrOS/2JuaRxaN9L+cJuq40iTwvxTcPqkPhvK/lZO1FaLu+b9x7pGVIPPiv7TH0lsGvPW/T3PHAEKp47+m+B+ogoa5P02HMQvXu8i/bPYQyhTvhD9gkzGrmrffv/uMi7d58+C/FLlVHwF6779VvB6+qMb+v2Px0kXlKfC/45fy4ziL8L9DOdIKlqLQP+NB057qkfi/TAuIGWnH37+0z7vWCrHIv3s7j4nXYec/D4p+k7D8kr/+ozn3onfPP9eDvvhA0AFArNdl+jro4r+7OjztLR3cPzyNqnK9dsG/6K5XsBHUBkD6RAHtEh7Iv1AxpMO9Tdg/1pyS38xowT+soyZ35r0DQDOy3vhKowdALnhGzZyzEUBf6uGkJ3+4PzY3o3hWoPE/SsO/TUYvvr9sDMHwFmJxP4kzq1sYZd+//CwEFAnj0b8LHS1BdyjbPyqpYPqZ37U/j93Y0RbYAkA80b4UPmHgP35YnCBQg/C/GHTdBHoEx79Bb492cqIIQP3KCYEHUd2/oYpcUlfkrL95ALx4jvzfv6prrA9RkuI/UuztCnx+yL9BDPywByPkvz/kvM8og8K/IFsK9dDO/D9iqjGuieXVv1LxwA4qqc2/l7C12LQliT8Fb8SJwenkPzxeAfEX3Js/9jEVil/V7T+aIvjCHqHlP5yJozO5YdE/gtPkmKLX0D8Rd+9Fn/fBPzCag+IaJN4/yAM+aDb51r8KEs4v5NPaPxqsBnx5qvA/aP1+xDbD0j/envrvtRa7P7wQHerw8+0/OkZtTzIJ1b/p6BVALcznvw2afE9Dn/k//WXDVGNq27+CEwxA5P7lP1MFiRJgUOK/WtQ7tTAu8j/MFDzX1XHev13TElzG0+m/53fGWoEx8r/Sin/aF/8AQAiG6zrhVMy/ENgUqTc11r/7TCSI0o/UPyI0cEzAUfA/JO0wlpYJ1D/aItf7AzrwPyEi7ZRP6OI/3/NFLAoy7j/I1J6d+LroP4RRFHMyAcI/G6LyktUtsD+av8DWCwTgP2lsWcA8L/k//rgnNjm02T86HHFPTb8AQGGeB2GQRd4/km/G5cRr9D9aI5F60wrYv7J4NuYO7wJAL0v5FOQf5T8wI49AGRDrP1jyrLxMOMS/VEBlMEC05b9tf1iW35bpPyXGoXY1R8C/HnTCpn4R8z/WM28/hRHyP+fS/56j7q8/FVcTCTiOWj9b19fk4e3nPxJWqCyAwe0/Oc+SlB2Ryr9wqlQtug/eP8iGguD6yQVA3NMx/aH98T8yQBzgVzCnv/I1PyjqDsU/NxYXSvOH6r8bXYVfeZjUv4dZDN1KUfg/aJ5msulT/z+v0lzUVf54P8AhTFWXUec/qB3geG/w3r+imIsAOK8TQN0XALuH6/o/9sTJJVtOxj9yZntr3OfDv5QLKJ8lYvg/HEifDhlE9L9ajn3wK5jYv75XZL+MIdC/pLDSEuMR1L8aFq85UW3rv4L5o9EoOOM/eJEyeWNj0j/oKTlTbyjPv4/CavFGX9G/IKNsY5LD4D8P4HiMWq7tP7QfP8XkDeM/YVcHGmTi0L/wK+SeXdXWvw+QJal6ZdE/3d8bckkpxb/igimiU/u7v3uHwOotSuo/oWHFGG6r4T/ma43e/3/hP+wbxHwHT+U/JFMUKhqAw786gStlbaf6P9mZ2EA2wAVAYEvGETP74D8tusov2AWaP0TVMxotgOq/XMEDGf5uvD8747ekw8PFv1TK2TDOYJM/wNK68SVB479QD4X8Dzeyvw5mg86sPO+/5dpbeCLW0z/we6RLbD/xPxd/CDVL3uU/Hujf5ZDusD8jAbONS1zSv/IXMaxRi+w/1zJGv1Wk4j8SrDp4SFTyPyycHFJX0O+/joowOHer5b8Hv5x3LKjuP4mD+7qaGJe/KyVRO4R3BUBoLiVZuhHBvwS/FjFxRrA/0tImKKgK8T/ak68xYa0QQNaosSHwcBBA3kbNdV3GEUDCeDDjbtoQQBXXYgdacwRAs7/Cb9wREkDdadvXl2ETQAkcsLfmzg5Am00ieXduBEDiN9/IxSMTQEaJAI4gFAlAhNamat0V9T88+CfoimQMQKLJHQb+T+w/ObJyLNI3/T8XJ2FQQ68RQKElcxTi2RNAKRDmZlftC0Di7ummFzwGQBJ4I7FiCAhAlRO910hnBkCh58zRivoPQFZ9D5OkSQ1Ado6Xm3pGFECP2IWmDkYPQE1Pz3g8FQ9AsZTpT5o9BkC8BC2jgM7JP+sMOOjUrgZAt0qpIE9F9b+3hcUdpC3tPzUXA9maZu+/GAd1hkzT7r9LifJTnMTEv7uUgftVr7y/SUi5ouKX7r8+lrq08QP0v2O8tIYZdOS/oo9c78kG2z/gwzR12JHxv9ElFWJ2fvC/xUkpLT676r8Occ1vqGryv47WWTpQJ/W/OkLAApwc+b+ojmyq5ej3vwmdEM+qAfi/fDHEtIU0/L+9tkySzfeQv1cmwDLEq/W/Qfrr4Sx2AUDvWrgDpp7ov9jKmLmBI/o/+9xNgUMO278orqHh57/6vzfqQAa6Taw/j0YWKBzPsj/JSWHzY8z4v7kRTlYQw/G/B1iuDcc7ur+z5Q/ZkGigP3Fu3DYsWPm/Q4V5V2SP+L8RimApyxn9v5uC+c1B0Yg/u0n84R2p+b+CB3n+tVLsvyrDd3AB1vq/lWaqA6cn3b8wMt6No9H5v8BLmFreWOI/ztYTS1sxCUByDlBr3fkQQE8MXnobigZAzF7Ce1+k8L9m4Fmfrcj0P7QIgam7xum/O+NzftCF9b8L40XE3S/3v7Bm7mGSnhNAsZUXEeBx57/BtgIIzeXnP1Ju2L6yvsy/IJjxUjB36D+gOaC4aCYAwMBzQ+WKNQDAf7LenC2k6L9UoG/TOMjvv6YZPg6SjgDAHN68srU5/r/zzw6ZRaP+vyS/NDzB9gDARP/A8oix/b9L9txutcnZv3GI5Yd/ieO/rAtKbxqsx7/eHUQMx8IAwMGv3pue2xNAZSXw+MYx/L/gUcMldwECwCkGNYI2Tv+/76Ixj7Dn7b8fquCChmrsv/9qf4GGWvy/TJ+fKiBk7L8fYNy/X9TwvydglmD44P2/WkAYQUSl8b+p+tKuEhIAwCdungr+DbC/6DTHtj01+L+/bO+07Ob5v1kPRE3aP+6/ZghpWqv+/7/ntbxbcQPlv5CQfa1hhwNACnw3u4R88b8JAYpnQ0TjP4wGaucv0wDAd5Dd6qii/r8Y+M/c/OIFwETCphY9cwjAMEc3I/JRAcAceLJ1iOLwv/Tmb4ehfQTAY7m6pkdkAsAMRkOo5HsAwEJHhXVRGgTAG/OBXSrQAsCKDxRQtB4FwIpR0C50j/2/6VJeCd0Z/r96cTiunPD+v41TQ6hSPADAYi960VwBAMCUatuAxscGwBIIihEL6gHAZUj3Mvo4/r81BYImtRzov4I4VKxdogFAoJiRb2kO9r+wF0A7klsRQJSS6K4YbgDAxlz59P27879/xC7bjjAAwDH8u2n1/wTAi9+cqkQT/r/EkBxL9Mf6v2vlH1icEQDABgQHZsZ9AMA2Rl+/QDgAwHpHqa86ZwDAQFGpHTtkAsBcHs7ePYf4vwvgWfAJ+fW/XUDNafOiCMBAaXpaiJwCwJatcoYL7QDA5YX50rFSAMACiTPQBbD7v3h+0jOHEvm/szOsRp8aA8B0+PKFaovdvxKdXxVJZfC/Us1CiEMB778Tf5k0lKjRv4jbF4cYQvK/0Ox9mBG6yD/dzl7bhk3oPyTwgoa8P/w/ntrT6Irg8b+RyTCDSgrhP/aL8O44nui/+lJq0oCo4L/dhnl953bgvxpILEn3r92/V+Vh6jcB4D8fC1pynz8AQCaOErD7nqE/2RwQTMtc8L8Ox43BWH4BwBD73wJl3vG/szIGqYQx27/olnLPwXPxP/rInRQYVuK/4RphDt1FuD9doPUE92rrP9hwQuaPifm/EUUkT2Wc8L+s+b3UjBu2v1v7bj5sMLa/zwTwygHN8L/Cxc5t6Cfjv+kebQEo+dA/iSmnYCrs6j8+r9TorAr8v7rzzwMK7NC/dxl0sLtE4r82N8FkY13gv4LjPtWrEME/FYIrgaGiAUCVtCl7h5jhP6Hfk8NSR7s//fVoDADg+D9MSQzlErnuv3Rlrvr9XNa/xUKtsc+w9r8mU9ePUNkFQPJ7Z2q5GuW/NOf31g9DsL+UzCEO/NCxPzcvBqxowgRA6ktUphNU7793bP6UaMjoPzeovNJIJ+a/N/mxzCIjBUAwh4ul4CTjv4D7UYTNevG/vKPNfUzBAkCIUW8vZH7fPyVkEFkOsPG/aZ7cdUDx0r94EhalaJ/Bv2xb3CKmsO+/fFyqSPQo9L/1MDUxsvrAP7QSVrkDLcS/satck8q13r+LFCY/TbKcPwwQCbKQ2QLA/qMcWKuK9r/SG6ZGQof5v8QBKTXxqNM/gBjxTnQ/779PleoUXVzwv9Ghq7WBrdy/vuwVZ1t65794LsBqgyegP2J6kVewws2/KcAaep8z67+ZqZJ59/Xvv9J6Kaz8su0/Ky0Ub9jQxr/y7qPvpO7oP3RN5rJyq6w/czcvZe1hAkAOymxQWHDUP5Qnm1ttMvK/E4HszVcr4r9/tb4xoXrrP/h1A3Vdme4/pJ+Cj1v8kT/apXwU6Ar7v4/I/VPkU9e/sQNgcraH4L/OuTv/gwbav3Y4ZNZJ/96/7YJmYcHh87/48LLJiefNP3EZW2NsNd+/+6jmD01/7b/7SHUJ/xD0vzHrau1JmN6/fIHx1p42tz8eBPWlXCPuv+BT/IKE+uK/US/42LSY/z+xbp4vPSnaP18Rzov7gOu/gOLJKOgv3L/sfwVqKQLLvwstC2eeufa/4HmrDq0v+b9zz4phiTDJv28kzt2stwBAX8yw/4v68b+KwllIbCPZvy+gThgwbdW/olBNwP2L8b+jFvnAmFvuv6iczp9Ndv+/v1kwC+G5CkACbGtoVQTBv6a8qdAGoIg/DjGKiPOQEEDY1W+MElbTv5ZtZmzDIcU/0guEH+kh1r+goTVqLxrDP6LYGY2t68w/I2EEDCyC8b+NgeF5JgrIv6ZUgF9amfI/DHYuF+eXAUB8SFr/4ybgP6TpFbc5kN6/trpXFDU1u793cOPiIAPMP44MQWWwYPS/PM5YhhnW0j+fwARo21ntvy+2Q64hnfY/8CBFX4nNxr8Osf9MYgnTv/ZNTDgrN9m/atvjb+jG8b9koO1ujbvrP6nQRGfCMPc/Sx6piFSj9r/eh3ay/nj0P8zBUOO2bNo/r4u+X+q27r+zwY9zImHavyY0A+PUYPi/7WQWNcs65L8iQoNaVj7wvzLYoYzxDAFA3tz8qNfLtb/o9WlGLqD9v1pUYmjcYQhAxuiYj5tcE0AqVx5AlRL0P1p1I1SP0eE/9rdVjwigwb/gEN3sjbL8v92APVh8bwZAV8dDST/wEkCLgptoCA4NQOAQxZw20vy/000+5z4smb8HvyVJWP74v1zNz31nPuW/QTiKrHoMAMCLb9xodvj+v6WK2AZiPgLAJuW0N/ig/b/fl0DHsB0GwEt3EXTyiwXATfwxdUDS4T8TurXD8H78v5p9fkPPKfe/5JvMV+tL4D8kM54K7jzwv+djSERHyP0/DqU/3yPF4D8wwFcYJIj7v5Tl5uxnyQdAHLwA/KrfBMD8LcbjS2Drv3ZANcwME/C/29SDWUyazz9rNGT+4NXZvxOr93vKIvy/++iemmbs+r+u3ZNs6cj3v4WDfa7QrN6/R5w7vTNK8r9l92dWZ7/Rv0/6Dtu0mgHA5s0WItZV+78mMSxPvi//v8ZZ9ZtKuwPAXKfeDRkR+r8IU8MEahcCwBpNSEyCTALA9Pp1H56W/7+DQc8ctCXQP57Yt0S9VgNA2M0wkfPJ9D9JBCNXMcn+v/X+lj0TOdM/c0o1DiSPBMA/1qBY213ov0rllr8v5Py/XKb/XA/Z+r+C95lTVjD3v7+tAWyGL+i/4hqIyvCB7L/qx9mL5rjUv6XoItFUAvi/fSdofdmc7L/N2JKqm1b1v2DvSgxFMgDAjfsP3to+CkCB0FnWyTT+v7OGG/iUw9a/nO+LifZ54r+nPYeuAAXYv9GYDAHxzP6/HyPWPOQyDkD45guU6XH5v+aab748Eg1AYv0TIebtAsAoDVd2boz0PyoFTLz5POY//kRblN9H1r+128dTBmGcP5hRbvt1mfe/Y7iZCcd7/b8SbR8UYHjbvyOnVFgwoALAqLeF4t8i/b869R9IGiQFwN/ODpBdgPW/sishmzhY27+yxrAFmlf6vxpjwadAi/G/Sl0xfLxp6b9lT80tfdPyP5TFHJGB6vq//Ct1ctgP4r/A5MXIz2r9v6Y8bIlsHf+/LJvGQep89786hcvd5jT3v5FUD6s3gvS/sJKA2Mxl9L/dgUzt4hH4v/53t2p5T/O/F5KFGl4t8b9sRjcHLDSrPwrxeguZp/+/2A/S48N09r9AACGczAICwNoLjHXak/y/N0ebvNTx/L9wzquvLW/+v0fhi6zbJgLAmB9PM/1U67873PH0YIIDwL0ACbtEd8a/uDeQxPDA9b83M3WrOzntv5cSQ01udAHAnZ6d+lCR9b/P812yXcP6vzqbGBVtBOA/ZABFw6Nboz8BD/x0LrT4v0PrA4iQs/a/RJu4PIXnAMDkCZmv62D+v5sT7ARctaE/MnqXeC5167/MKsSHL+kFQGdWAACSitk/RYIPixVf8D85JrSY6twJQA/E/t9gkds/3onylMdp478cG3nJeyIBQEgHdXpTsOM/gRY2y9IW8T/Da90ZFkzdP/Ktin7QkcS/XIkvS4qMw7+8nQqZv7v4P9uejuWDtPk/eir2sjk2+T8onzEjLnfHv90hQCgCleq/N2mMBpiX8L83EZnEq/T7P4CrshGKtuU/dWpZ3+e4C0AArBscmkTyP5e8nlDSlfw/FU4tzR0wsD+VPLx/5qSpv41nno2Iofo/a7CioPcP078OW5xJ5AHiv8NMS3uhuuI/T0dW0O0IsD8FyoFlXbgKQE/XhvKqIOa/0l09HR7b9L9CwOrJcdLEPxfQrXSdN+K/Uklur5mKDkCsf42Z3WTYvxcppBWhJfW/SSo99vUl079j+wQ6vFe5P7vngZ/9UuW/WaJr9NWQ+7/MzDfLzgPnP+xgNkKPNuc/ecLNkyLvrr+BZx2FESWyP8UDZWtLNby/Txx34evz+L8FxPxzMdOMv0RC5ADOPfk/Dw1A8630yD8QvSyIKf7Bvw85IU66feq/T1fYV1oP6b8stWlWNGL3v37871+yGdW/NFTGk/eo5b9b6RbU7fijv3FqO8hfOP0/ielWkAKh3r+Qi/iwSsPHP4+Qy/7DcOC/OJ0JqEwwpj/SH0121MTcv8+uOChiiem/H8gt0M+Z6798hKMmnvzTv/JMastDmcU/j0Wqv4k3tj/UE5g6YHn3P9X6bj4+JhBA1FlYv4wK178dEJsr36z0v7YKniKn59q/geXwNqC297/HVM2S+MACQMPBliSrzMi/6iFysGzI/D9hrd/V1W3Cv6AeJUt0leC/+KqDsmRC3b8K66nDNEDmv/pby9UUEBRAi1LZ0nG66b8nbg6f16/lv9qrWaaXcdq/Jq4Gc5DJvz8YthUcLQXhv9tc0L8slMi/p8T6zzj5pj95t7CKsJPSP8WrfkRmRQlAGe6E8Cmdyz+pApXn52Puv+FSjIxwJfC/gRWqtj5j4b/pkDs3j1jpv/pKpz5t0Mg/01DhCupLzr8kJMdMlibQP9wP1dhpevK/2NpM0bjr1r+MU7LlkLrkv4jp/ltilM2/wL5TBRBl+L+vYxUoqk7Nv9XHXjSa+BRAsr2YnbJt6L+P6LX2u3bqv7rU2Pu8dcW/jEwov8yJ7D9AIyiH0cbeP/b1+HKd1vW/Sh1FTlNa6r+6kF+lBjbqvworzqHJmfE/oBW5AGuH6z+VB0niU/Xwvw2t70wNyrw/Z2UtFv0ixD9mosnAy4D2v5tsuRh39+i/JCRi0s+9/b9HEcI0oAbZv3EoYdev/ee/lD8DyYDQ9r+9Z7jq9Cfqvz5mGvUUivK/wYENqIBj8r8ZJs4bFlrwv0LXJJsT9e2/1BMJPXEJ6b8mmj9PnzDwv9HLcxSxU/m/d/1LyueE4b9Cfj1eagHuP19Ahvb/4vO/2YUan5Rh678PiiCCdZHov2MiFDY4as+/vvmcdaf27j9xuPUVpzgCQND5RFkoiPQ/twGS7LKWxb/g1u+crvYBQEEECcZmeP8/4ryUPB5y3r/NlGI2Cp/ZP3Vjl+aRoAxA7WH0obDxuL+DSYKJ2dX8PwGLspplUwVAA/7ii++T/j+JLCl/iJQRQPkXSxsSiwZAjGBEzvQV1L+nLj3NbZzovy7TcygjHxNAsMha7VYHzj/e6K+ZQwjXv3+LYGi4HQNALc9Ay2bZ1T9CdndJ4szxP5cJtmNkCd8/ImUoMKlppz8niqKU7dHtP6KoXGJ0L7a/61GTCWpj+D+M/ZvJp1ziP+sgZamCRcm/xGVGLcWiDECuTgUfh9HqPxM1ka/0qOG/GBCEngSZEUAiBma+qUu1v7VIOjAEy6S/r+O2oqBDzz91O7ydohLSP52Y26GNpwJAGYYK2y4jCkCRHlD+ISkLQEIc9sKG29Y/6ThpU2GIBEClNW/Em9/2Px5QjVbhAvw/QAnJwPduzj9kLCZSkS3iP+p7IDvIYAxAb7DHEuGx3L+AiFklQkb8PysDDulaJvK/ee3hcPwy9T/boHmh7nvfv/pGXECSygxAD/nefIjtur8+nlaV0+/IP3AyW3iMW+0/zoEr4fgB9j932jLGpKcHQPGyDgtSLxJAFJiubUVI1L9cV1DL0NoBQAlUlNssfNO/OmuY4DQNAUA5HvkotInRP8z2tEvYEw1AePGq6fYNEECyKuLeVBLvP1Udb2ONzQJAZOXzLSEh7L9YtkaYQJXxP7zfgfMMCNO/TwEG6Tzj1j/yitJCWlz8P+fnkmXXAtG/HkZWAuKj2z88B85nLlbsPxv4ln2fIfc/0sikN693B0DQkHDOudLav5x5/uz0y/g/86m4RejCEkBS5l9JFp6tv1mbsrJ7zCg/BsnG4RAf8T+03ipCFODNv520L4mzTek/veFDOE++/j+lsdVLkOj6P0Nig6qsyOY/Ye3WLq/L3L/iDjnHMlADQI6e6mbgq42/2JBvQe0GBUBDGkguL1oKQDHdh+Hu39A/kHgX3AdQtr+L5hWd6svhv2ycr/qINd8/tzy6uZRz+b9oQnCoGvzSPz3Iud4Hf+a/tRaqo/X647/2IIdSIvPAP/FH+0qb7/O/EeQCK2NV479ktcwIVvbxv1K8BRdS3QDAb5KOSX6u8r+v2sIfBdb1P7SLzdjQsuy/eWXTOv5azD+xfXe9i9AQQLdAYtnNa7o/ennZMvnQ9b/qhNAA5TvTvw8LV4IgzOO/s9WLOyjDqL/Rb/3zd57+PwIYKTfrgeW/s93vQwPt/b/2w7SHnTe/P8nnk/uJ9wlACqZEcoHH3j9nQY5AjAW4v2u4yYNf/AlA3wvqVROs9r8cO4bVkWD2v8Ml6vOPV/C//PnGfmsD7L9J3gsJTQrmv97gZ7k+7e2/Lw0R+FU38L9ln5CvtZbYP1fhY6wrDAHA905rlHnQ+L8PzMDI0ja2vxSXja3oMO2/iKNWL+tf7T+iFW5EGVvoP4R8rfy9GOc/f2MC8me38z92ZUTnHgD2vy6yxuW2BeY/GCTItoj567/9OT+CHLb1P4zDfyl9JPO/pyhi13JL1T9ZibbpmtkDQCD2LN8KM/g/92Ilr1Mtwr9hcs/241IOQE9HhUcn89E/E6abml+B+L8yAJbMbOMBQIOjq0apv9g/J574vpjb2b8oydigXPvav0MUNhexkvW/GqMvFGFO+r9FU/a5wL3xv+efeO9FihNAmW5zAAAe8r8zonqEcRHxv8AdYoAeH/i/aT2qXMrg8b/u2UBsYF3evwlG+BnapL2/LGN4r1hN8b+p6RvduyXUvxgDbfijc/O/oVgelsu37T8LDGFnaF4DQFHPyZ4Wl9q/rfxy31wK2z8/H+eCRTvsvz3HcrFzX5q/p1sjrQcq3D+l+M9eYff6v6fF1obowe2/xUUzV94Q/r/lV6GnfYinPz3LD5VCm9u/L5Dhlibh+r/7zN4otjDPv+xRQzC2Yeq/8lq4jKwd8L+dGWSHggPhv8L3WraJ3ty/zypNGx8+7b9zUjOPhO3/v2XonKNLFeW/PNSbdpico7+ZFO1lm2f4v+z1Dr8u3QDAG8jfjHqw9b+rrzorGEj6P0jb8ciNR/S/p5OlGrxr2D+E6iZGbmfDv8G3fS+myOe//72QJzs7+L+fhEa5qYVFP+VxVLXCtPi/JIaS2ZfI7b/ahhdKUvTov1QZ69+Ql+k/BvPvVRi02L8ag6oom6H2P0Av/k8OJt+/JhEnXe1U8r+B+KO6V5f/v8Cz363aP+S/Ra9URMrN0b9Npvca/Dfxvyk6BGqBG/O/tQa7PAOK+r/TVWHfgMfrv16J0xnaTP6/ezj16Ftt4L8LbuYt4nX7v187pIPn3Pm//vziJQ2587+5O43wr+n3v/YNbU7Nxfu/Ld+4qSFM4r/C8qM7oHDzv0JmXlxFzu8/pg8fpeoK9r9UBT9GkgARQI8+yTIFEADAOha5XWJ13L+J7SjReL/Tv/MqwENc8Pu/t1ZLGfYS7L+IFeNArYHlv2+Xmi96RuO/C+qa+sb98b+Paa5oZQ7xvyp3QjO/GZA/Fjwm+aRC+78B8wFeTbzhv/ukJqK3eNm/ERgyfz0y87+6AcQG5of+v8mfELBo8fu/dlWuw9Ms3r+9xlsuTHnxv1G+T3L7Seq/B4I0jRUq5T+ePlfwDyr0v6zZ9CPumsg//6g1Jbhy/L8UAZI5be/8vwfMsy8Ki/C/KNTkzIVG+79TMGqsB+j4v6KKTFKf5PC/cjy2FKHHAMBR5jreuKvivyhBcT8x5PK/DaMQKDo4+L/SQJCXMvUEwCgjyzrGF/S/aiqIxsCu+b/aTvylm14AwDY8D0Y08wLANrRXFi7S9b/OJeUOgbD8vwoDc1Dsavq/xm5SmyOp8r/UCRtdpvUAwHuAshvrvvG/az91CFyv/r9nbrak+Qv/v6gcv2FvL/u/3GiI0rd79j8rzHboWkQBwAHxgKWTKgHAEe+tyeb7jL97dMIhIj4DwJCU2GO7df6/hu+bwgMq9b8yMYPdaO//v9wtW6/P+PK/ANl6ZoDj/L9m/hY71oD4v8rivKFAcQPA2JBEd8zk9L8LPUliyon/v9/k1OIwX/y/s79ksDTx4r+6nXJgSQj2v64kvEPyfgLA6yCYLpgX+L/b2+sewkryv7rSpWDELvi/bVio4Ad09b9xCk/s1cn+vzK68fyOi/m/",
          "dtype": "f8"
         },
         "xaxis": "x",
         "y": {
          "bdata": "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",
          "dtype": "f8"
         },
         "yaxis": "y"
        },
        {
         "hovertemplate": "color=1<br>PC1=%{x}<br>PC2=%{y}<extra></extra>",
         "legendgroup": "1",
         "marker": {
          "color": "#EF553B",
          "symbol": "circle"
         },
         "mode": "markers",
         "name": "1",
         "showlegend": true,
         "type": "scattergl",
         "x": {
          "bdata": "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",
          "dtype": "f8"
         },
         "xaxis": "x",
         "y": {
          "bdata": "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",
          "dtype": "f8"
         },
         "yaxis": "y"
        }
       ],
       "layout": {
        "legend": {
         "title": {
          "text": "color"
         },
         "tracegroupgap": 0
        },
        "margin": {
         "t": 60
        },
        "template": {
         "data": {
          "bar": [
           {
            "error_x": {
             "color": "#2a3f5f"
            },
            "error_y": {
             "color": "#2a3f5f"
            },
            "marker": {
             "line": {
              "color": "#E5ECF6",
              "width": 0.5
             },
             "pattern": {
              "fillmode": "overlay",
              "size": 10,
              "solidity": 0.2
             }
            },
            "type": "bar"
           }
          ],
          "barpolar": [
           {
            "marker": {
             "line": {
              "color": "#E5ECF6",
              "width": 0.5
             },
             "pattern": {
              "fillmode": "overlay",
              "size": 10,
              "solidity": 0.2
             }
            },
            "type": "barpolar"
           }
          ],
          "carpet": [
           {
            "aaxis": {
             "endlinecolor": "#2a3f5f",
             "gridcolor": "white",
             "linecolor": "white",
             "minorgridcolor": "white",
             "startlinecolor": "#2a3f5f"
            },
            "baxis": {
             "endlinecolor": "#2a3f5f",
             "gridcolor": "white",
             "linecolor": "white",
             "minorgridcolor": "white",
             "startlinecolor": "#2a3f5f"
            },
            "type": "carpet"
           }
          ],
          "choropleth": [
           {
            "colorbar": {
             "outlinewidth": 0,
             "ticks": ""
            },
            "type": "choropleth"
           }
          ],
          "contour": [
           {
            "colorbar": {
             "outlinewidth": 0,
             "ticks": ""
            },
            "colorscale": [
             [
              0,
              "#0d0887"
             ],
             [
              0.1111111111111111,
              "#46039f"
             ],
             [
              0.2222222222222222,
              "#7201a8"
             ],
             [
              0.3333333333333333,
              "#9c179e"
             ],
             [
              0.4444444444444444,
              "#bd3786"
             ],
             [
              0.5555555555555556,
              "#d8576b"
             ],
             [
              0.6666666666666666,
              "#ed7953"
             ],
             [
              0.7777777777777778,
              "#fb9f3a"
             ],
             [
              0.8888888888888888,
              "#fdca26"
             ],
             [
              1,
              "#f0f921"
             ]
            ],
            "type": "contour"
           }
          ],
          "contourcarpet": [
           {
            "colorbar": {
             "outlinewidth": 0,
             "ticks": ""
            },
            "type": "contourcarpet"
           }
          ],
          "heatmap": [
           {
            "colorbar": {
             "outlinewidth": 0,
             "ticks": ""
            },
            "colorscale": [
             [
              0,
              "#0d0887"
             ],
             [
              0.1111111111111111,
              "#46039f"
             ],
             [
              0.2222222222222222,
              "#7201a8"
             ],
             [
              0.3333333333333333,
              "#9c179e"
             ],
             [
              0.4444444444444444,
              "#bd3786"
             ],
             [
              0.5555555555555556,
              "#d8576b"
             ],
             [
              0.6666666666666666,
              "#ed7953"
             ],
             [
              0.7777777777777778,
              "#fb9f3a"
             ],
             [
              0.8888888888888888,
              "#fdca26"
             ],
             [
              1,
              "#f0f921"
             ]
            ],
            "type": "heatmap"
           }
          ],
          "histogram": [
           {
            "marker": {
             "pattern": {
              "fillmode": "overlay",
              "size": 10,
              "solidity": 0.2
             }
            },
            "type": "histogram"
           }
          ],
          "histogram2d": [
           {
            "colorbar": {
             "outlinewidth": 0,
             "ticks": ""
            },
            "colorscale": [
             [
              0,
              "#0d0887"
             ],
             [
              0.1111111111111111,
              "#46039f"
             ],
             [
              0.2222222222222222,
              "#7201a8"
             ],
             [
              0.3333333333333333,
              "#9c179e"
             ],
             [
              0.4444444444444444,
              "#bd3786"
             ],
             [
              0.5555555555555556,
              "#d8576b"
             ],
             [
              0.6666666666666666,
              "#ed7953"
             ],
             [
              0.7777777777777778,
              "#fb9f3a"
             ],
             [
              0.8888888888888888,
              "#fdca26"
             ],
             [
              1,
              "#f0f921"
             ]
            ],
            "type": "histogram2d"
           }
          ],
          "histogram2dcontour": [
           {
            "colorbar": {
             "outlinewidth": 0,
             "ticks": ""
            },
            "colorscale": [
             [
              0,
              "#0d0887"
             ],
             [
              0.1111111111111111,
              "#46039f"
             ],
             [
              0.2222222222222222,
              "#7201a8"
             ],
             [
              0.3333333333333333,
              "#9c179e"
             ],
             [
              0.4444444444444444,
              "#bd3786"
             ],
             [
              0.5555555555555556,
              "#d8576b"
             ],
             [
              0.6666666666666666,
              "#ed7953"
             ],
             [
              0.7777777777777778,
              "#fb9f3a"
             ],
             [
              0.8888888888888888,
              "#fdca26"
             ],
             [
              1,
              "#f0f921"
             ]
            ],
            "type": "histogram2dcontour"
           }
          ],
          "mesh3d": [
           {
            "colorbar": {
             "outlinewidth": 0,
             "ticks": ""
            },
            "type": "mesh3d"
           }
          ],
          "parcoords": [
           {
            "line": {
             "colorbar": {
              "outlinewidth": 0,
              "ticks": ""
             }
            },
            "type": "parcoords"
           }
          ],
          "pie": [
           {
            "automargin": true,
            "type": "pie"
           }
          ],
          "scatter": [
           {
            "fillpattern": {
             "fillmode": "overlay",
             "size": 10,
             "solidity": 0.2
            },
            "type": "scatter"
           }
          ],
          "scatter3d": [
           {
            "line": {
             "colorbar": {
              "outlinewidth": 0,
              "ticks": ""
             }
            },
            "marker": {
             "colorbar": {
              "outlinewidth": 0,
              "ticks": ""
             }
            },
            "type": "scatter3d"
           }
          ],
          "scattercarpet": [
           {
            "marker": {
             "colorbar": {
              "outlinewidth": 0,
              "ticks": ""
             }
            },
            "type": "scattercarpet"
           }
          ],
          "scattergeo": [
           {
            "marker": {
             "colorbar": {
              "outlinewidth": 0,
              "ticks": ""
             }
            },
            "type": "scattergeo"
           }
          ],
          "scattergl": [
           {
            "marker": {
             "colorbar": {
              "outlinewidth": 0,
              "ticks": ""
             }
            },
            "type": "scattergl"
           }
          ],
          "scattermap": [
           {
            "marker": {
             "colorbar": {
              "outlinewidth": 0,
              "ticks": ""
             }
            },
            "type": "scattermap"
           }
          ],
          "scattermapbox": [
           {
            "marker": {
             "colorbar": {
              "outlinewidth": 0,
              "ticks": ""
             }
            },
            "type": "scattermapbox"
           }
          ],
          "scatterpolar": [
           {
            "marker": {
             "colorbar": {
              "outlinewidth": 0,
              "ticks": ""
             }
            },
            "type": "scatterpolar"
           }
          ],
          "scatterpolargl": [
           {
            "marker": {
             "colorbar": {
              "outlinewidth": 0,
              "ticks": ""
             }
            },
            "type": "scatterpolargl"
           }
          ],
          "scatterternary": [
           {
            "marker": {
             "colorbar": {
              "outlinewidth": 0,
              "ticks": ""
             }
            },
            "type": "scatterternary"
           }
          ],
          "surface": [
           {
            "colorbar": {
             "outlinewidth": 0,
             "ticks": ""
            },
            "colorscale": [
             [
              0,
              "#0d0887"
             ],
             [
              0.1111111111111111,
              "#46039f"
             ],
             [
              0.2222222222222222,
              "#7201a8"
             ],
             [
              0.3333333333333333,
              "#9c179e"
             ],
             [
              0.4444444444444444,
              "#bd3786"
             ],
             [
              0.5555555555555556,
              "#d8576b"
             ],
             [
              0.6666666666666666,
              "#ed7953"
             ],
             [
              0.7777777777777778,
              "#fb9f3a"
             ],
             [
              0.8888888888888888,
              "#fdca26"
             ],
             [
              1,
              "#f0f921"
             ]
            ],
            "type": "surface"
           }
          ],
          "table": [
           {
            "cells": {
             "fill": {
              "color": "#EBF0F8"
             },
             "line": {
              "color": "white"
             }
            },
            "header": {
             "fill": {
              "color": "#C8D4E3"
             },
             "line": {
              "color": "white"
             }
            },
            "type": "table"
           }
          ]
         },
         "layout": {
          "annotationdefaults": {
           "arrowcolor": "#2a3f5f",
           "arrowhead": 0,
           "arrowwidth": 1
          },
          "autotypenumbers": "strict",
          "coloraxis": {
           "colorbar": {
            "outlinewidth": 0,
            "ticks": ""
           }
          },
          "colorscale": {
           "diverging": [
            [
             0,
             "#8e0152"
            ],
            [
             0.1,
             "#c51b7d"
            ],
            [
             0.2,
             "#de77ae"
            ],
            [
             0.3,
             "#f1b6da"
            ],
            [
             0.4,
             "#fde0ef"
            ],
            [
             0.5,
             "#f7f7f7"
            ],
            [
             0.6,
             "#e6f5d0"
            ],
            [
             0.7,
             "#b8e186"
            ],
            [
             0.8,
             "#7fbc41"
            ],
            [
             0.9,
             "#4d9221"
            ],
            [
             1,
             "#276419"
            ]
           ],
           "sequential": [
            [
             0,
             "#0d0887"
            ],
            [
             0.1111111111111111,
             "#46039f"
            ],
            [
             0.2222222222222222,
             "#7201a8"
            ],
            [
             0.3333333333333333,
             "#9c179e"
            ],
            [
             0.4444444444444444,
             "#bd3786"
            ],
            [
             0.5555555555555556,
             "#d8576b"
            ],
            [
             0.6666666666666666,
             "#ed7953"
            ],
            [
             0.7777777777777778,
             "#fb9f3a"
            ],
            [
             0.8888888888888888,
             "#fdca26"
            ],
            [
             1,
             "#f0f921"
            ]
           ],
           "sequentialminus": [
            [
             0,
             "#0d0887"
            ],
            [
             0.1111111111111111,
             "#46039f"
            ],
            [
             0.2222222222222222,
             "#7201a8"
            ],
            [
             0.3333333333333333,
             "#9c179e"
            ],
            [
             0.4444444444444444,
             "#bd3786"
            ],
            [
             0.5555555555555556,
             "#d8576b"
            ],
            [
             0.6666666666666666,
             "#ed7953"
            ],
            [
             0.7777777777777778,
             "#fb9f3a"
            ],
            [
             0.8888888888888888,
             "#fdca26"
            ],
            [
             1,
             "#f0f921"
            ]
           ]
          },
          "colorway": [
           "#636efa",
           "#EF553B",
           "#00cc96",
           "#ab63fa",
           "#FFA15A",
           "#19d3f3",
           "#FF6692",
           "#B6E880",
           "#FF97FF",
           "#FECB52"
          ],
          "font": {
           "color": "#2a3f5f"
          },
          "geo": {
           "bgcolor": "white",
           "lakecolor": "white",
           "landcolor": "#E5ECF6",
           "showlakes": true,
           "showland": true,
           "subunitcolor": "white"
          },
          "hoverlabel": {
           "align": "left"
          },
          "hovermode": "closest",
          "mapbox": {
           "style": "light"
          },
          "paper_bgcolor": "white",
          "plot_bgcolor": "#E5ECF6",
          "polar": {
           "angularaxis": {
            "gridcolor": "white",
            "linecolor": "white",
            "ticks": ""
           },
           "bgcolor": "#E5ECF6",
           "radialaxis": {
            "gridcolor": "white",
            "linecolor": "white",
            "ticks": ""
           }
          },
          "scene": {
           "xaxis": {
            "backgroundcolor": "#E5ECF6",
            "gridcolor": "white",
            "gridwidth": 2,
            "linecolor": "white",
            "showbackground": true,
            "ticks": "",
            "zerolinecolor": "white"
           },
           "yaxis": {
            "backgroundcolor": "#E5ECF6",
            "gridcolor": "white",
            "gridwidth": 2,
            "linecolor": "white",
            "showbackground": true,
            "ticks": "",
            "zerolinecolor": "white"
           },
           "zaxis": {
            "backgroundcolor": "#E5ECF6",
            "gridcolor": "white",
            "gridwidth": 2,
            "linecolor": "white",
            "showbackground": true,
            "ticks": "",
            "zerolinecolor": "white"
           }
          },
          "shapedefaults": {
           "line": {
            "color": "#2a3f5f"
           }
          },
          "ternary": {
           "aaxis": {
            "gridcolor": "white",
            "linecolor": "white",
            "ticks": ""
           },
           "baxis": {
            "gridcolor": "white",
            "linecolor": "white",
            "ticks": ""
           },
           "bgcolor": "#E5ECF6",
           "caxis": {
            "gridcolor": "white",
            "linecolor": "white",
            "ticks": ""
           }
          },
          "title": {
           "x": 0.05
          },
          "xaxis": {
           "automargin": true,
           "gridcolor": "white",
           "linecolor": "white",
           "ticks": "",
           "title": {
            "standoff": 15
           },
           "zerolinecolor": "white",
           "zerolinewidth": 2
          },
          "yaxis": {
           "automargin": true,
           "gridcolor": "white",
           "linecolor": "white",
           "ticks": "",
           "title": {
            "standoff": 15
           },
           "zerolinecolor": "white",
           "zerolinewidth": 2
          }
         }
        },
        "xaxis": {
         "anchor": "y",
         "domain": [
          0,
          1
         ],
         "title": {
          "text": "PC1"
         }
        },
        "yaxis": {
         "anchor": "x",
         "domain": [
          0,
          1
         ],
         "title": {
          "text": "PC2"
         }
        }
       }
      }
     },
     "metadata": {},
     "output_type": "display_data"
    }
   ],
   "source": [
    "# Plot the PCA\n",
    "px.scatter(\n",
    "    data_frame = voice_pca,\n",
    "    x = \"PC1\",\n",
    "    y = \"PC2\",\n",
    "    color = final_model.named_steps[\"kmeans\"].labels_.astype(str)\n",
    ")"
   ]
  },
  {
   "cell_type": "code",
   "execution_count": 33,
   "id": "5cd60a72",
   "metadata": {},
   "outputs": [
    {
     "data": {
      "application/vnd.microsoft.datawrangler.viewer.v0+json": {
       "columns": [
        {
         "name": "index",
         "rawType": "int32",
         "type": "integer"
        },
        {
         "name": "Jitter:PPQ5",
         "rawType": "float64",
         "type": "float"
        },
        {
         "name": "Jitter(%)",
         "rawType": "float64",
         "type": "float"
        },
        {
         "name": "Jitter:DDP",
         "rawType": "float64",
         "type": "float"
        },
        {
         "name": "Shimmer",
         "rawType": "float64",
         "type": "float"
        },
        {
         "name": "Shimmer:DDA",
         "rawType": "float64",
         "type": "float"
        },
        {
         "name": "NHR",
         "rawType": "float64",
         "type": "float"
        },
        {
         "name": "PPE",
         "rawType": "float64",
         "type": "float"
        },
        {
         "name": "Shimmer(dB)",
         "rawType": "float64",
         "type": "float"
        },
        {
         "name": "HNR",
         "rawType": "float64",
         "type": "float"
        }
       ],
       "ref": "3257d17f-aee5-492e-b45a-ab3c7fdc674c",
       "rows": [
        [
         "0",
         "0.0027903623570800355",
         "0.005444427440633245",
         "0.007800561125769569",
         "0.03064577132805629",
         "0.046528262093227794",
         "0.023506019173262973",
         "0.2120568948109059",
         "0.28081741424802115",
         "22.09704467897977"
        ],
        [
         "1",
         "0.017833105263157893",
         "0.027377789473684213",
         "0.04370347368421053",
         "0.13545100000000002",
         "0.1992374210526316",
         "0.2898537315789474",
         "0.4449630526315789",
         "1.2128578947368422",
         "9.185973684210527"
        ]
       ],
       "shape": {
        "columns": 9,
        "rows": 2
       }
      },
      "text/html": [
       "<div>\n",
       "<style scoped>\n",
       "    .dataframe tbody tr th:only-of-type {\n",
       "        vertical-align: middle;\n",
       "    }\n",
       "\n",
       "    .dataframe tbody tr th {\n",
       "        vertical-align: top;\n",
       "    }\n",
       "\n",
       "    .dataframe thead th {\n",
       "        text-align: right;\n",
       "    }\n",
       "</style>\n",
       "<table border=\"1\" class=\"dataframe\">\n",
       "  <thead>\n",
       "    <tr style=\"text-align: right;\">\n",
       "      <th></th>\n",
       "      <th>Jitter:PPQ5</th>\n",
       "      <th>Jitter(%)</th>\n",
       "      <th>Jitter:DDP</th>\n",
       "      <th>Shimmer</th>\n",
       "      <th>Shimmer:DDA</th>\n",
       "      <th>NHR</th>\n",
       "      <th>PPE</th>\n",
       "      <th>Shimmer(dB)</th>\n",
       "      <th>HNR</th>\n",
       "    </tr>\n",
       "  </thead>\n",
       "  <tbody>\n",
       "    <tr>\n",
       "      <th>0</th>\n",
       "      <td>0.002790</td>\n",
       "      <td>0.005444</td>\n",
       "      <td>0.007801</td>\n",
       "      <td>0.030646</td>\n",
       "      <td>0.046528</td>\n",
       "      <td>0.023506</td>\n",
       "      <td>0.212057</td>\n",
       "      <td>0.280817</td>\n",
       "      <td>22.097045</td>\n",
       "    </tr>\n",
       "    <tr>\n",
       "      <th>1</th>\n",
       "      <td>0.017833</td>\n",
       "      <td>0.027378</td>\n",
       "      <td>0.043703</td>\n",
       "      <td>0.135451</td>\n",
       "      <td>0.199237</td>\n",
       "      <td>0.289854</td>\n",
       "      <td>0.444963</td>\n",
       "      <td>1.212858</td>\n",
       "      <td>9.185974</td>\n",
       "    </tr>\n",
       "  </tbody>\n",
       "</table>\n",
       "</div>"
      ],
      "text/plain": [
       "   Jitter:PPQ5  Jitter(%)  Jitter:DDP   Shimmer  Shimmer:DDA       NHR  \\\n",
       "0     0.002790   0.005444    0.007801  0.030646     0.046528  0.023506   \n",
       "1     0.017833   0.027378    0.043703  0.135451     0.199237  0.289854   \n",
       "\n",
       "        PPE  Shimmer(dB)        HNR  \n",
       "0  0.212057     0.280817  22.097045  \n",
       "1  0.444963     1.212858   9.185974  "
      ]
     },
     "execution_count": 33,
     "metadata": {},
     "output_type": "execute_result"
    }
   ],
   "source": [
    "# Put clustered data into dataframe\n",
    "xgb = X.groupby(final_model.named_steps[\"kmeans\"].labels_).mean()\n",
    "xgb"
   ]
  },
  {
   "cell_type": "code",
   "execution_count": 34,
   "id": "0b62be91",
   "metadata": {},
   "outputs": [
    {
     "data": {
      "application/vnd.plotly.v1+json": {
       "config": {
        "plotlyServerURL": "https://plot.ly"
       },
       "data": [
        {
         "alignmentgroup": "True",
         "hovertemplate": "variable=Jitter:PPQ5<br>index=%{x}<br>value=%{y}<extra></extra>",
         "legendgroup": "Jitter:PPQ5",
         "marker": {
          "color": "#636efa",
          "pattern": {
           "shape": ""
          }
         },
         "name": "Jitter:PPQ5",
         "offsetgroup": "Jitter:PPQ5",
         "orientation": "v",
         "showlegend": true,
         "textposition": "auto",
         "type": "bar",
         "x": {
          "bdata": "AAAAAAEAAAA=",
          "dtype": "i4"
         },
         "xaxis": "x",
         "y": {
          "bdata": "nSwqYtDbZj8uyJBv10KSPw==",
          "dtype": "f8"
         },
         "yaxis": "y"
        },
        {
         "alignmentgroup": "True",
         "hovertemplate": "variable=Jitter(%)<br>index=%{x}<br>value=%{y}<extra></extra>",
         "legendgroup": "Jitter(%)",
         "marker": {
          "color": "#EF553B",
          "pattern": {
           "shape": ""
          }
         },
         "name": "Jitter(%)",
         "offsetgroup": "Jitter(%)",
         "orientation": "v",
         "showlegend": true,
         "textposition": "auto",
         "type": "bar",
         "x": {
          "bdata": "AAAAAAEAAAA=",
          "dtype": "i4"
         },
         "xaxis": "x",
         "y": {
          "bdata": "lvHYXOVMdj8HerRZ7AicPw==",
          "dtype": "f8"
         },
         "yaxis": "y"
        },
        {
         "alignmentgroup": "True",
         "hovertemplate": "variable=Jitter:DDP<br>index=%{x}<br>value=%{y}<extra></extra>",
         "legendgroup": "Jitter:DDP",
         "marker": {
          "color": "#00cc96",
          "pattern": {
           "shape": ""
          }
         },
         "name": "Jitter:DDP",
         "offsetgroup": "Jitter:DDP",
         "orientation": "v",
         "showlegend": true,
         "textposition": "auto",
         "type": "bar",
         "x": {
          "bdata": "AAAAAAEAAAA=",
          "dtype": "i4"
         },
         "xaxis": "x",
         "y": {
          "bdata": "nGDPLnvzfz/a+2M8TWCmPw==",
          "dtype": "f8"
         },
         "yaxis": "y"
        },
        {
         "alignmentgroup": "True",
         "hovertemplate": "variable=Shimmer<br>index=%{x}<br>value=%{y}<extra></extra>",
         "legendgroup": "Shimmer",
         "marker": {
          "color": "#ab63fa",
          "pattern": {
           "shape": ""
          }
         },
         "name": "Shimmer",
         "offsetgroup": "Shimmer",
         "orientation": "v",
         "showlegend": true,
         "textposition": "auto",
         "type": "bar",
         "x": {
          "bdata": "AAAAAAEAAAA=",
          "dtype": "i4"
         },
         "xaxis": "x",
         "y": {
          "bdata": "73J15pphnz+J8ZpXdVbBPw==",
          "dtype": "f8"
         },
         "yaxis": "y"
        },
        {
         "alignmentgroup": "True",
         "hovertemplate": "variable=Shimmer:DDA<br>index=%{x}<br>value=%{y}<extra></extra>",
         "legendgroup": "Shimmer:DDA",
         "marker": {
          "color": "#FFA15A",
          "pattern": {
           "shape": ""
          }
         },
         "name": "Shimmer:DDA",
         "offsetgroup": "Shimmer:DDA",
         "orientation": "v",
         "showlegend": true,
         "textposition": "auto",
         "type": "bar",
         "x": {
          "bdata": "AAAAAAEAAAA=",
          "dtype": "i4"
         },
         "xaxis": "x",
         "y": {
          "bdata": "L20PaI3Spz9SvMefnIDJPw==",
          "dtype": "f8"
         },
         "yaxis": "y"
        },
        {
         "alignmentgroup": "True",
         "hovertemplate": "variable=NHR<br>index=%{x}<br>value=%{y}<extra></extra>",
         "legendgroup": "NHR",
         "marker": {
          "color": "#19d3f3",
          "pattern": {
           "shape": ""
          }
         },
         "name": "NHR",
         "offsetgroup": "NHR",
         "orientation": "v",
         "showlegend": true,
         "textposition": "auto",
         "type": "bar",
         "x": {
          "bdata": "AAAAAAEAAAA=",
          "dtype": "i4"
         },
         "xaxis": "x",
         "y": {
          "bdata": "t+luPvYRmD89VHCq9ozSPw==",
          "dtype": "f8"
         },
         "yaxis": "y"
        },
        {
         "alignmentgroup": "True",
         "hovertemplate": "variable=PPE<br>index=%{x}<br>value=%{y}<extra></extra>",
         "legendgroup": "PPE",
         "marker": {
          "color": "#FF6692",
          "pattern": {
           "shape": ""
          }
         },
         "name": "PPE",
         "offsetgroup": "PPE",
         "orientation": "v",
         "showlegend": true,
         "textposition": "auto",
         "type": "bar",
         "x": {
          "bdata": "AAAAAAEAAAA=",
          "dtype": "i4"
         },
         "xaxis": "x",
         "y": {
          "bdata": "4lQNKq4kyz8FyL5PRnrcPw==",
          "dtype": "f8"
         },
         "yaxis": "y"
        },
        {
         "alignmentgroup": "True",
         "hovertemplate": "variable=Shimmer(dB)<br>index=%{x}<br>value=%{y}<extra></extra>",
         "legendgroup": "Shimmer(dB)",
         "marker": {
          "color": "#B6E880",
          "pattern": {
           "shape": ""
          }
         },
         "name": "Shimmer(dB)",
         "offsetgroup": "Shimmer(dB)",
         "orientation": "v",
         "showlegend": true,
         "textposition": "auto",
         "type": "bar",
         "x": {
          "bdata": "AAAAAAEAAAA=",
          "dtype": "i4"
         },
         "xaxis": "x",
         "y": {
          "bdata": "GeyVmun40T8/cQmu3WfzPw==",
          "dtype": "f8"
         },
         "yaxis": "y"
        },
        {
         "alignmentgroup": "True",
         "hovertemplate": "variable=HNR<br>index=%{x}<br>value=%{y}<extra></extra>",
         "legendgroup": "HNR",
         "marker": {
          "color": "#FF97FF",
          "pattern": {
           "shape": ""
          }
         },
         "name": "HNR",
         "offsetgroup": "HNR",
         "orientation": "v",
         "showlegend": true,
         "textposition": "auto",
         "type": "bar",
         "x": {
          "bdata": "AAAAAAEAAAA=",
          "dtype": "i4"
         },
         "xaxis": "x",
         "y": {
          "bdata": "DHiK69cYNkCiM1fxN18iQA==",
          "dtype": "f8"
         },
         "yaxis": "y"
        }
       ],
       "layout": {
        "barmode": "group",
        "legend": {
         "title": {
          "text": "variable"
         },
         "tracegroupgap": 0
        },
        "margin": {
         "t": 60
        },
        "template": {
         "data": {
          "bar": [
           {
            "error_x": {
             "color": "#2a3f5f"
            },
            "error_y": {
             "color": "#2a3f5f"
            },
            "marker": {
             "line": {
              "color": "#E5ECF6",
              "width": 0.5
             },
             "pattern": {
              "fillmode": "overlay",
              "size": 10,
              "solidity": 0.2
             }
            },
            "type": "bar"
           }
          ],
          "barpolar": [
           {
            "marker": {
             "line": {
              "color": "#E5ECF6",
              "width": 0.5
             },
             "pattern": {
              "fillmode": "overlay",
              "size": 10,
              "solidity": 0.2
             }
            },
            "type": "barpolar"
           }
          ],
          "carpet": [
           {
            "aaxis": {
             "endlinecolor": "#2a3f5f",
             "gridcolor": "white",
             "linecolor": "white",
             "minorgridcolor": "white",
             "startlinecolor": "#2a3f5f"
            },
            "baxis": {
             "endlinecolor": "#2a3f5f",
             "gridcolor": "white",
             "linecolor": "white",
             "minorgridcolor": "white",
             "startlinecolor": "#2a3f5f"
            },
            "type": "carpet"
           }
          ],
          "choropleth": [
           {
            "colorbar": {
             "outlinewidth": 0,
             "ticks": ""
            },
            "type": "choropleth"
           }
          ],
          "contour": [
           {
            "colorbar": {
             "outlinewidth": 0,
             "ticks": ""
            },
            "colorscale": [
             [
              0,
              "#0d0887"
             ],
             [
              0.1111111111111111,
              "#46039f"
             ],
             [
              0.2222222222222222,
              "#7201a8"
             ],
             [
              0.3333333333333333,
              "#9c179e"
             ],
             [
              0.4444444444444444,
              "#bd3786"
             ],
             [
              0.5555555555555556,
              "#d8576b"
             ],
             [
              0.6666666666666666,
              "#ed7953"
             ],
             [
              0.7777777777777778,
              "#fb9f3a"
             ],
             [
              0.8888888888888888,
              "#fdca26"
             ],
             [
              1,
              "#f0f921"
             ]
            ],
            "type": "contour"
           }
          ],
          "contourcarpet": [
           {
            "colorbar": {
             "outlinewidth": 0,
             "ticks": ""
            },
            "type": "contourcarpet"
           }
          ],
          "heatmap": [
           {
            "colorbar": {
             "outlinewidth": 0,
             "ticks": ""
            },
            "colorscale": [
             [
              0,
              "#0d0887"
             ],
             [
              0.1111111111111111,
              "#46039f"
             ],
             [
              0.2222222222222222,
              "#7201a8"
             ],
             [
              0.3333333333333333,
              "#9c179e"
             ],
             [
              0.4444444444444444,
              "#bd3786"
             ],
             [
              0.5555555555555556,
              "#d8576b"
             ],
             [
              0.6666666666666666,
              "#ed7953"
             ],
             [
              0.7777777777777778,
              "#fb9f3a"
             ],
             [
              0.8888888888888888,
              "#fdca26"
             ],
             [
              1,
              "#f0f921"
             ]
            ],
            "type": "heatmap"
           }
          ],
          "histogram": [
           {
            "marker": {
             "pattern": {
              "fillmode": "overlay",
              "size": 10,
              "solidity": 0.2
             }
            },
            "type": "histogram"
           }
          ],
          "histogram2d": [
           {
            "colorbar": {
             "outlinewidth": 0,
             "ticks": ""
            },
            "colorscale": [
             [
              0,
              "#0d0887"
             ],
             [
              0.1111111111111111,
              "#46039f"
             ],
             [
              0.2222222222222222,
              "#7201a8"
             ],
             [
              0.3333333333333333,
              "#9c179e"
             ],
             [
              0.4444444444444444,
              "#bd3786"
             ],
             [
              0.5555555555555556,
              "#d8576b"
             ],
             [
              0.6666666666666666,
              "#ed7953"
             ],
             [
              0.7777777777777778,
              "#fb9f3a"
             ],
             [
              0.8888888888888888,
              "#fdca26"
             ],
             [
              1,
              "#f0f921"
             ]
            ],
            "type": "histogram2d"
           }
          ],
          "histogram2dcontour": [
           {
            "colorbar": {
             "outlinewidth": 0,
             "ticks": ""
            },
            "colorscale": [
             [
              0,
              "#0d0887"
             ],
             [
              0.1111111111111111,
              "#46039f"
             ],
             [
              0.2222222222222222,
              "#7201a8"
             ],
             [
              0.3333333333333333,
              "#9c179e"
             ],
             [
              0.4444444444444444,
              "#bd3786"
             ],
             [
              0.5555555555555556,
              "#d8576b"
             ],
             [
              0.6666666666666666,
              "#ed7953"
             ],
             [
              0.7777777777777778,
              "#fb9f3a"
             ],
             [
              0.8888888888888888,
              "#fdca26"
             ],
             [
              1,
              "#f0f921"
             ]
            ],
            "type": "histogram2dcontour"
           }
          ],
          "mesh3d": [
           {
            "colorbar": {
             "outlinewidth": 0,
             "ticks": ""
            },
            "type": "mesh3d"
           }
          ],
          "parcoords": [
           {
            "line": {
             "colorbar": {
              "outlinewidth": 0,
              "ticks": ""
             }
            },
            "type": "parcoords"
           }
          ],
          "pie": [
           {
            "automargin": true,
            "type": "pie"
           }
          ],
          "scatter": [
           {
            "fillpattern": {
             "fillmode": "overlay",
             "size": 10,
             "solidity": 0.2
            },
            "type": "scatter"
           }
          ],
          "scatter3d": [
           {
            "line": {
             "colorbar": {
              "outlinewidth": 0,
              "ticks": ""
             }
            },
            "marker": {
             "colorbar": {
              "outlinewidth": 0,
              "ticks": ""
             }
            },
            "type": "scatter3d"
           }
          ],
          "scattercarpet": [
           {
            "marker": {
             "colorbar": {
              "outlinewidth": 0,
              "ticks": ""
             }
            },
            "type": "scattercarpet"
           }
          ],
          "scattergeo": [
           {
            "marker": {
             "colorbar": {
              "outlinewidth": 0,
              "ticks": ""
             }
            },
            "type": "scattergeo"
           }
          ],
          "scattergl": [
           {
            "marker": {
             "colorbar": {
              "outlinewidth": 0,
              "ticks": ""
             }
            },
            "type": "scattergl"
           }
          ],
          "scattermap": [
           {
            "marker": {
             "colorbar": {
              "outlinewidth": 0,
              "ticks": ""
             }
            },
            "type": "scattermap"
           }
          ],
          "scattermapbox": [
           {
            "marker": {
             "colorbar": {
              "outlinewidth": 0,
              "ticks": ""
             }
            },
            "type": "scattermapbox"
           }
          ],
          "scatterpolar": [
           {
            "marker": {
             "colorbar": {
              "outlinewidth": 0,
              "ticks": ""
             }
            },
            "type": "scatterpolar"
           }
          ],
          "scatterpolargl": [
           {
            "marker": {
             "colorbar": {
              "outlinewidth": 0,
              "ticks": ""
             }
            },
            "type": "scatterpolargl"
           }
          ],
          "scatterternary": [
           {
            "marker": {
             "colorbar": {
              "outlinewidth": 0,
              "ticks": ""
             }
            },
            "type": "scatterternary"
           }
          ],
          "surface": [
           {
            "colorbar": {
             "outlinewidth": 0,
             "ticks": ""
            },
            "colorscale": [
             [
              0,
              "#0d0887"
             ],
             [
              0.1111111111111111,
              "#46039f"
             ],
             [
              0.2222222222222222,
              "#7201a8"
             ],
             [
              0.3333333333333333,
              "#9c179e"
             ],
             [
              0.4444444444444444,
              "#bd3786"
             ],
             [
              0.5555555555555556,
              "#d8576b"
             ],
             [
              0.6666666666666666,
              "#ed7953"
             ],
             [
              0.7777777777777778,
              "#fb9f3a"
             ],
             [
              0.8888888888888888,
              "#fdca26"
             ],
             [
              1,
              "#f0f921"
             ]
            ],
            "type": "surface"
           }
          ],
          "table": [
           {
            "cells": {
             "fill": {
              "color": "#EBF0F8"
             },
             "line": {
              "color": "white"
             }
            },
            "header": {
             "fill": {
              "color": "#C8D4E3"
             },
             "line": {
              "color": "white"
             }
            },
            "type": "table"
           }
          ]
         },
         "layout": {
          "annotationdefaults": {
           "arrowcolor": "#2a3f5f",
           "arrowhead": 0,
           "arrowwidth": 1
          },
          "autotypenumbers": "strict",
          "coloraxis": {
           "colorbar": {
            "outlinewidth": 0,
            "ticks": ""
           }
          },
          "colorscale": {
           "diverging": [
            [
             0,
             "#8e0152"
            ],
            [
             0.1,
             "#c51b7d"
            ],
            [
             0.2,
             "#de77ae"
            ],
            [
             0.3,
             "#f1b6da"
            ],
            [
             0.4,
             "#fde0ef"
            ],
            [
             0.5,
             "#f7f7f7"
            ],
            [
             0.6,
             "#e6f5d0"
            ],
            [
             0.7,
             "#b8e186"
            ],
            [
             0.8,
             "#7fbc41"
            ],
            [
             0.9,
             "#4d9221"
            ],
            [
             1,
             "#276419"
            ]
           ],
           "sequential": [
            [
             0,
             "#0d0887"
            ],
            [
             0.1111111111111111,
             "#46039f"
            ],
            [
             0.2222222222222222,
             "#7201a8"
            ],
            [
             0.3333333333333333,
             "#9c179e"
            ],
            [
             0.4444444444444444,
             "#bd3786"
            ],
            [
             0.5555555555555556,
             "#d8576b"
            ],
            [
             0.6666666666666666,
             "#ed7953"
            ],
            [
             0.7777777777777778,
             "#fb9f3a"
            ],
            [
             0.8888888888888888,
             "#fdca26"
            ],
            [
             1,
             "#f0f921"
            ]
           ],
           "sequentialminus": [
            [
             0,
             "#0d0887"
            ],
            [
             0.1111111111111111,
             "#46039f"
            ],
            [
             0.2222222222222222,
             "#7201a8"
            ],
            [
             0.3333333333333333,
             "#9c179e"
            ],
            [
             0.4444444444444444,
             "#bd3786"
            ],
            [
             0.5555555555555556,
             "#d8576b"
            ],
            [
             0.6666666666666666,
             "#ed7953"
            ],
            [
             0.7777777777777778,
             "#fb9f3a"
            ],
            [
             0.8888888888888888,
             "#fdca26"
            ],
            [
             1,
             "#f0f921"
            ]
           ]
          },
          "colorway": [
           "#636efa",
           "#EF553B",
           "#00cc96",
           "#ab63fa",
           "#FFA15A",
           "#19d3f3",
           "#FF6692",
           "#B6E880",
           "#FF97FF",
           "#FECB52"
          ],
          "font": {
           "color": "#2a3f5f"
          },
          "geo": {
           "bgcolor": "white",
           "lakecolor": "white",
           "landcolor": "#E5ECF6",
           "showlakes": true,
           "showland": true,
           "subunitcolor": "white"
          },
          "hoverlabel": {
           "align": "left"
          },
          "hovermode": "closest",
          "mapbox": {
           "style": "light"
          },
          "paper_bgcolor": "white",
          "plot_bgcolor": "#E5ECF6",
          "polar": {
           "angularaxis": {
            "gridcolor": "white",
            "linecolor": "white",
            "ticks": ""
           },
           "bgcolor": "#E5ECF6",
           "radialaxis": {
            "gridcolor": "white",
            "linecolor": "white",
            "ticks": ""
           }
          },
          "scene": {
           "xaxis": {
            "backgroundcolor": "#E5ECF6",
            "gridcolor": "white",
            "gridwidth": 2,
            "linecolor": "white",
            "showbackground": true,
            "ticks": "",
            "zerolinecolor": "white"
           },
           "yaxis": {
            "backgroundcolor": "#E5ECF6",
            "gridcolor": "white",
            "gridwidth": 2,
            "linecolor": "white",
            "showbackground": true,
            "ticks": "",
            "zerolinecolor": "white"
           },
           "zaxis": {
            "backgroundcolor": "#E5ECF6",
            "gridcolor": "white",
            "gridwidth": 2,
            "linecolor": "white",
            "showbackground": true,
            "ticks": "",
            "zerolinecolor": "white"
           }
          },
          "shapedefaults": {
           "line": {
            "color": "#2a3f5f"
           }
          },
          "ternary": {
           "aaxis": {
            "gridcolor": "white",
            "linecolor": "white",
            "ticks": ""
           },
           "baxis": {
            "gridcolor": "white",
            "linecolor": "white",
            "ticks": ""
           },
           "bgcolor": "#E5ECF6",
           "caxis": {
            "gridcolor": "white",
            "linecolor": "white",
            "ticks": ""
           }
          },
          "title": {
           "x": 0.05
          },
          "xaxis": {
           "automargin": true,
           "gridcolor": "white",
           "linecolor": "white",
           "ticks": "",
           "title": {
            "standoff": 15
           },
           "zerolinecolor": "white",
           "zerolinewidth": 2
          },
          "yaxis": {
           "automargin": true,
           "gridcolor": "white",
           "linecolor": "white",
           "ticks": "",
           "title": {
            "standoff": 15
           },
           "zerolinecolor": "white",
           "zerolinewidth": 2
          }
         }
        },
        "xaxis": {
         "anchor": "y",
         "domain": [
          0,
          1
         ],
         "title": {
          "text": "index"
         }
        },
        "yaxis": {
         "anchor": "x",
         "domain": [
          0,
          1
         ],
         "title": {
          "text": "value"
         }
        }
       }
      }
     },
     "metadata": {},
     "output_type": "display_data"
    }
   ],
   "source": [
    "px.bar(\n",
    "    xgb,\n",
    "    barmode=\"group\"\n",
    ")"
   ]
  },
  {
   "cell_type": "markdown",
   "id": "74c0a2b5",
   "metadata": {},
   "source": [
    "* Based on Medical Findings, the jitter and shimmer values from a pathological voice would be higher than that from a healthy voice. Same with Pitch Period Entropy (PPE). \n",
    "* Also the harmonics to noise ratio (HNR) are lower in PD-affected voices than in healthy voices\n",
    "* Since Studies show that no baseline values were established in distingusishing pathological values of Detrended Flunctuation Analysis (DFA) and Recurrent Period Density Entropy (RPDE), they will be excluded from the Analysis\n",
    "\n",
    "* Essentially, from analysis, it can be seen that the cluster with lower perturbation measures and higher HNR seem to have a milder impairment than those with higher perturbation measures and lower HNR."
   ]
  }
 ],
 "metadata": {
  "kernelspec": {
   "display_name": "Python 3",
   "language": "python",
   "name": "python3"
  },
  "language_info": {
   "codemirror_mode": {
    "name": "ipython",
    "version": 3
   },
   "file_extension": ".py",
   "mimetype": "text/x-python",
   "name": "python",
   "nbconvert_exporter": "python",
   "pygments_lexer": "ipython3",
   "version": "3.12.6"
  }
 },
 "nbformat": 4,
 "nbformat_minor": 5
}
